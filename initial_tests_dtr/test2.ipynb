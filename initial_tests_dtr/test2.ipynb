{
 "cells": [
  {
   "cell_type": "code",
   "execution_count": 49,
   "metadata": {},
   "outputs": [],
   "source": [
    "from sklearn.datasets import make_blobs\n",
    "from sklearn.datasets import make_regression\n",
    "from matplotlib import pyplot\n",
    "from pandas import DataFrame\n",
    "from sklearn import tree\n",
    "from sklearn.model_selection import train_test_split\n",
    "from sklearn.metrics import mean_squared_error as mse\n",
    "import matplotlib.pyplot as plt\n",
    "import pandas as pd\n",
    "import numpy as np\n",
    "from mpl_toolkits import mplot3d\n",
    "from sklearn.model_selection import cross_val_score\n",
    "from sklearn.model_selection import GridSearchCV\n",
    "from sklearn.model_selection import PredefinedSplit\n",
    "from hypopt import GridSearch \n",
    "from random import randrange\n",
    "import matplotlib.pyplot as plt"
   ]
  },
  {
   "cell_type": "markdown",
   "metadata": {},
   "source": [
    "### Single iteration:"
   ]
  },
  {
   "cell_type": "markdown",
   "metadata": {},
   "source": [
    "$$\n",
    "y_i = a_1 * x_{1i} + a_2 * x_{2i} + D_i * x_{i3} + \\epsilon_i\n",
    "$$\n",
    "\n",
    "$$\n",
    "x_1, x_3 \\sim \\mathcal{N}(0, 1)\n",
    "$$\n",
    "$$\n",
    "x_2 \\sim \\mathcal{N}(0.5,1)\n",
    "$$\n",
    "$$\n",
    "\\epsilon \\sim \\mathcal{N}(0, 0.8^2)\n",
    "$$\n",
    "\n",
    "$$\n",
    "pr(D_i = 1) = 2/3\n",
    "$$"
   ]
  },
  {
   "cell_type": "markdown",
   "metadata": {},
   "source": [
    "<img src=\"test2.png\">"
   ]
  },
  {
   "cell_type": "code",
   "execution_count": null,
   "metadata": {},
   "outputs": [],
   "source": []
  },
  {
   "cell_type": "code",
   "execution_count": 150,
   "metadata": {},
   "outputs": [],
   "source": [
    "#function to train the tree on training set, find best max_depth on validation set, and predict on test set\n",
    "def DT_test(X_tr, y_tr, X_v, y_v, X_test, y_test, state, depth):\n",
    "    yhat = []\n",
    "    leaf = []\n",
    "    score_max = 0\n",
    "    max_depth_index = 1\n",
    "    for i in depth:\n",
    "        r = tree.DecisionTreeRegressor(max_depth = i, random_state = state)\n",
    "        r = r.fit(X_tr, y_tr)\n",
    "        score = r.score(X_v, y_v)\n",
    "        #print(score)\n",
    "        #find best parameter on validation set\n",
    "        if score > score_max:\n",
    "            score_max = score\n",
    "            max_depth_index = i\n",
    "    #fit on test set with best param\n",
    "    r2 = tree.DecisionTreeRegressor(max_depth = max_depth_index)\n",
    "    r2 = r2.fit(X_tr, y_tr)\n",
    "    score_test = r2.score(X_test, y_test)\n",
    "    yhat = r2.predict(X_test)\n",
    "    leaf = r2.get_n_leaves()\n",
    "    mse_test = mse(y_test, yhat)\n",
    "    depth_idx = r2.get_depth()\n",
    "    return score_test, depth_idx, mse_test, leaf"
   ]
  },
  {
   "cell_type": "code",
   "execution_count": 151,
   "metadata": {},
   "outputs": [],
   "source": [
    "n = 500\n",
    "a1 = 2\n",
    "a2 = 0.5"
   ]
  },
  {
   "cell_type": "code",
   "execution_count": 149,
   "metadata": {},
   "outputs": [
    {
     "name": "stdout",
     "output_type": "stream",
     "text": [
      "(0.7290591452348157, 9, 1.4332055412598848, 127)\n",
      "(0.569869473516093, 6, 2.275276847989714, 48)\n"
     ]
    }
   ],
   "source": [
    "x1 = np.random.normal(loc = 0.0, scale = 1.0, size = (n,1))\n",
    "x2 = np.random.normal(loc = 0.0, scale = 1.0, size = (n,1))\n",
    "x3_ = np.random.normal(loc = 0.5, scale = 1.0, size = (n,1))\n",
    "e = np.random.normal(loc = 0.0, scale = 0.8, size = (n,1))\n",
    "d = np.random.choice([0, 1], size=(n,1), p=[1./3, 2./3])\n",
    "x3 = np.multiply(x3_, d)\n",
    "\n",
    "y = np.add(x1*a1, x2*a2)\n",
    "y = np.add(y, x3)\n",
    "y = np.add(y, e)\n",
    "X = np.concatenate((x1,x2), axis=1)\n",
    "X = np.concatenate((X,x3), axis=1)\n",
    "#data = pd.DataFrame({'X1': x1[:,0], 'X2': x2[:,0], 'y': y[:,0]}, columns=['X1', 'X2', 'y'])\n",
    "\n",
    "X_train, X_test, y_train, y_test = train_test_split(X, y, test_size=0.3)\n",
    "X_train, X_val, y_train, y_val = train_test_split(X_train, y_train, test_size=0.5)\n",
    "\n",
    "#same state for swapping\n",
    "state = randrange(999999)\n",
    "\n",
    "depth = np.arange(2,10)\n",
    "#swapping between training and validation sets\n",
    "tr_val = DT_test(X_train, y_train, X_val, y_val, X_test, y_test, state, depth)\n",
    "val_tr = DT_test(X_val, y_val, X_train, y_train, X_test, y_test, state, depth)\n",
    "print(tr_val)\n",
    "print(val_tr)"
   ]
  },
  {
   "cell_type": "code",
   "execution_count": 139,
   "metadata": {},
   "outputs": [],
   "source": [
    "accuracy_diff = []\n",
    "depth_diff = []\n",
    "mse_diff = []\n",
    "leaves_diff = []\n",
    "mse1 = []\n",
    "mse2 = []\n",
    "\n",
    "\n",
    "for j in range(1000):\n",
    "    x1 = np.random.normal(loc = 0.0, scale = 1.0, size = (n,1))\n",
    "    x2 = np.random.normal(loc = 0.5, scale = 1.0, size = (n,1))\n",
    "    x3_ = np.random.normal(loc = 0.0, scale = 1.0, size = (n,1))\n",
    "    e = np.random.normal(loc = 0.0, scale = 0.8, size = (n,1))\n",
    "    d = np.random.choice([0, 1.0], size=(n,1), p=[1./3, 2./3])\n",
    "    x3 = np.multiply(x3_, d)\n",
    "\n",
    "    y = np.add(x1*a1, x2*a2)\n",
    "    y = np.add(y, x3)\n",
    "    y = np.add(y, e)\n",
    "    X = np.concatenate((x1,x2), axis=1)\n",
    "    X = np.concatenate((X,x3), axis=1)\n",
    "    #data = pd.DataFrame({'X1': x1[:,0], 'X2': x2[:,0], 'y': y[:,0]}, columns=['X1', 'X2', 'y'])\n",
    "\n",
    "    X_train, X_test, y_train, y_test = train_test_split(X, y, test_size=0.3)\n",
    "    X_train, X_val, y_train, y_val = train_test_split(X_train, y_train, test_size=0.5)\n",
    "\n",
    "    #same state for swapping\n",
    "    state = randrange(999999)\n",
    "\n",
    "    depth = np.arange(2,10)\n",
    "    tr_val = DT_test(X_train, y_train, X_val, y_val, X_test, y_test, state, depth)\n",
    "    val_tr = DT_test(X_val, y_val, X_train, y_train, X_test, y_test, state, depth)\n",
    "    \n",
    "    accuracy_diff.append(abs(tr_val[0] - val_tr[0]))\n",
    "    depth_diff.append(abs(tr_val[1] - val_tr[1]))\n",
    "    mse_diff.append(abs(tr_val[2] - val_tr[2]))\n",
    "    leaves_diff.append(abs(tr_val[3] - val_tr[3]))\n",
    "    mse1.append(tr_val[2])\n",
    "    mse2.append(val_tr[2])"
   ]
  },
  {
   "cell_type": "code",
   "execution_count": 153,
   "metadata": {},
   "outputs": [
    {
     "name": "stdout",
     "output_type": "stream",
     "text": [
      "average mse1: 1.5737649689139066\n",
      "average mse2: 1.5839975672120823\n"
     ]
    },
    {
     "data": {
      "text/plain": [
       "[<matplotlib.lines.Line2D at 0x14e514f8d00>]"
      ]
     },
     "execution_count": 153,
     "metadata": {},
     "output_type": "execute_result"
    },
    {
     "data": {
      "image/png": "[encoded data removed]",
      "text/plain": [
       "<Figure size 432x288 with 1 Axes>"
      ]
     },
     "metadata": {
      "needs_background": "light"
     },
     "output_type": "display_data"
    }
   ],
   "source": [
    "print('average mse1: '  + str(np.mean(mse1)))\n",
    "print('average mse2: ' + str(np.mean(mse2)))\n",
    "plt.plot(mse_diff)"
   ]
  },
  {
   "cell_type": "code",
   "execution_count": null,
   "metadata": {},
   "outputs": [],
   "source": []
  },
  {
   "cell_type": "code",
   "execution_count": 141,
   "metadata": {},
   "outputs": [
    {
     "data": {
      "text/plain": [
       "(array([230., 361.,   0., 227.,   0., 138.,  34.,   0.,   6.,   4.]),\n",
       " array([0. , 0.6, 1.2, 1.8, 2.4, 3. , 3.6, 4.2, 4.8, 5.4, 6. ]),\n",
       " <BarContainer object of 10 artists>)"
      ]
     },
     "execution_count": 141,
     "metadata": {},
     "output_type": "execute_result"
    },
    {
     "data": {
      "image/png": "[encoded data removed]",
      "text/plain": [
       "<Figure size 432x288 with 1 Axes>"
      ]
     },
     "metadata": {
      "needs_background": "light"
     },
     "output_type": "display_data"
    }
   ],
   "source": [
    "plt.hist(depth_diff)"
   ]
  },
  {
   "cell_type": "code",
   "execution_count": 134,
   "metadata": {},
   "outputs": [
    {
     "data": {
      "text/plain": [
       "(array([214., 222., 159., 128., 118.,  65.,  44.,  22.,  21.,   7.]),\n",
       " array([  0. ,  10.9,  21.8,  32.7,  43.6,  54.5,  65.4,  76.3,  87.2,\n",
       "         98.1, 109. ]),\n",
       " <BarContainer object of 10 artists>)"
      ]
     },
     "execution_count": 134,
     "metadata": {},
     "output_type": "execute_result"
    },
    {
     "data": {
      "image/png": "[encoded data removed]",
      "text/plain": [
       "<Figure size 432x288 with 1 Axes>"
      ]
     },
     "metadata": {
      "needs_background": "light"
     },
     "output_type": "display_data"
    }
   ],
   "source": [
    "plt.hist(leaves_diff)"
   ]
  }
 ],
 "metadata": {
  "kernelspec": {
   "display_name": "Python 3",
   "language": "python",
   "name": "python3"
  },
  "language_info": {
   "codemirror_mode": {
    "name": "ipython",
    "version": 3
   },
   "file_extension": ".py",
   "mimetype": "text/x-python",
   "name": "python",
   "nbconvert_exporter": "python",
   "pygments_lexer": "ipython3",
   "version": "3.8.3"
  }
 },
 "nbformat": 4,
 "nbformat_minor": 4
}
