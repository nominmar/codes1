{
 "cells": [
  {
   "cell_type": "code",
   "execution_count": 7,
   "metadata": {},
   "outputs": [],
   "source": [
    "from sklearn.datasets import make_blobs\n",
    "from sklearn.datasets import make_regression\n",
    "from matplotlib import pyplot\n",
    "from pandas import DataFrame\n",
    "from sklearn import tree\n",
    "from sklearn.model_selection import train_test_split\n",
    "from sklearn.metrics import mean_squared_error as mse\n",
    "import matplotlib.pyplot as plt\n",
    "import pandas as pd\n",
    "import numpy as np\n",
    "from mpl_toolkits import mplot3d\n",
    "from sklearn.model_selection import cross_val_score\n",
    "from sklearn.model_selection import GridSearchCV\n",
    "from sklearn.model_selection import PredefinedSplit\n",
    "from hypopt import GridSearch \n",
    "from random import randrange\n",
    "import matplotlib.pyplot as plt\n",
    "from sklearn.model_selection import KFold\n",
    "r = tree.DecisionTreeRegressor(max_depth = 3)\n",
    "from sklearn.utils import resample"
   ]
  },
  {
   "cell_type": "code",
   "execution_count": 8,
   "metadata": {},
   "outputs": [],
   "source": [
    "n = 500\n",
    "a1 = 2\n",
    "a2 = 0.5"
   ]
  },
  {
   "cell_type": "markdown",
   "metadata": {},
   "source": [
    "<img src=\"test3.png\">"
   ]
  },
  {
   "cell_type": "code",
   "execution_count": 20,
   "metadata": {},
   "outputs": [
    {
     "name": "stdout",
     "output_type": "stream",
     "text": [
      "2.2214577987486788\n",
      "2.1203676116193932\n",
      "2.196065097511324\n",
      "2.1179323319906675\n",
      "0.2585320602629587\n",
      "0.1772741305822798\n",
      "0.177069179111475\n",
      "0.21501133090252314\n"
     ]
    }
   ],
   "source": [
    "MSE1 = []\n",
    "MSE2 = []\n",
    "MSE3 = []\n",
    "MSE4 = []\n",
    "for j in range(999):\n",
    "    x1 = np.random.normal(loc = 0.5, scale = 1.0, size = (n,1))\n",
    "    x2 = np.random.normal(loc = 0.0, scale = 1.0, size = (n,1))\n",
    "    x3_ = np.random.normal(loc = 0.5, scale = 1.0, size = (n,1))\n",
    "    e = np.random.normal(loc = 0.0, scale = 0.8, size = (n,1))\n",
    "    d = np.random.choice([0, 1.5], size=(n,1), p=[1./3, 2./3])\n",
    "    x3 = np.multiply(x3_, d)\n",
    "\n",
    "    y = np.add(x1*a1, x2*a2)\n",
    "    y = np.add(y, x3)\n",
    "    y = np.add(y, e)\n",
    "    X = np.concatenate((x1,x2), axis=1)\n",
    "    X = np.concatenate((X,x3), axis=1)\n",
    "    #data = pd.DataFrame({'X1': x1[:,0], 'X2': x2[:,0], 'y': y[:,0]}, columns=['X1', 'X2', 'y'])\n",
    "\n",
    "\n",
    "    X_train, X_test, y_train, y_test = train_test_split(X, y, test_size=0.5)\n",
    "    r = r.fit(X_train, y_train)\n",
    "    yhat = r.predict(X_test)\n",
    "    mse1 = mse(y_test, yhat)\n",
    "    MSE1.append(mse1)\n",
    "    \n",
    "    \n",
    "    \n",
    "    #CV\n",
    "    kf = KFold(n_splits=5)\n",
    "    kf.get_n_splits(X)\n",
    "\n",
    "    mse2 = []\n",
    "    for train_index, test_index in kf.split(X):\n",
    "        X_train2, X_test2 = X[train_index], X[test_index]\n",
    "        y_train2, y_test2 = y[train_index], y[test_index]\n",
    "        r.fit(X_train2, y_train2)\n",
    "        yhat2 = r.predict(X_test2)\n",
    "        mse2.append(mse(y_test2, yhat2))\n",
    "    MSE2.append(np.mean(mse2))\n",
    "    \n",
    "    \n",
    "    \n",
    "    data = pd.DataFrame({'X1': X[:,0], 'X2': X[:,1], 'X3': X[:,2], 'y': y[:,0]}, columns=['X1', 'X2', 'X3','y'])\n",
    "    mse3 = []\n",
    "    for q in range(5):\n",
    "        X3, y3 = resample(X, y)\n",
    "        data_res = pd.DataFrame({'X1': X3[:,0], 'X2': X3[:,1], 'X3': X3[:,2], 'y': y3[:,0]}, columns=['X1', 'X2', 'X3','y'])\n",
    "        data['condition'] = data['y'].isin(data_res['y'])\n",
    "        test_sample = data[data['condition'] == False]\n",
    "        X_test3 = test_sample[['X1', 'X2', 'X3']]\n",
    "        y_test3 = test_sample['y']\n",
    "    \n",
    "        r = r.fit(X3, y3)\n",
    "        yhat3 = r.predict(X_test3)\n",
    "        mse3.append(mse(y_test3, yhat3))\n",
    "    MSE3.append(np.mean(mse3))\n",
    "    \n",
    "    \n",
    "    mse4 = []\n",
    "    for q in range(5):\n",
    "        X4, y4 = resample(X, y, n_samples = 100)\n",
    "        data_res = pd.DataFrame({'X1': X4[:,0], 'X2': X4[:,1], 'X3': X4[:,2], 'y': y4[:,0]}, columns=['X1', 'X2', 'X3','y'])\n",
    "        data['condition'] = data['y'].isin(data_res['y'])\n",
    "        train_sample = data[data['condition'] == False]\n",
    "        X_train3 = train_sample[['X1', 'X2', 'X3']]\n",
    "        y_train3 = train_sample['y']\n",
    "    \n",
    "        r = r.fit(X_train3, y_train3)\n",
    "        yhat4 = r.predict(X4)\n",
    "        mse4.append(mse(y4, yhat4))\n",
    "    MSE4.append(np.mean(mse4))\n",
    "    \n",
    "print(np.mean(MSE1))\n",
    "print(np.mean(MSE2))\n",
    "print(np.mean(MSE3))\n",
    "print(np.mean(MSE4))\n",
    "print(np.std(MSE1))\n",
    "print(np.std(MSE2))\n",
    "print(np.std(MSE3))\n",
    "print(np.std(MSE4))"
   ]
  },
  {
   "cell_type": "code",
   "execution_count": 21,
   "metadata": {},
   "outputs": [],
   "source": [
    "results = pd.DataFrame({'1/2 Test-Train Split': [np.mean(MSE1), np.std(MSE1)], '5 Fold CV': [np.mean(MSE2), np.std(MSE2)], 'Resample training data (rep5)': [np.mean(MSE3), np.std(MSE3)], 'Resample test data (rep5)': [np.mean(MSE4), np.std(MSE4)]}, index = ['MSE Mean (MC rep = 1000)', 'MSE St Dev (MC rep = 1000)'])"
   ]
  },
  {
   "cell_type": "code",
   "execution_count": 22,
   "metadata": {},
   "outputs": [
    {
     "data": {
      "text/html": [
       "<div>\n",
       "<style scoped>\n",
       "    .dataframe tbody tr th:only-of-type {\n",
       "        vertical-align: middle;\n",
       "    }\n",
       "\n",
       "    .dataframe tbody tr th {\n",
       "        vertical-align: top;\n",
       "    }\n",
       "\n",
       "    .dataframe thead th {\n",
       "        text-align: right;\n",
       "    }\n",
       "</style>\n",
       "<table border=\"1\" class=\"dataframe\">\n",
       "  <thead>\n",
       "    <tr style=\"text-align: right;\">\n",
       "      <th></th>\n",
       "      <th>1/2 Test-Train Split</th>\n",
       "      <th>5 Fold CV</th>\n",
       "      <th>Resample training data (rep5)</th>\n",
       "      <th>Resample test data (rep5)</th>\n",
       "    </tr>\n",
       "  </thead>\n",
       "  <tbody>\n",
       "    <tr>\n",
       "      <th>MSE Mean (MC rep = 1000)</th>\n",
       "      <td>2.221458</td>\n",
       "      <td>2.120368</td>\n",
       "      <td>2.196065</td>\n",
       "      <td>2.117932</td>\n",
       "    </tr>\n",
       "    <tr>\n",
       "      <th>MSE St Dev (MC rep = 1000)</th>\n",
       "      <td>0.258532</td>\n",
       "      <td>0.177274</td>\n",
       "      <td>0.177069</td>\n",
       "      <td>0.215011</td>\n",
       "    </tr>\n",
       "  </tbody>\n",
       "</table>\n",
       "</div>"
      ],
      "text/plain": [
       "                            1/2 Test-Train Split  5 Fold CV  \\\n",
       "MSE Mean (MC rep = 1000)                2.221458   2.120368   \n",
       "MSE St Dev (MC rep = 1000)              0.258532   0.177274   \n",
       "\n",
       "                            Resample training data (rep5)  \\\n",
       "MSE Mean (MC rep = 1000)                         2.196065   \n",
       "MSE St Dev (MC rep = 1000)                       0.177069   \n",
       "\n",
       "                            Resample test data (rep5)  \n",
       "MSE Mean (MC rep = 1000)                     2.117932  \n",
       "MSE St Dev (MC rep = 1000)                   0.215011  "
      ]
     },
     "execution_count": 22,
     "metadata": {},
     "output_type": "execute_result"
    }
   ],
   "source": [
    "results"
   ]
  },
  {
   "cell_type": "code",
   "execution_count": 18,
   "metadata": {},
   "outputs": [],
   "source": [
    "mse4 = []\n",
    "X4, y4 = resample(X, y, n_samples = 100)\n",
    "data_res = pd.DataFrame({'X1': X4[:,0], 'X2': X4[:,1], 'X3': X4[:,2], 'y': y4[:,0]}, columns=['X1', 'X2', 'X3','y'])\n",
    "data['condition'] = data['y'].isin(data_res['y'])\n",
    "train_sample = data[data['condition'] == False]\n",
    "X_train3 = train_sample[['X1', 'X2', 'X3']]\n",
    "y_train3 = train_sample['y']\n",
    "\n",
    "r = r.fit(X_train3, y_train3)\n",
    "yhat4 = r.predict(X4)\n",
    "mse4.append(mse(y4, yhat4))"
   ]
  },
  {
   "cell_type": "code",
   "execution_count": 19,
   "metadata": {},
   "outputs": [
    {
     "data": {
      "text/plain": [
       "410"
      ]
     },
     "execution_count": 19,
     "metadata": {},
     "output_type": "execute_result"
    }
   ],
   "source": [
    "len(data[data['condition'] == False])"
   ]
  },
  {
   "cell_type": "code",
   "execution_count": null,
   "metadata": {},
   "outputs": [],
   "source": [
    "#set up simple model with heterogeneous causal effects\n",
    "#treatment -> random\n",
    "#3-4 X vars (1 relevant for treatment effect D=1 if x>0, D=2 if x<0 etc.)\n",
    "#use causal tree -> estimate\n",
    "#it works?\n",
    "\n",
    "#monte carlo\n",
    "\n",
    "#investigate: how sample affects the results\n",
    "\n",
    "#1 split (along relevant X)\n"
   ]
  }
 ],
 "metadata": {
  "kernelspec": {
   "display_name": "Python 3",
   "language": "python",
   "name": "python3"
  },
  "language_info": {
   "codemirror_mode": {
    "name": "ipython",
    "version": 3
   },
   "file_extension": ".py",
   "mimetype": "text/x-python",
   "name": "python",
   "nbconvert_exporter": "python",
   "pygments_lexer": "ipython3",
   "version": "3.8.3"
  }
 },
 "nbformat": 4,
 "nbformat_minor": 4
}
