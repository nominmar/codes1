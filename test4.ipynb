{
 "cells": [
  {
   "cell_type": "code",
   "execution_count": 2,
   "metadata": {},
   "outputs": [],
   "source": [
    "import pandas as pd\n",
    "import numpy as np\n",
    "from sklearn.model_selection import train_test_split\n",
    "from sklearn.tree import DecisionTreeRegressor\n",
    "from econml.dml import CausalForestDML \n",
    "from sklearn.linear_model import LassoCV"
   ]
  },
  {
   "cell_type": "markdown",
   "metadata": {},
   "source": [
    "$$\n",
    "y_i =  x_{4} + x_{3} + x_{2} + x_{1}(2D - 1) + \\epsilon_i\n",
    "$$\n",
    "$$\n",
    "x_1, x_2 \\sim \\mathcal{N}(0, 1)\n",
    "$$\n",
    "$$\n",
    "pr(D = 1) = \\frac{1}{2}\n",
    "$$\n",
    "$$\n",
    "\\epsilon \\sim \\mathcal{N}(0, 0.01)\n",
    "$$\n",
    "\n"
   ]
  },
  {
   "cell_type": "code",
   "execution_count": 1,
   "metadata": {},
   "outputs": [
    {
     "ename": "NameError",
     "evalue": "name 'np' is not defined",
     "output_type": "error",
     "traceback": [
      "\u001b[1;31m---------------------------------------------------------------------------\u001b[0m",
      "\u001b[1;31mNameError\u001b[0m                                 Traceback (most recent call last)",
      "\u001b[1;32m<ipython-input-1-9ce4122eae40>\u001b[0m in \u001b[0;36m<module>\u001b[1;34m\u001b[0m\n\u001b[0;32m      1\u001b[0m \u001b[0mn\u001b[0m\u001b[1;33m=\u001b[0m\u001b[1;36m1000\u001b[0m\u001b[1;33m\u001b[0m\u001b[1;33m\u001b[0m\u001b[0m\n\u001b[0;32m      2\u001b[0m \u001b[0mp\u001b[0m\u001b[1;33m=\u001b[0m\u001b[1;33m[\u001b[0m\u001b[1;36m1.\u001b[0m\u001b[1;33m/\u001b[0m\u001b[1;36m2\u001b[0m\u001b[1;33m,\u001b[0m \u001b[1;36m1.\u001b[0m\u001b[1;33m/\u001b[0m\u001b[1;36m2\u001b[0m\u001b[1;33m]\u001b[0m\u001b[1;33m\u001b[0m\u001b[1;33m\u001b[0m\u001b[0m\n\u001b[1;32m----> 3\u001b[1;33m \u001b[0md\u001b[0m \u001b[1;33m=\u001b[0m \u001b[0mnp\u001b[0m\u001b[1;33m.\u001b[0m\u001b[0mrandom\u001b[0m\u001b[1;33m.\u001b[0m\u001b[0mchoice\u001b[0m\u001b[1;33m(\u001b[0m\u001b[1;33m[\u001b[0m\u001b[1;36m0\u001b[0m\u001b[1;33m,\u001b[0m \u001b[1;36m1\u001b[0m\u001b[1;33m]\u001b[0m\u001b[1;33m,\u001b[0m \u001b[0msize\u001b[0m\u001b[1;33m=\u001b[0m\u001b[1;33m(\u001b[0m\u001b[0mn\u001b[0m\u001b[1;33m,\u001b[0m\u001b[1;36m1\u001b[0m\u001b[1;33m)\u001b[0m\u001b[1;33m,\u001b[0m \u001b[0mp\u001b[0m\u001b[1;33m=\u001b[0m\u001b[0mp\u001b[0m\u001b[1;33m)\u001b[0m\u001b[1;33m\u001b[0m\u001b[1;33m\u001b[0m\u001b[0m\n\u001b[0m\u001b[0;32m      4\u001b[0m \u001b[0mx1\u001b[0m \u001b[1;33m=\u001b[0m \u001b[0mnp\u001b[0m\u001b[1;33m.\u001b[0m\u001b[0mrandom\u001b[0m\u001b[1;33m.\u001b[0m\u001b[0mnormal\u001b[0m\u001b[1;33m(\u001b[0m\u001b[0mloc\u001b[0m \u001b[1;33m=\u001b[0m \u001b[1;36m0.0\u001b[0m\u001b[1;33m,\u001b[0m \u001b[0mscale\u001b[0m \u001b[1;33m=\u001b[0m \u001b[1;36m1.0\u001b[0m\u001b[1;33m,\u001b[0m \u001b[0msize\u001b[0m \u001b[1;33m=\u001b[0m \u001b[1;33m(\u001b[0m\u001b[0mn\u001b[0m\u001b[1;33m,\u001b[0m\u001b[1;36m1\u001b[0m\u001b[1;33m)\u001b[0m\u001b[1;33m)\u001b[0m\u001b[1;33m\u001b[0m\u001b[1;33m\u001b[0m\u001b[0m\n\u001b[0;32m      5\u001b[0m \u001b[0mx2\u001b[0m \u001b[1;33m=\u001b[0m \u001b[0mnp\u001b[0m\u001b[1;33m.\u001b[0m\u001b[0mrandom\u001b[0m\u001b[1;33m.\u001b[0m\u001b[0mnormal\u001b[0m\u001b[1;33m(\u001b[0m\u001b[0mloc\u001b[0m \u001b[1;33m=\u001b[0m \u001b[1;36m0.0\u001b[0m\u001b[1;33m,\u001b[0m \u001b[0mscale\u001b[0m \u001b[1;33m=\u001b[0m \u001b[1;36m1.0\u001b[0m\u001b[1;33m,\u001b[0m \u001b[0msize\u001b[0m \u001b[1;33m=\u001b[0m \u001b[1;33m(\u001b[0m\u001b[0mn\u001b[0m\u001b[1;33m,\u001b[0m\u001b[1;36m1\u001b[0m\u001b[1;33m)\u001b[0m\u001b[1;33m)\u001b[0m\u001b[1;33m\u001b[0m\u001b[1;33m\u001b[0m\u001b[0m\n",
      "\u001b[1;31mNameError\u001b[0m: name 'np' is not defined"
     ]
    }
   ],
   "source": [
    "n=1000\n",
    "p=[1./2, 1./2]\n",
    "d = np.random.choice([0, 1], size=(n,1), p=p)\n",
    "x1 = np.random.normal(loc = 0.0, scale = 1.0, size = (n,1))\n",
    "x2 = np.random.normal(loc = 0.0, scale = 1.0, size = (n,1))\n",
    "x3 = np.random.normal(loc = 0.0, scale = 1.0, size = (n,1))\n",
    "x4 = np.random.normal(loc = 0.0, scale = 1.0, size = (n,1))    \n",
    "e = np.random.normal(loc = 0.0, scale = 1.0, size = (n,1))\n",
    "\n",
    "d_1 = np.zeros((n,1))\n",
    "ind = np.zeros((n,1))\n",
    "ind[np.where(x1 >= 0)] = 2\n",
    "y1 = np.add(d*-1, np.multiply(ind,d))\n",
    "y2 = np.add(y1, x2)\n",
    "y3 = np.add(y2, x3)\n",
    "y4 = np.add(y2, x4)\n",
    "y = np.add(y4, e)\n",
    "\n",
    "\n",
    "\n",
    "X = np.concatenate((x1,x2), axis=1)\n",
    "X = np.concatenate((X,x3), axis=1)\n",
    "X = np.concatenate((X,x4), axis = 1)\n",
    "X = np.concatenate((X,d), axis = 1)\n",
    "\n",
    "data = pd.DataFrame({'y': y[:,0], 'X1': x1[:,0], 'd': d[:,0]}, columns=['y', 'X1', 'd'])\n",
    "print(data['y'][(data['X1'] > 0) & (data['d'] == 1)].mean() - data['y'][(data['X1'] > 0) & (data['d'] == 0)].mean())\n",
    "print(data['y'][(data['X1'] < 0) & (data['d'] == 1)].mean() - data['y'][(data['X1'] < 0) & (data['d'] == 0)].mean())\n",
    "print(data['y'][data['d'] == 1].mean() - data['y'][data['d'] == 0].mean())"
   ]
  },
  {
   "cell_type": "code",
   "execution_count": 39,
   "metadata": {},
   "outputs": [
    {
     "data": {
      "text/plain": [
       "<matplotlib.collections.PathCollection at 0x1cd43197400>"
      ]
     },
     "execution_count": 39,
     "metadata": {},
     "output_type": "execute_result"
    },
    {
     "data": {
      "image/png": "[encoded data removed]",
      "text/plain": [
       "<Figure size 432x288 with 1 Axes>"
      ]
     },
     "metadata": {
      "needs_background": "light"
     },
     "output_type": "display_data"
    }
   ],
   "source": [
    "import matplotlib.pyplot as plt\n",
    "plt.scatter(data['y'], data['X1'])"
   ]
  },
  {
   "cell_type": "code",
   "execution_count": 10,
   "metadata": {},
   "outputs": [
    {
     "name": "stdout",
     "output_type": "stream",
     "text": [
      "[[-0.08734815]\n",
      " [-0.1633942 ]\n",
      " [-0.57110389]\n",
      " [ 0.47045967]\n",
      " [-1.15843119]\n",
      " [-0.03868389]\n",
      " [ 1.00041182]\n",
      " [ 2.34566628]\n",
      " [ 0.37159906]\n",
      " [ 2.28634873]]\n",
      "[[0.]\n",
      " [0.]\n",
      " [0.]\n",
      " [2.]\n",
      " [0.]\n",
      " [0.]\n",
      " [2.]\n",
      " [2.]\n",
      " [2.]\n",
      " [2.]]\n",
      "[[-1.]\n",
      " [-1.]\n",
      " [-1.]\n",
      " [ 2.]\n",
      " [-1.]\n",
      " [-1.]\n",
      " [ 1.]\n",
      " [ 1.]\n",
      " [ 1.]\n",
      " [ 2.]]\n"
     ]
    }
   ],
   "source": [
    "n=10\n",
    "p=[1./2, 1./2]\n",
    "d = np.random.choice([0, 1], size=(n,1), p=p)\n",
    "x1 = np.random.normal(loc = 0.0, scale = 1.0, size = (n,1))\n",
    "x2 = np.random.normal(loc = 0.0, scale = 1.0, size = (n,1))\n",
    "x3 = np.random.normal(loc = 0.0, scale = 1.0, size = (n,1))\n",
    "x4 = np.random.normal(loc = 0.0, scale = 1.0, size = (n,1))    \n",
    "e = np.random.normal(loc = 0.0, scale = 0.1, size = (n,1))\n",
    "print(x1)\n",
    "ind = np.zeros((n,1))\n",
    "ind[np.where(x1 >= 0)] = 2\n",
    "y1 = np.add(d*-1, ind)\n",
    "print(ind)\n",
    "print(y1)"
   ]
  },
  {
   "cell_type": "code",
   "execution_count": 26,
   "metadata": {},
   "outputs": [
    {
     "name": "stdout",
     "output_type": "stream",
     "text": [
      "5.837208146837043\n",
      "7.987146839000555\n",
      "3.97606718944176\n",
      "4.011079649558795\n"
     ]
    }
   ],
   "source": [
    "ymean = []\n",
    "y_tr = []\n",
    "y_c = []\n",
    "\n",
    "n = 1000\n",
    "\n",
    "X, y = dgp1(n)\n",
    "for i in range(100):\n",
    "    #p=[1,0]\n",
    "    data = pd.DataFrame({'y': y[:,0], 'X1': X[:,0], 'X2': X[:,1], 'X3': X[:,2], 'X4': X[:,3], 'd': X[:,4]}, columns=['y', 'X1', 'X2', 'X3', 'X4', 'd'])\n",
    "    ymean.append(np.mean(y))\n",
    "    y_c.append(data.groupby('d').mean().iloc[0,0])\n",
    "    y_tr.append(data.groupby('d').mean().iloc[1,0])\n",
    "\n",
    "print(np.mean(ymean))\n",
    "print(np.mean(y_tr))\n",
    "print(np.mean(y_c))\n",
    "print(np.mean(y_tr) - np.mean(y_c))"
   ]
  },
  {
   "cell_type": "code",
   "execution_count": 6,
   "metadata": {},
   "outputs": [
    {
     "name": "stdout",
     "output_type": "stream",
     "text": [
      "1.6525350898708577\n",
      "-1.5985585658963828\n",
      "-0.006110228899574285\n"
     ]
    },
    {
     "data": {
      "image/png": "[encoded data removed]",
      "text/latex": [
       "$\\displaystyle \\left( 1000,\\right)$"
      ],
      "text/plain": [
       "(1000,)"
      ]
     },
     "execution_count": 6,
     "metadata": {},
     "output_type": "execute_result"
    }
   ],
   "source": [
    "n = 1000\n",
    "output = dgp1(n)\n",
    "\n",
    "\n",
    "\n",
    "x = output[0]\n",
    "y = output[1][:,0]\n",
    "X= x[:,0:3]\n",
    "d = x[:,4]\n",
    "y.shape"
   ]
  },
  {
   "cell_type": "code",
   "execution_count": 188,
   "metadata": {},
   "outputs": [],
   "source": [
    "X_train, X_test, y_train, y_test = train_test_split(x, y, test_size = 0.5)\n",
    "est = CausalForestDML(discrete_treatment = True, honest = False)\n"
   ]
  },
  {
   "cell_type": "code",
   "execution_count": 189,
   "metadata": {},
   "outputs": [
    {
     "data": {
      "image/png": "[encoded data removed]",
      "text/latex": [
       "$\\displaystyle 0.0562452285096229$"
      ],
      "text/plain": [
       "0.056245228509622935"
      ]
     },
     "execution_count": 189,
     "metadata": {},
     "output_type": "execute_result"
    }
   ],
   "source": [
    "# Use defaults\n",
    "\n",
    "#est = CausalForestDML()\n",
    "# Or specify hyperparameters\n",
    "#est = CausalForestDML(criterion='het', n_estimators=500,       \n",
    "est.fit(Y = y_train, T = X_train[:,4], X = X_train[:,0:3], W = X_train[:,0].reshape(-1,1))\n",
    "treatment_effects = est.effect(X = X_test[:,0:3])\n",
    "est.ate(X_test[:,0:3])\n",
    "\n",
    "# Confidence intervals via Bootstrap-of-Little-Bags for forests\n",
    "#lb, ub = est.effect_interval(X_test, alpha=0.05)"
   ]
  },
  {
   "cell_type": "code",
   "execution_count": 190,
   "metadata": {},
   "outputs": [],
   "source": [
    "data = pd.DataFrame({'y': y_test, 'X1': X_test[:,0], 'X2': X_test[:,1], 'X3': X_test[:,2], 'X4': X_test[:,3], 'd': X_test[:,4], 'treatment': treatment_effects}, columns=['y', 'X1', 'X2', 'X3', 'X4', 'd', 'treatment'])"
   ]
  },
  {
   "cell_type": "code",
   "execution_count": 191,
   "metadata": {},
   "outputs": [
    {
     "name": "stdout",
     "output_type": "stream",
     "text": [
      "1.8995674200103054\n",
      "1.51677739756326\n",
      "-1.6479743146799026\n",
      "-1.4042869405440142\n"
     ]
    }
   ],
   "source": [
    "print(data['y'][(data['X1'] > 0) & (data['d'] == 1)].mean() - data['y'][(data['X1'] > 0) & (data['d'] == 0)].mean())\n",
    "print(data['treatment'][data['X1'] > 0].mean())\n",
    "print(data['y'][(data['X1'] < 0) & (data['d'] == 1)].mean() - data['y'][(data['X1'] < 0) & (data['d'] == 0)].mean())\n",
    "print(data['treatment'][data['X1'] < 0].mean())"
   ]
  },
  {
   "cell_type": "code",
   "execution_count": null,
   "metadata": {},
   "outputs": [],
   "source": [
    "print(data['y'][(data['X1'] > 0) & (data['d'] == 1)].mean() - data['y'][(data['X1'] > 0) & (data['d'] == 0)].mean())\n",
    "print(data['treatment'][data['X1'] > 0].mean())\n",
    "print(data['y'][(data['X1'] < 0) & (data['d'] == 1)].mean() - data['y'][(data['X1'] < 0) & (data['d'] == 0)].mean())\n",
    "print(data['treatment'][data['X1'] < 0].mean())"
   ]
  },
  {
   "cell_type": "code",
   "execution_count": 76,
   "metadata": {},
   "outputs": [],
   "source": [
    "data = pd.DataFrame({'y': y, 'X1': x[:,0], 'X2': x[:,1], 'X3': x[:,2], 'X4': x[:,3], 'd': x[:,4]}, columns=['y', 'X1', 'X2', 'X3', 'X4', 'd'])"
   ]
  },
  {
   "cell_type": "code",
   "execution_count": 192,
   "metadata": {},
   "outputs": [
    {
     "name": "stdout",
     "output_type": "stream",
     "text": [
      "Collecting causal_tree_learn\n",
      "  Downloading causal_tree_learn-2.42.tar.gz (124 kB)\n",
      "Requirement already satisfied: numpy in c:\\users\\user\\miniconda3\\lib\\site-packages (from causal_tree_learn) (1.19.1)\n",
      "Requirement already satisfied: scikit-learn in c:\\users\\user\\miniconda3\\lib\\site-packages (from causal_tree_learn) (0.24.1)\n",
      "Requirement already satisfied: scipy in c:\\users\\user\\miniconda3\\lib\\site-packages (from causal_tree_learn) (1.5.2)\n",
      "Requirement already satisfied: joblib>=0.11 in c:\\users\\user\\miniconda3\\lib\\site-packages (from scikit-learn->causal_tree_learn) (0.17.0)\n",
      "Requirement already satisfied: threadpoolctl>=2.0.0 in c:\\users\\user\\miniconda3\\lib\\site-packages (from scikit-learn->causal_tree_learn) (2.1.0)\n",
      "Building wheels for collected packages: causal-tree-learn\n",
      "  Building wheel for causal-tree-learn (setup.py): started\n",
      "  Building wheel for causal-tree-learn (setup.py): finished with status 'error'\n",
      "  Running setup.py clean for causal-tree-learn\n",
      "Failed to build causal-tree-learn\n",
      "Installing collected packages: causal-tree-learn\n",
      "    Running setup.py install for causal-tree-learn: started\n",
      "    Running setup.py install for causal-tree-learn: finished with status 'error'\n"
     ]
    },
    {
     "name": "stderr",
     "output_type": "stream",
     "text": [
      "  ERROR: Command errored out with exit status 1:\n",
      "   command: 'C:\\Users\\User\\miniconda3\\python.exe' -u -c 'import sys, setuptools, tokenize; sys.argv[0] = '\"'\"'C:\\\\Users\\\\User\\\\AppData\\\\Local\\\\Temp\\\\pip-install-e0sby0vx\\\\causal-tree-learn\\\\setup.py'\"'\"'; __file__='\"'\"'C:\\\\Users\\\\User\\\\AppData\\\\Local\\\\Temp\\\\pip-install-e0sby0vx\\\\causal-tree-learn\\\\setup.py'\"'\"';f=getattr(tokenize, '\"'\"'open'\"'\"', open)(__file__);code=f.read().replace('\"'\"'\\r\\n'\"'\"', '\"'\"'\\n'\"'\"');f.close();exec(compile(code, __file__, '\"'\"'exec'\"'\"'))' bdist_wheel -d 'C:\\Users\\User\\AppData\\Local\\Temp\\pip-wheel-9jtv1qhh'\n",
      "       cwd: C:\\Users\\User\\AppData\\Local\\Temp\\pip-install-e0sby0vx\\causal-tree-learn\\\n",
      "  Complete output (59 lines):\n",
      "  running bdist_wheel\n",
      "  running build\n",
      "  running build_py\n",
      "  creating build\n",
      "  creating build\\lib.win-amd64-3.8\n",
      "  creating build\\lib.win-amd64-3.8\\CTL\n",
      "  copying CTL\\causal_learn_forest.py -> build\\lib.win-amd64-3.8\\CTL\n",
      "  copying CTL\\causal_tree_learn.py -> build\\lib.win-amd64-3.8\\CTL\n",
      "  copying CTL\\causal_tree_match.py -> build\\lib.win-amd64-3.8\\CTL\n",
      "  copying CTL\\pehe_tree.py -> build\\lib.win-amd64-3.8\\CTL\n",
      "  copying CTL\\sig_diff_tree.py -> build\\lib.win-amd64-3.8\\CTL\n",
      "  copying CTL\\tree.py -> build\\lib.win-amd64-3.8\\CTL\n",
      "  copying CTL\\_tree.py -> build\\lib.win-amd64-3.8\\CTL\n",
      "  copying CTL\\__init__.py -> build\\lib.win-amd64-3.8\\CTL\n",
      "  creating build\\lib.win-amd64-3.8\\CTL\\causal_tree\n",
      "  copying CTL\\causal_tree\\ct.py -> build\\lib.win-amd64-3.8\\CTL\\causal_tree\n",
      "  copying CTL\\causal_tree\\util.py -> build\\lib.win-amd64-3.8\\CTL\\causal_tree\n",
      "  copying CTL\\causal_tree\\__init__.py -> build\\lib.win-amd64-3.8\\CTL\\causal_tree\n",
      "  creating build\\lib.win-amd64-3.8\\CTL\\causal_tree\\ctl\n",
      "  copying CTL\\causal_tree\\ctl\\adaptive.py -> build\\lib.win-amd64-3.8\\CTL\\causal_tree\\ctl\n",
      "  copying CTL\\causal_tree\\ctl\\binary_ctl.py -> build\\lib.win-amd64-3.8\\CTL\\causal_tree\\ctl\n",
      "  copying CTL\\causal_tree\\ctl\\ctl_base.py -> build\\lib.win-amd64-3.8\\CTL\\causal_tree\\ctl\n",
      "  copying CTL\\causal_tree\\ctl\\ctl_honest.py -> build\\lib.win-amd64-3.8\\CTL\\causal_tree\\ctl\n",
      "  copying CTL\\causal_tree\\ctl\\ctl_val_honest.py -> build\\lib.win-amd64-3.8\\CTL\\causal_tree\\ctl\n",
      "  copying CTL\\causal_tree\\ctl\\honest.py -> build\\lib.win-amd64-3.8\\CTL\\causal_tree\\ctl\n",
      "  copying CTL\\causal_tree\\ctl\\__init__.py -> build\\lib.win-amd64-3.8\\CTL\\causal_tree\\ctl\n",
      "  creating build\\lib.win-amd64-3.8\\CTL\\causal_tree\\ctl_match\n",
      "  copying CTL\\causal_tree\\ctl_match\\binary_ctl.py -> build\\lib.win-amd64-3.8\\CTL\\causal_tree\\ctl_match\n",
      "  copying CTL\\causal_tree\\ctl_match\\ctl_base.py -> build\\lib.win-amd64-3.8\\CTL\\causal_tree\\ctl_match\n",
      "  copying CTL\\causal_tree\\ctl_match\\__init__.py -> build\\lib.win-amd64-3.8\\CTL\\causal_tree\\ctl_match\n",
      "  creating build\\lib.win-amd64-3.8\\CTL\\causal_tree\\ctl_trigger\n",
      "  copying CTL\\causal_tree\\ctl_trigger\\adaptive_trigger.py -> build\\lib.win-amd64-3.8\\CTL\\causal_tree\\ctl_trigger\n",
      "  copying CTL\\causal_tree\\ctl_trigger\\ctl_base_trigger.py -> build\\lib.win-amd64-3.8\\CTL\\causal_tree\\ctl_trigger\n",
      "  copying CTL\\causal_tree\\ctl_trigger\\ctl_honest_trigger.py -> build\\lib.win-amd64-3.8\\CTL\\causal_tree\\ctl_trigger\n",
      "  copying CTL\\causal_tree\\ctl_trigger\\ctl_val_honest_trigger.py -> build\\lib.win-amd64-3.8\\CTL\\causal_tree\\ctl_trigger\n",
      "  copying CTL\\causal_tree\\ctl_trigger\\honest_trigger.py -> build\\lib.win-amd64-3.8\\CTL\\causal_tree\\ctl_trigger\n",
      "  copying CTL\\causal_tree\\ctl_trigger\\trigger_ctl.py -> build\\lib.win-amd64-3.8\\CTL\\causal_tree\\ctl_trigger\n",
      "  copying CTL\\causal_tree\\ctl_trigger\\__init__.py -> build\\lib.win-amd64-3.8\\CTL\\causal_tree\\ctl_trigger\n",
      "  creating build\\lib.win-amd64-3.8\\CTL\\causal_tree\\nn_pehe\n",
      "  copying CTL\\causal_tree\\nn_pehe\\balance_split.py -> build\\lib.win-amd64-3.8\\CTL\\causal_tree\\nn_pehe\n",
      "  copying CTL\\causal_tree\\nn_pehe\\base.py -> build\\lib.win-amd64-3.8\\CTL\\causal_tree\\nn_pehe\n",
      "  copying CTL\\causal_tree\\nn_pehe\\honest.py -> build\\lib.win-amd64-3.8\\CTL\\causal_tree\\nn_pehe\n",
      "  copying CTL\\causal_tree\\nn_pehe\\tree.py -> build\\lib.win-amd64-3.8\\CTL\\causal_tree\\nn_pehe\n",
      "  copying CTL\\causal_tree\\nn_pehe\\val.py -> build\\lib.win-amd64-3.8\\CTL\\causal_tree\\nn_pehe\n",
      "  copying CTL\\causal_tree\\nn_pehe\\__init__.py -> build\\lib.win-amd64-3.8\\CTL\\causal_tree\\nn_pehe\n",
      "  creating build\\lib.win-amd64-3.8\\CTL\\causal_tree\\r_tree\n",
      "  copying CTL\\causal_tree\\r_tree\\base.py -> build\\lib.win-amd64-3.8\\CTL\\causal_tree\\r_tree\n",
      "  copying CTL\\causal_tree\\r_tree\\tree.py -> build\\lib.win-amd64-3.8\\CTL\\causal_tree\\r_tree\n",
      "  copying CTL\\causal_tree\\r_tree\\__init__.py -> build\\lib.win-amd64-3.8\\CTL\\causal_tree\\r_tree\n",
      "  creating build\\lib.win-amd64-3.8\\CTL\\causal_tree\\sig_diff\n",
      "  copying CTL\\causal_tree\\sig_diff\\sig.py -> build\\lib.win-amd64-3.8\\CTL\\causal_tree\\sig_diff\n",
      "  copying CTL\\causal_tree\\sig_diff\\sig_base.py -> build\\lib.win-amd64-3.8\\CTL\\causal_tree\\sig_diff\n",
      "  copying CTL\\causal_tree\\sig_diff\\sig_val.py -> build\\lib.win-amd64-3.8\\CTL\\causal_tree\\sig_diff\n",
      "  copying CTL\\causal_tree\\sig_diff\\__init__.py -> build\\lib.win-amd64-3.8\\CTL\\causal_tree\\sig_diff\n",
      "  copying CTL\\causal_tree\\util_c.c -> build\\lib.win-amd64-3.8\\CTL\\causal_tree\n",
      "  copying CTL\\causal_tree\\util_c.pyx -> build\\lib.win-amd64-3.8\\CTL\\causal_tree\n",
      "  running build_ext\n",
      "  building 'CTL.causal_tree.util_c' extension\n",
      "  error: Microsoft Visual C++ 14.0 is required. Get it with \"Build Tools for Visual Studio\": https://visualstudio.microsoft.com/downloads/\n",
      "  ----------------------------------------\n",
      "  ERROR: Failed building wheel for causal-tree-learn\n",
      "    ERROR: Command errored out with exit status 1:\n",
      "     command: 'C:\\Users\\User\\miniconda3\\python.exe' -u -c 'import sys, setuptools, tokenize; sys.argv[0] = '\"'\"'C:\\\\Users\\\\User\\\\AppData\\\\Local\\\\Temp\\\\pip-install-e0sby0vx\\\\causal-tree-learn\\\\setup.py'\"'\"'; __file__='\"'\"'C:\\\\Users\\\\User\\\\AppData\\\\Local\\\\Temp\\\\pip-install-e0sby0vx\\\\causal-tree-learn\\\\setup.py'\"'\"';f=getattr(tokenize, '\"'\"'open'\"'\"', open)(__file__);code=f.read().replace('\"'\"'\\r\\n'\"'\"', '\"'\"'\\n'\"'\"');f.close();exec(compile(code, __file__, '\"'\"'exec'\"'\"'))' install --record 'C:\\Users\\User\\AppData\\Local\\Temp\\pip-record-71ssr_ve\\install-record.txt' --single-version-externally-managed --compile --install-headers 'C:\\Users\\User\\miniconda3\\Include\\causal-tree-learn'\n",
      "         cwd: C:\\Users\\User\\AppData\\Local\\Temp\\pip-install-e0sby0vx\\causal-tree-learn\\\n",
      "    Complete output (59 lines):\n",
      "    running install\n",
      "    running build\n",
      "    running build_py\n",
      "    creating build\n",
      "    creating build\\lib.win-amd64-3.8\n",
      "    creating build\\lib.win-amd64-3.8\\CTL\n",
      "    copying CTL\\causal_learn_forest.py -> build\\lib.win-amd64-3.8\\CTL\n",
      "    copying CTL\\causal_tree_learn.py -> build\\lib.win-amd64-3.8\\CTL\n",
      "    copying CTL\\causal_tree_match.py -> build\\lib.win-amd64-3.8\\CTL\n",
      "    copying CTL\\pehe_tree.py -> build\\lib.win-amd64-3.8\\CTL\n",
      "    copying CTL\\sig_diff_tree.py -> build\\lib.win-amd64-3.8\\CTL\n",
      "    copying CTL\\tree.py -> build\\lib.win-amd64-3.8\\CTL\n",
      "    copying CTL\\_tree.py -> build\\lib.win-amd64-3.8\\CTL\n",
      "    copying CTL\\__init__.py -> build\\lib.win-amd64-3.8\\CTL\n",
      "    creating build\\lib.win-amd64-3.8\\CTL\\causal_tree\n",
      "    copying CTL\\causal_tree\\ct.py -> build\\lib.win-amd64-3.8\\CTL\\causal_tree\n",
      "    copying CTL\\causal_tree\\util.py -> build\\lib.win-amd64-3.8\\CTL\\causal_tree\n",
      "    copying CTL\\causal_tree\\__init__.py -> build\\lib.win-amd64-3.8\\CTL\\causal_tree\n",
      "    creating build\\lib.win-amd64-3.8\\CTL\\causal_tree\\ctl\n",
      "    copying CTL\\causal_tree\\ctl\\adaptive.py -> build\\lib.win-amd64-3.8\\CTL\\causal_tree\\ctl\n",
      "    copying CTL\\causal_tree\\ctl\\binary_ctl.py -> build\\lib.win-amd64-3.8\\CTL\\causal_tree\\ctl\n",
      "    copying CTL\\causal_tree\\ctl\\ctl_base.py -> build\\lib.win-amd64-3.8\\CTL\\causal_tree\\ctl\n",
      "    copying CTL\\causal_tree\\ctl\\ctl_honest.py -> build\\lib.win-amd64-3.8\\CTL\\causal_tree\\ctl\n",
      "    copying CTL\\causal_tree\\ctl\\ctl_val_honest.py -> build\\lib.win-amd64-3.8\\CTL\\causal_tree\\ctl\n",
      "    copying CTL\\causal_tree\\ctl\\honest.py -> build\\lib.win-amd64-3.8\\CTL\\causal_tree\\ctl\n",
      "    copying CTL\\causal_tree\\ctl\\__init__.py -> build\\lib.win-amd64-3.8\\CTL\\causal_tree\\ctl\n",
      "    creating build\\lib.win-amd64-3.8\\CTL\\causal_tree\\ctl_match\n",
      "    copying CTL\\causal_tree\\ctl_match\\binary_ctl.py -> build\\lib.win-amd64-3.8\\CTL\\causal_tree\\ctl_match\n",
      "    copying CTL\\causal_tree\\ctl_match\\ctl_base.py -> build\\lib.win-amd64-3.8\\CTL\\causal_tree\\ctl_match\n",
      "    copying CTL\\causal_tree\\ctl_match\\__init__.py -> build\\lib.win-amd64-3.8\\CTL\\causal_tree\\ctl_match\n",
      "    creating build\\lib.win-amd64-3.8\\CTL\\causal_tree\\ctl_trigger\n",
      "    copying CTL\\causal_tree\\ctl_trigger\\adaptive_trigger.py -> build\\lib.win-amd64-3.8\\CTL\\causal_tree\\ctl_trigger\n",
      "    copying CTL\\causal_tree\\ctl_trigger\\ctl_base_trigger.py -> build\\lib.win-amd64-3.8\\CTL\\causal_tree\\ctl_trigger\n",
      "    copying CTL\\causal_tree\\ctl_trigger\\ctl_honest_trigger.py -> build\\lib.win-amd64-3.8\\CTL\\causal_tree\\ctl_trigger\n",
      "    copying CTL\\causal_tree\\ctl_trigger\\ctl_val_honest_trigger.py -> build\\lib.win-amd64-3.8\\CTL\\causal_tree\\ctl_trigger\n",
      "    copying CTL\\causal_tree\\ctl_trigger\\honest_trigger.py -> build\\lib.win-amd64-3.8\\CTL\\causal_tree\\ctl_trigger\n",
      "    copying CTL\\causal_tree\\ctl_trigger\\trigger_ctl.py -> build\\lib.win-amd64-3.8\\CTL\\causal_tree\\ctl_trigger\n",
      "    copying CTL\\causal_tree\\ctl_trigger\\__init__.py -> build\\lib.win-amd64-3.8\\CTL\\causal_tree\\ctl_trigger\n",
      "    creating build\\lib.win-amd64-3.8\\CTL\\causal_tree\\nn_pehe\n",
      "    copying CTL\\causal_tree\\nn_pehe\\balance_split.py -> build\\lib.win-amd64-3.8\\CTL\\causal_tree\\nn_pehe\n",
      "    copying CTL\\causal_tree\\nn_pehe\\base.py -> build\\lib.win-amd64-3.8\\CTL\\causal_tree\\nn_pehe\n",
      "    copying CTL\\causal_tree\\nn_pehe\\honest.py -> build\\lib.win-amd64-3.8\\CTL\\causal_tree\\nn_pehe\n",
      "    copying CTL\\causal_tree\\nn_pehe\\tree.py -> build\\lib.win-amd64-3.8\\CTL\\causal_tree\\nn_pehe\n",
      "    copying CTL\\causal_tree\\nn_pehe\\val.py -> build\\lib.win-amd64-3.8\\CTL\\causal_tree\\nn_pehe\n",
      "    copying CTL\\causal_tree\\nn_pehe\\__init__.py -> build\\lib.win-amd64-3.8\\CTL\\causal_tree\\nn_pehe\n",
      "    creating build\\lib.win-amd64-3.8\\CTL\\causal_tree\\r_tree\n",
      "    copying CTL\\causal_tree\\r_tree\\base.py -> build\\lib.win-amd64-3.8\\CTL\\causal_tree\\r_tree\n",
      "    copying CTL\\causal_tree\\r_tree\\tree.py -> build\\lib.win-amd64-3.8\\CTL\\causal_tree\\r_tree\n",
      "    copying CTL\\causal_tree\\r_tree\\__init__.py -> build\\lib.win-amd64-3.8\\CTL\\causal_tree\\r_tree\n",
      "    creating build\\lib.win-amd64-3.8\\CTL\\causal_tree\\sig_diff\n",
      "    copying CTL\\causal_tree\\sig_diff\\sig.py -> build\\lib.win-amd64-3.8\\CTL\\causal_tree\\sig_diff\n",
      "    copying CTL\\causal_tree\\sig_diff\\sig_base.py -> build\\lib.win-amd64-3.8\\CTL\\causal_tree\\sig_diff\n",
      "    copying CTL\\causal_tree\\sig_diff\\sig_val.py -> build\\lib.win-amd64-3.8\\CTL\\causal_tree\\sig_diff\n",
      "    copying CTL\\causal_tree\\sig_diff\\__init__.py -> build\\lib.win-amd64-3.8\\CTL\\causal_tree\\sig_diff\n",
      "    copying CTL\\causal_tree\\util_c.c -> build\\lib.win-amd64-3.8\\CTL\\causal_tree\n",
      "    copying CTL\\causal_tree\\util_c.pyx -> build\\lib.win-amd64-3.8\\CTL\\causal_tree\n",
      "    running build_ext\n",
      "    building 'CTL.causal_tree.util_c' extension\n",
      "    error: Microsoft Visual C++ 14.0 is required. Get it with \"Build Tools for Visual Studio\": https://visualstudio.microsoft.com/downloads/\n",
      "    ----------------------------------------\n",
      "ERROR: Command errored out with exit status 1: 'C:\\Users\\User\\miniconda3\\python.exe' -u -c 'import sys, setuptools, tokenize; sys.argv[0] = '\"'\"'C:\\\\Users\\\\User\\\\AppData\\\\Local\\\\Temp\\\\pip-install-e0sby0vx\\\\causal-tree-learn\\\\setup.py'\"'\"'; __file__='\"'\"'C:\\\\Users\\\\User\\\\AppData\\\\Local\\\\Temp\\\\pip-install-e0sby0vx\\\\causal-tree-learn\\\\setup.py'\"'\"';f=getattr(tokenize, '\"'\"'open'\"'\"', open)(__file__);code=f.read().replace('\"'\"'\\r\\n'\"'\"', '\"'\"'\\n'\"'\"');f.close();exec(compile(code, __file__, '\"'\"'exec'\"'\"'))' install --record 'C:\\Users\\User\\AppData\\Local\\Temp\\pip-record-71ssr_ve\\install-record.txt' --single-version-externally-managed --compile --install-headers 'C:\\Users\\User\\miniconda3\\Include\\causal-tree-learn' Check the logs for full command output.\n"
     ]
    }
   ],
   "source": [
    "!pip install causal_tree_learn"
   ]
  },
  {
   "cell_type": "code",
   "execution_count": 92,
   "metadata": {},
   "outputs": [
    {
     "data": {
      "text/plain": [
       "y    -1.015860\n",
       "X1    0.722177\n",
       "X2   -0.158575\n",
       "X3   -0.008555\n",
       "X4   -0.119901\n",
       "d     0.000000\n",
       "dtype: float64"
      ]
     },
     "execution_count": 92,
     "metadata": {},
     "output_type": "execute_result"
    }
   ],
   "source": [
    "data[(data['X1'] >= 0) & (data['d'] == 0)].mean()"
   ]
  },
  {
   "cell_type": "code",
   "execution_count": 91,
   "metadata": {},
   "outputs": [
    {
     "data": {
      "text/plain": [
       "y     0.765018\n",
       "X1    0.790393\n",
       "X2   -0.059255\n",
       "X3    0.015546\n",
       "X4    0.017423\n",
       "d     1.000000\n",
       "dtype: float64"
      ]
     },
     "execution_count": 91,
     "metadata": {},
     "output_type": "execute_result"
    }
   ],
   "source": [
    "data[(data['X1'] >= 0) & (data['d'] == 1)].mean()"
   ]
  },
  {
   "cell_type": "code",
   "execution_count": 65,
   "metadata": {},
   "outputs": [],
   "source": [
    "ind = np.arange(0,1001,100)"
   ]
  },
  {
   "cell_type": "code",
   "execution_count": 66,
   "metadata": {},
   "outputs": [
    {
     "data": {
      "text/plain": [
       "array([   0,  100,  200,  300,  400,  500,  600,  700,  800,  900, 1000])"
      ]
     },
     "execution_count": 66,
     "metadata": {},
     "output_type": "execute_result"
    }
   ],
   "source": [
    "tr_effect = \n",
    "\n",
    "for i in ind:\n",
    "    group1 = data.sort_values('X1').iloc[0:50,:].groupby('d').mean()"
   ]
  },
  {
   "cell_type": "code",
   "execution_count": 57,
   "metadata": {},
   "outputs": [],
   "source": [
    "\n",
    "for group in groups:\n",
    "    group = data.sort_values('X1').iloc[0:50,:].groupby('d').mean()\n",
    "    \n",
    "\n",
    "#group1 = data.sort_values('X1').iloc[0:50,:].groupby('d').mean()\n",
    "#group1.iloc[1,0] - group1.iloc[0,0]\n",
    "\n",
    "#group2 = data.sort_values('X1', ).iloc[951:1000,:].groupby('d').mean()\n",
    "#group2.iloc[1,0] - group2.iloc[0,0]"
   ]
  },
  {
   "cell_type": "code",
   "execution_count": 59,
   "metadata": {},
   "outputs": [
    {
     "ename": "NameError",
     "evalue": "name 'group4' is not defined",
     "output_type": "error",
     "traceback": [
      "\u001b[1;31m---------------------------------------------------------------------------\u001b[0m",
      "\u001b[1;31mNameError\u001b[0m                                 Traceback (most recent call last)",
      "\u001b[1;32m<ipython-input-59-41cac35c7e00>\u001b[0m in \u001b[0;36m<module>\u001b[1;34m\u001b[0m\n\u001b[1;32m----> 1\u001b[1;33m \u001b[0mgroup4\u001b[0m\u001b[1;33m\u001b[0m\u001b[1;33m\u001b[0m\u001b[0m\n\u001b[0m",
      "\u001b[1;31mNameError\u001b[0m: name 'group4' is not defined"
     ]
    }
   ],
   "source": [
    "group4"
   ]
  },
  {
   "cell_type": "code",
   "execution_count": 39,
   "metadata": {},
   "outputs": [
    {
     "data": {
      "text/html": [
       "<div>\n",
       "<style scoped>\n",
       "    .dataframe tbody tr th:only-of-type {\n",
       "        vertical-align: middle;\n",
       "    }\n",
       "\n",
       "    .dataframe tbody tr th {\n",
       "        vertical-align: top;\n",
       "    }\n",
       "\n",
       "    .dataframe thead th {\n",
       "        text-align: right;\n",
       "    }\n",
       "</style>\n",
       "<table border=\"1\" class=\"dataframe\">\n",
       "  <thead>\n",
       "    <tr style=\"text-align: right;\">\n",
       "      <th></th>\n",
       "      <th>y</th>\n",
       "      <th>X1</th>\n",
       "      <th>X2</th>\n",
       "      <th>X3</th>\n",
       "      <th>X4</th>\n",
       "      <th>d</th>\n",
       "    </tr>\n",
       "  </thead>\n",
       "  <tbody>\n",
       "    <tr>\n",
       "      <th>0</th>\n",
       "      <td>7.184318</td>\n",
       "      <td>1.619186</td>\n",
       "      <td>-0.254367</td>\n",
       "      <td>3.171748</td>\n",
       "      <td>2.714515</td>\n",
       "      <td>1.0</td>\n",
       "    </tr>\n",
       "    <tr>\n",
       "      <th>1</th>\n",
       "      <td>1.844627</td>\n",
       "      <td>2.488007</td>\n",
       "      <td>0.906587</td>\n",
       "      <td>1.557453</td>\n",
       "      <td>2.109126</td>\n",
       "      <td>0.0</td>\n",
       "    </tr>\n",
       "    <tr>\n",
       "      <th>2</th>\n",
       "      <td>5.184794</td>\n",
       "      <td>1.710653</td>\n",
       "      <td>2.789343</td>\n",
       "      <td>2.002710</td>\n",
       "      <td>2.017344</td>\n",
       "      <td>0.0</td>\n",
       "    </tr>\n",
       "    <tr>\n",
       "      <th>3</th>\n",
       "      <td>6.694567</td>\n",
       "      <td>1.457442</td>\n",
       "      <td>4.222509</td>\n",
       "      <td>1.420900</td>\n",
       "      <td>2.537927</td>\n",
       "      <td>0.0</td>\n",
       "    </tr>\n",
       "    <tr>\n",
       "      <th>4</th>\n",
       "      <td>5.463259</td>\n",
       "      <td>3.289246</td>\n",
       "      <td>1.104380</td>\n",
       "      <td>0.374801</td>\n",
       "      <td>0.603647</td>\n",
       "      <td>1.0</td>\n",
       "    </tr>\n",
       "    <tr>\n",
       "      <th>...</th>\n",
       "      <td>...</td>\n",
       "      <td>...</td>\n",
       "      <td>...</td>\n",
       "      <td>...</td>\n",
       "      <td>...</td>\n",
       "      <td>...</td>\n",
       "    </tr>\n",
       "    <tr>\n",
       "      <th>995</th>\n",
       "      <td>6.759141</td>\n",
       "      <td>0.239587</td>\n",
       "      <td>3.180672</td>\n",
       "      <td>1.233549</td>\n",
       "      <td>2.088545</td>\n",
       "      <td>1.0</td>\n",
       "    </tr>\n",
       "    <tr>\n",
       "      <th>996</th>\n",
       "      <td>7.116321</td>\n",
       "      <td>2.208633</td>\n",
       "      <td>1.440201</td>\n",
       "      <td>0.388810</td>\n",
       "      <td>3.091263</td>\n",
       "      <td>1.0</td>\n",
       "    </tr>\n",
       "    <tr>\n",
       "      <th>997</th>\n",
       "      <td>7.937752</td>\n",
       "      <td>1.594249</td>\n",
       "      <td>1.864176</td>\n",
       "      <td>2.140619</td>\n",
       "      <td>2.226595</td>\n",
       "      <td>1.0</td>\n",
       "    </tr>\n",
       "    <tr>\n",
       "      <th>998</th>\n",
       "      <td>7.683668</td>\n",
       "      <td>1.866366</td>\n",
       "      <td>0.605955</td>\n",
       "      <td>3.404792</td>\n",
       "      <td>1.832761</td>\n",
       "      <td>1.0</td>\n",
       "    </tr>\n",
       "    <tr>\n",
       "      <th>999</th>\n",
       "      <td>10.502770</td>\n",
       "      <td>3.335240</td>\n",
       "      <td>3.091756</td>\n",
       "      <td>1.975736</td>\n",
       "      <td>1.992268</td>\n",
       "      <td>1.0</td>\n",
       "    </tr>\n",
       "  </tbody>\n",
       "</table>\n",
       "<p>1000 rows × 6 columns</p>\n",
       "</div>"
      ],
      "text/plain": [
       "             y        X1        X2        X3        X4    d\n",
       "0     7.184318  1.619186 -0.254367  3.171748  2.714515  1.0\n",
       "1     1.844627  2.488007  0.906587  1.557453  2.109126  0.0\n",
       "2     5.184794  1.710653  2.789343  2.002710  2.017344  0.0\n",
       "3     6.694567  1.457442  4.222509  1.420900  2.537927  0.0\n",
       "4     5.463259  3.289246  1.104380  0.374801  0.603647  1.0\n",
       "..         ...       ...       ...       ...       ...  ...\n",
       "995   6.759141  0.239587  3.180672  1.233549  2.088545  1.0\n",
       "996   7.116321  2.208633  1.440201  0.388810  3.091263  1.0\n",
       "997   7.937752  1.594249  1.864176  2.140619  2.226595  1.0\n",
       "998   7.683668  1.866366  0.605955  3.404792  1.832761  1.0\n",
       "999  10.502770  3.335240  3.091756  1.975736  1.992268  1.0\n",
       "\n",
       "[1000 rows x 6 columns]"
      ]
     },
     "execution_count": 39,
     "metadata": {},
     "output_type": "execute_result"
    }
   ],
   "source": [
    "data"
   ]
  },
  {
   "cell_type": "code",
   "execution_count": 169,
   "metadata": {},
   "outputs": [
    {
     "name": "stdout",
     "output_type": "stream",
     "text": [
      "-0.03694611177216052\n",
      "-0.8061380812713191\n",
      "0.8098114344832158\n",
      "2.0209889114636055\n",
      "-2.010411764839589\n"
     ]
    }
   ],
   "source": [
    "p=[1./2, 1./2]\n",
    "n=1000\n",
    "x1 = np.random.normal(loc = 0.0, scale = 1.0, size = (n,1))\n",
    "print(x1.mean())\n",
    "print(x1[x1<0].mean())\n",
    "print(x1[x1>0].mean())\n",
    "d = np.random.choice([0, 1], size=(n,1), p=p)\n",
    "\n",
    "y = np.multiply(x1, np.subtract(2.5*d, 1.5))\n",
    "\n",
    "data = pd.DataFrame({'y': y[:,0], 'X1': x1[:,0], 'd': d[:,0]}, columns=['y', 'X1', 'd'])\n",
    "print(data['y'][(data['X1'] > 0) & (data['d'] == 1)].mean() - data['y'][(data['X1'] > 0) & (data['d'] == 0)].mean())\n",
    "print(data['y'][(data['X1'] < 0) & (data['d'] == 1)].mean() - data['y'][(data['X1'] < 0) & (data['d'] == 0)].mean())"
   ]
  },
  {
   "cell_type": "code",
   "execution_count": null,
   "metadata": {},
   "outputs": [],
   "source": []
  },
  {
   "cell_type": "code",
   "execution_count": 128,
   "metadata": {},
   "outputs": [
    {
     "name": "stdout",
     "output_type": "stream",
     "text": [
      "[[-0.44532081]\n",
      " [ 2.13278049]\n",
      " [ 0.27336673]\n",
      " [-0.89893782]\n",
      " [-0.19835702]\n",
      " [ 0.17161257]\n",
      " [ 0.22307574]\n",
      " [-0.58401578]\n",
      " [-0.95896485]\n",
      " [-1.40065054]]\n"
     ]
    },
    {
     "data": {
      "text/plain": [
       "array([[ -5.45320806],\n",
       "       [ 20.32780489],\n",
       "       [  1.73366729],\n",
       "       [ -9.98937822],\n",
       "       [ -2.98357018],\n",
       "       [  0.71612566],\n",
       "       [  1.23075742],\n",
       "       [ -6.84015783],\n",
       "       [-10.58964848],\n",
       "       [-15.0065054 ]])"
      ]
     },
     "execution_count": 128,
     "metadata": {},
     "output_type": "execute_result"
    }
   ],
   "source": [
    "x7 = np.random.normal(loc = 0.0, scale = 1.0, size = (10,1))\n",
    "print(x7)\n",
    "np.subtract(10*x7, 1)\n",
    "\n",
    "\n"
   ]
  },
  {
   "cell_type": "code",
   "execution_count": 101,
   "metadata": {},
   "outputs": [
    {
     "name": "stdout",
     "output_type": "stream",
     "text": [
      "0.781101258887606\n"
     ]
    }
   ],
   "source": [
    "def avg_positive_speed(speed):\n",
    "    s = np.array(speed)\n",
    "    positives = s > 0\n",
    "    if positives.any():\n",
    "        return s[positives].mean()\n",
    "    else:\n",
    "        return 0.\n",
    "\n",
    "\n",
    "print(avg_positive_speed(x1))\n",
    "# prints 2.0\n"
   ]
  },
  {
   "cell_type": "code",
   "execution_count": 151,
   "metadata": {},
   "outputs": [
    {
     "data": {
      "image/png": "[encoded data removed]",
      "text/latex": [
       "$\\displaystyle 1.25$"
      ],
      "text/plain": [
       "1.25"
      ]
     },
     "execution_count": 151,
     "metadata": {},
     "output_type": "execute_result"
    }
   ],
   "source": [
    "1/0.8"
   ]
  },
  {
   "cell_type": "code",
   "execution_count": null,
   "metadata": {},
   "outputs": [],
   "source": []
  }
 ],
 "metadata": {
  "kernelspec": {
   "display_name": "Python 3",
   "language": "python",
   "name": "python3"
  },
  "language_info": {
   "codemirror_mode": {
    "name": "ipython",
    "version": 3
   },
   "file_extension": ".py",
   "mimetype": "text/x-python",
   "name": "python",
   "nbconvert_exporter": "python",
   "pygments_lexer": "ipython3",
   "version": "3.8.3"
  }
 },
 "nbformat": 4,
 "nbformat_minor": 4
}
