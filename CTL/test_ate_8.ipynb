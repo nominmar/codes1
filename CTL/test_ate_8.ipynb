{
 "cells": [
  {
   "cell_type": "code",
   "execution_count": 14,
   "metadata": {},
   "outputs": [],
   "source": [
    "import pandas as pd\n",
    "import numpy as np\n",
    "from random import random\n",
    "from CTL2.causal_tree_learn import CausalTree\n",
    "from DGP.dgp6 import dgp_ate4_train\n",
    "from DGP.dgp6 import dgp_ate4_test\n",
    "from MC.mc2 import MC_MSE_2\n",
    "from MC.mc2_maxd import MC_MSE_2max\n",
    "from sklearn.model_selection import train_test_split\n",
    "from sklearn.metrics import mean_squared_error as mse\n",
    "import matplotlib.pyplot as plt\n",
    "import pickle as pkl\n",
    "#from notify_run import Notify \n",
    "#notify = Notify()\n",
    "import datetime"
   ]
  },
  {
   "cell_type": "code",
   "execution_count": 35,
   "metadata": {},
   "outputs": [],
   "source": [
    "a = np.zeros(10).reshape(-1,1)\n",
    "b = np.append(b,a, axis =1)"
   ]
  },
  {
   "cell_type": "code",
   "execution_count": 40,
   "metadata": {},
   "outputs": [
    {
     "data": {
      "text/plain": [
       "array([[1., 1., 1., 0.],\n",
       "       [1., 1., 1., 0.],\n",
       "       [1., 1., 1., 0.],\n",
       "       [1., 1., 1., 0.],\n",
       "       [1., 1., 1., 0.],\n",
       "       [1., 1., 1., 0.],\n",
       "       [1., 1., 1., 0.],\n",
       "       [1., 1., 1., 0.],\n",
       "       [1., 1., 1., 0.],\n",
       "       [1., 1., 1., 0.]])"
      ]
     },
     "execution_count": 40,
     "metadata": {},
     "output_type": "execute_result"
    }
   ],
   "source": [
    "b"
   ]
  },
  {
   "cell_type": "code",
   "execution_count": 41,
   "metadata": {},
   "outputs": [
    {
     "data": {
      "text/plain": [
       "array([0.1875, 0.1875, 0.1875, 0.1875, 0.1875, 0.1875, 0.1875, 0.1875,\n",
       "       0.1875, 0.1875])"
      ]
     },
     "execution_count": 41,
     "metadata": {},
     "output_type": "execute_result"
    }
   ],
   "source": [
    "np.var(b, axis = 1)"
   ]
  },
  {
   "cell_type": "code",
   "execution_count": 53,
   "metadata": {},
   "outputs": [],
   "source": [
    "def MC_ate4(n_train, n_test, var_e, reps, nomin_test):    \n",
    "    #true ATE\n",
    "    #ATE1 = np.ones(reps)*3\n",
    "    #ATE2 = np.ones(reps)*1\n",
    "    #ATE3 = np.ones(reps)*-2\n",
    "    #ATE4 = np.ones(reps)*-3\n",
    "    #predicted ate\n",
    "    #ate1 = []\n",
    "    #ate2 = []\n",
    "    #ate3 = []\n",
    "    #ate4 = []\n",
    "    #TOTAL MSE, Bias, Var    \n",
    "    tauhat = np.zeros((n_test, 1))\n",
    "    x_test, y_test, treat_test = dgp_ate4_test(n_test, var_e)\n",
    "    tau = np.where(((x_test[:,0] >= 0) & (x_test[:,1] >= 0)),3, np.where(((x_test[:,0] >= 0) & (x_test[:,1] < 0)),1, np.where(((x_test[:,0] < 0) & (x_test[:,1] >= 0)),-2,-3)))\n",
    "    #MONTE CARLO\n",
    "    for i in range(reps):\n",
    "        x_train, y_train, treat_train = dgp_ate4_test(n_train,var_e)     \n",
    "        #true individual treatment effect\n",
    "        #tau = np.where(((x1 >= 0) & (x2 >= 0)),2, np.where(((x1 >= 0) & (x2 < 0)),1, np.where(((x1 < 0) & (x2 >= 0)),-1,-2)))\n",
    "        #predicted infividual treatment effect\n",
    "        ctl_predict = MC_MSE_2max(x_train, x_test, y_train, y_test, treat_train, treat_test, nomin_test)       \n",
    "        tauhat = np.append(tauhat, ctl_predict.reshape(-1,1), axis = 1)\n",
    "\n",
    "    #variance and mean across monte carlo simulations for each observation. 10000x1 arrays\n",
    "    ind_var = np.var(tauhat[:, 1:], axis = 1)\n",
    "    ind_mean = np.mean(tauhat, axis = 1)\n",
    "    \n",
    "    total_var = np.sum(ind_var)/n_test\n",
    "    total_bias = np.sum(np.square(np.subtract(ind_mean, tau)))/n_test\n",
    "\n",
    "    \n",
    "    return total_var, total_bias, total_var+total_bias"
   ]
  },
  {
   "cell_type": "code",
   "execution_count": 47,
   "metadata": {},
   "outputs": [
    {
     "name": "stdout",
     "output_type": "stream",
     "text": [
      "(10000, 11)\n",
      "(10000, 10)\n",
      "(10000,)\n",
      "(10000,)\n"
     ]
    },
    {
     "data": {
      "text/plain": [
       "(0.21837717409120236, 0.16993763523699304, 0.3883148093281954)"
      ]
     },
     "execution_count": 47,
     "metadata": {},
     "output_type": "execute_result"
    }
   ],
   "source": [
    "MC_ate4(1000,10000, 0.01, 10, 0.5)"
   ]
  },
  {
   "cell_type": "code",
   "execution_count": 6,
   "metadata": {},
   "outputs": [],
   "source": [
    "def MC_ate8(n, var_e, reps, nomin_test):    \n",
    "    #true ATE\n",
    "    ATE1 = np.ones(reps)*5\n",
    "    ATE2 = np.ones(reps)*-1\n",
    "    ATE3 = np.ones(reps)*2.5\n",
    "    ATE4 = np.ones(reps)*-3.5\n",
    "    ATE5 = np.ones(reps)*3.5\n",
    "    ATE6 = np.ones(reps)*-2.5\n",
    "    ATE7 = np.ones(reps)*-1\n",
    "    ATE8 = np.ones(reps)*-5\n",
    "    #predicted ate\n",
    "    ate1 = []\n",
    "    ate2 = []\n",
    "    ate3 = []\n",
    "    ate4 = []\n",
    "    ate5 = []\n",
    "    ate6 = []\n",
    "    ate7 = []\n",
    "    ate8 = []\n",
    "    #TOTAL MSE, Bias, Var\n",
    "    MSE = []\n",
    "    bias = []\n",
    "    var = []\n",
    "    n2 = int(n/2)\n",
    "    \n",
    "    leafs = []\n",
    "    for i in range(reps):\n",
    "        x_train, x_test, y_train, y_test, treat_train, treat_test = dgp_ate8(n,var_e)     \n",
    "        #true individual treatment effect\n",
    "        tau = np.where(((x_test[:,0] >= 0) & (x_test[:,1] >= 0) & (x_test[:,2] >= 0)),5, \n",
    "                       np.where(((x_test[:,0] < 0) & (x_test[:,1] >= 0) & (x_test[:,2] >= 0)), -1, \n",
    "                                np.where(((x_test[:,0] >= 0) & (x_test[:,1] < 0) & (x_test[:,2] >= 0)), 2.5, \n",
    "                                         np.where(((x_test[:,0] < 0) & (x_test[:,1] < 0) & (x_test[:,2] >= 0)), -3.5, \n",
    "                                                  np.where(((x_test[:,0] >= 0) & (x_test[:,1] >= 0) & (x_test[:,2] < 0)), 3.5, \n",
    "                                                           np.where(((x_test[:,0] < 0) & (x_test[:,1] >= 0) & (x_test[:,2] < 0)), -2.5, \n",
    "                                                                    np.where(((x_test[:,0] >= 0) & (x_test[:,1] < 0) & (x_test[:,2] < 0)), 1, -5)))))))\n",
    "        \n",
    "        \n",
    "        #predicted infividual treatment effect\n",
    "        ctl_predict = MC_MSE_2(x_train, x_test, y_train, y_test, treat_train, treat_test, nomin_test)\n",
    "        #predicted ATE\n",
    "        ate1 = np.append(ate1, np.mean(ctl_predict[np.where((x_test[:,0] >= 0) & (x_test[:,1] >= 0) & (x_test[:,2] >= 0))]))\n",
    "        ate2 = np.append(ate2, np.mean(ctl_predict[np.where((x_test[:,0] < 0) & (x_test[:,1] >= 0) & (x_test[:,2] >= 0))]))\n",
    "        ate3 = np.append(ate3, np.mean(ctl_predict[np.where((x_test[:,0] >= 0) & (x_test[:,1] < 0) & (x_test[:,2] >= 0))]))\n",
    "        ate4 = np.append(ate4, np.mean(ctl_predict[np.where((x_test[:,0] < 0) & (x_test[:,1] < 0) & (x_test[:,2] >= 0))]))\n",
    "        ate5 = np.append(ate5, np.mean(ctl_predict[np.where((x_test[:,0] >= 0) & (x_test[:,1] >= 0) & (x_test[:,2] < 0))]))\n",
    "        ate6 = np.append(ate6, np.mean(ctl_predict[np.where((x_test[:,0] < 0) & (x_test[:,1] >= 0) & (x_test[:,2] < 0))]))\n",
    "        ate7 = np.append(ate7, np.mean(ctl_predict[np.where((x_test[:,0] >= 0) & (x_test[:,1] < 0) & (x_test[:,2] < 0))]))\n",
    "        ate8 = np.append(ate8, np.mean(ctl_predict[np.where((x_test[:,0] < 0) & (x_test[:,1] < 0) & (x_test[:,2] < 0))]))\n",
    "\n",
    "        #leafs = np.append(leafs, len(np.unique(ctl_predict)))\n",
    "        #nn = int(len(ctl_predict))\n",
    "        MSE = np.append(MSE, mse(ctl_predict,tau))\n",
    "        bias = np.append(bias, np.sum(np.subtract(tau,ctl_predict))/n2)\n",
    "        var = np.append(var, np.var(np.subtract(tau,ctl_predict)))\n",
    "\n",
    "    #ATE MSE's\n",
    "    mean_ate = np.array([np.mean(ate1), np.mean(ate2), np.mean(ate3), np.mean(ate4), np.mean(ate5), np.mean(ate6), np.mean(ate7), np.mean(ate8)])    \n",
    "    mse_ate = np.array([mse(ATE1, ate1), mse(ATE2, ate2),mse(ATE3, ate3), mse(ATE4, ate4),mse(ATE5, ate5), mse(ATE6, ate6), mse(ATE7, ate7), mse(ATE8, ate8)])\n",
    "    bias_ate = np.array([np.sum(np.subtract(ATE1,ate1))/reps, np.sum(np.subtract(ATE2,ate2))/reps, np.sum(np.subtract(ATE3,ate3))/reps, np.sum(np.subtract(ATE4,ate4))/reps,\n",
    "                         np.sum(np.subtract(ATE5,ate5))/reps, np.sum(np.subtract(ATE6,ate6))/reps, np.sum(np.subtract(ATE7,ate7))/reps, np.sum(np.subtract(ATE8,ate8))/reps])\n",
    "    var_ate = np.array([np.var(ate1), np.var(ate2), np.var(ate3), np.var(ate4), np.var(ate5), np.var(ate6), np.var(ate7), np.var(ate8)])\n",
    "    \n",
    "    return mean_ate, mse_ate, bias_ate, var_ate, np.mean(MSE), np.mean(bias), np.mean(var)"
   ]
  },
  {
   "cell_type": "code",
   "execution_count": 57,
   "metadata": {},
   "outputs": [
    {
     "name": "stdout",
     "output_type": "stream",
     "text": [
      "start time:  19:22\n",
      "end time:  20:51\n"
     ]
    }
   ],
   "source": [
    "print(\"start time: \", str(datetime.datetime.now())[11:16])\n",
    "test_sizes = [0.2, 0.3, 0.4, 0.5, 0.6, 0.7, 0.8]\n",
    "\n",
    "MSE_ = []\n",
    "bias_ = []\n",
    "var_ = []\n",
    "\n",
    "var_e = 0.01\n",
    "n_test = 1000\n",
    "n_train = 1000\n",
    "reps = 500\n",
    "\n",
    "for size in test_sizes:\n",
    "    var, bias, MSE = MC_ate4(n_train, n_test, var_e, reps, size)\n",
    "    MSE_ = np.append(MSE_, MSE)\n",
    "    bias_ = np.append(bias_, bias)\n",
    "    var_ = np.append(var_, var)\n",
    "    \n",
    "#notify.send('Done running the simulations')\n",
    "print(\"end time: \", str(datetime.datetime.now())[11:16])"
   ]
  },
  {
   "cell_type": "code",
   "execution_count": 58,
   "metadata": {},
   "outputs": [
    {
     "data": {
      "text/plain": [
       "array([0.54120302, 0.48323293, 0.53879839, 0.5371711 , 0.53870741,\n",
       "       0.66777161, 0.83124283])"
      ]
     },
     "execution_count": 58,
     "metadata": {},
     "output_type": "execute_result"
    }
   ],
   "source": [
    "MSE_"
   ]
  },
  {
   "cell_type": "code",
   "execution_count": 59,
   "metadata": {},
   "outputs": [
    {
     "data": {
      "text/plain": [
       "array([0.17176529, 0.18949092, 0.22313046, 0.22177298, 0.2390433 ,\n",
       "       0.31482238, 0.44957316])"
      ]
     },
     "execution_count": 59,
     "metadata": {},
     "output_type": "execute_result"
    }
   ],
   "source": [
    "bias_"
   ]
  },
  {
   "cell_type": "code",
   "execution_count": 60,
   "metadata": {},
   "outputs": [
    {
     "data": {
      "text/plain": [
       "array([0.36943772, 0.29374201, 0.31566793, 0.31539813, 0.29966411,\n",
       "       0.35294922, 0.38166967])"
      ]
     },
     "execution_count": 60,
     "metadata": {},
     "output_type": "execute_result"
    }
   ],
   "source": [
    "var_"
   ]
  },
  {
   "cell_type": "markdown",
   "metadata": {},
   "source": [
    "#### True ATEs: \n",
    "* 5 \n",
    "* -1\n",
    "* 2.5\n",
    "* -3.5\n",
    "* 3.5 \n",
    "* -2.5 \n",
    "* 1 \n",
    "* -5"
   ]
  },
  {
   "cell_type": "code",
   "execution_count": 17,
   "metadata": {},
   "outputs": [
    {
     "data": {
      "text/plain": [
       "array([[ 4.14855763,  4.02719516,  3.03399817],\n",
       "       [-1.71754496, -1.79408631, -2.1092917 ],\n",
       "       [ 2.21991572,  2.29791427,  2.2829809 ],\n",
       "       [-3.66019621, -3.54938534, -2.81498489],\n",
       "       [ 3.64552151,  3.54371049,  2.8274092 ],\n",
       "       [-2.25032383, -2.36981421, -2.32688852],\n",
       "       [ 1.70944201,  1.73778637,  2.06191387],\n",
       "       [-4.1436783 , -4.02494506, -3.00283004]])"
      ]
     },
     "execution_count": 17,
     "metadata": {},
     "output_type": "execute_result"
    }
   ],
   "source": [
    "mean_ate_.reshape(len(test_sizes),8).transpose()"
   ]
  },
  {
   "cell_type": "code",
   "execution_count": 15,
   "metadata": {},
   "outputs": [
    {
     "data": {
      "text/plain": [
       "array([[0.55601273, 0.34953758, 0.47392983],\n",
       "       [0.64056395, 0.32628486, 0.47195182],\n",
       "       [0.6607025 , 0.3365409 , 0.51385853],\n",
       "       [0.59775113, 0.29948207, 0.48458515],\n",
       "       [0.58298711, 0.36482551, 0.51193589],\n",
       "       [0.61969623, 0.34605047, 0.50771609],\n",
       "       [0.55941882, 0.26764132, 0.48111972],\n",
       "       [0.60636176, 0.29157805, 0.43707566]])"
      ]
     },
     "execution_count": 15,
     "metadata": {},
     "output_type": "execute_result"
    }
   ],
   "source": [
    "var_ate_.reshape(len(test_sizes),8).transpose()"
   ]
  },
  {
   "cell_type": "code",
   "execution_count": 61,
   "metadata": {},
   "outputs": [],
   "source": [
    "df = pd.DataFrame([test_sizes, MSE_, bias_, var_]).transpose().set_index(0)\n",
    "df.columns=['MSE_TOTAL', 'MSE_T_BIAS', 'MSE_T_VAR']"
   ]
  },
  {
   "cell_type": "code",
   "execution_count": 66,
   "metadata": {},
   "outputs": [
    {
     "data": {
      "text/html": [
       "<div>\n",
       "<style scoped>\n",
       "    .dataframe tbody tr th:only-of-type {\n",
       "        vertical-align: middle;\n",
       "    }\n",
       "\n",
       "    .dataframe tbody tr th {\n",
       "        vertical-align: top;\n",
       "    }\n",
       "\n",
       "    .dataframe thead th {\n",
       "        text-align: right;\n",
       "    }\n",
       "</style>\n",
       "<table border=\"1\" class=\"dataframe\">\n",
       "  <thead>\n",
       "    <tr style=\"text-align: right;\">\n",
       "      <th></th>\n",
       "      <th>MSE_TOTAL</th>\n",
       "      <th>MSE_T_BIAS</th>\n",
       "      <th>MSE_T_VAR</th>\n",
       "    </tr>\n",
       "    <tr>\n",
       "      <th>0</th>\n",
       "      <th></th>\n",
       "      <th></th>\n",
       "      <th></th>\n",
       "    </tr>\n",
       "  </thead>\n",
       "  <tbody>\n",
       "    <tr>\n",
       "      <th>0.2</th>\n",
       "      <td>0.541203</td>\n",
       "      <td>0.171765</td>\n",
       "      <td>0.369438</td>\n",
       "    </tr>\n",
       "    <tr>\n",
       "      <th>0.3</th>\n",
       "      <td>0.483233</td>\n",
       "      <td>0.189491</td>\n",
       "      <td>0.293742</td>\n",
       "    </tr>\n",
       "    <tr>\n",
       "      <th>0.4</th>\n",
       "      <td>0.538798</td>\n",
       "      <td>0.223130</td>\n",
       "      <td>0.315668</td>\n",
       "    </tr>\n",
       "    <tr>\n",
       "      <th>0.5</th>\n",
       "      <td>0.537171</td>\n",
       "      <td>0.221773</td>\n",
       "      <td>0.315398</td>\n",
       "    </tr>\n",
       "    <tr>\n",
       "      <th>0.6</th>\n",
       "      <td>0.538707</td>\n",
       "      <td>0.239043</td>\n",
       "      <td>0.299664</td>\n",
       "    </tr>\n",
       "    <tr>\n",
       "      <th>0.7</th>\n",
       "      <td>0.667772</td>\n",
       "      <td>0.314822</td>\n",
       "      <td>0.352949</td>\n",
       "    </tr>\n",
       "    <tr>\n",
       "      <th>0.8</th>\n",
       "      <td>0.831243</td>\n",
       "      <td>0.449573</td>\n",
       "      <td>0.381670</td>\n",
       "    </tr>\n",
       "  </tbody>\n",
       "</table>\n",
       "</div>"
      ],
      "text/plain": [
       "     MSE_TOTAL  MSE_T_BIAS  MSE_T_VAR\n",
       "0                                    \n",
       "0.2   0.541203    0.171765   0.369438\n",
       "0.3   0.483233    0.189491   0.293742\n",
       "0.4   0.538798    0.223130   0.315668\n",
       "0.5   0.537171    0.221773   0.315398\n",
       "0.6   0.538707    0.239043   0.299664\n",
       "0.7   0.667772    0.314822   0.352949\n",
       "0.8   0.831243    0.449573   0.381670"
      ]
     },
     "execution_count": 66,
     "metadata": {},
     "output_type": "execute_result"
    }
   ],
   "source": [
    "df"
   ]
  },
  {
   "cell_type": "code",
   "execution_count": 65,
   "metadata": {},
   "outputs": [],
   "source": [
    "import pickle\n",
    "with open('msetotal001.pkl','wb') as f:\n",
    "    pickle.dump(df, f)"
   ]
  },
  {
   "cell_type": "code",
   "execution_count": null,
   "metadata": {},
   "outputs": [],
   "source": [
    "mean_ate_ = mean_ate_.reshape(len(test_sizes),8).transpose()\n",
    "mse_ate_ = mse_ate_.reshape(len(test_sizes),8).transpose()\n",
    "bias_ate_ = bias_ate_.reshape(len(test_sizes),8).transpose()\n",
    "var_ate_ = var_ate_.reshape(len(test_sizes),8).transpose()\n",
    "df = pd.DataFrame([test_sizes, mean_ate_[0], mean_ate_[1],mean_ate_[2], mean_ate_[3], mse_ate_[0], mse_ate_[1],mse_ate_[2], mse_ate_[3], bias_ate_[0], bias_ate_[1], bias_ate_[2], bias_ate_[3], var_ate_[0], var_ate_[1],var_ate_[2], var_ate_[3], MSE_, bias_, var_]).transpose().set_index(0)\n",
    "df.columns=['Mean1', 'Mean2', 'Mean3', 'Mean4', 'MSE1', 'MSE2','MSE3', 'MSE4', 'BIAS1', 'BIAS2','BIAS3', 'BIAS4', 'VAR1', 'VAR2','VAR3', 'VAR4', 'MSE_TOTAL', 'MSE_T_BIAS', 'MSE_T_VAR']"
   ]
  }
 ],
 "metadata": {
  "kernelspec": {
   "display_name": "Python 3",
   "language": "python",
   "name": "python3"
  },
  "language_info": {
   "codemirror_mode": {
    "name": "ipython",
    "version": 3
   },
   "file_extension": ".py",
   "mimetype": "text/x-python",
   "name": "python",
   "nbconvert_exporter": "python",
   "pygments_lexer": "ipython3",
   "version": "3.8.3"
  }
 },
 "nbformat": 4,
 "nbformat_minor": 4
}
