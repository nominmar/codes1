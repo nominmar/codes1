{
 "cells": [
  {
   "cell_type": "code",
   "execution_count": 6,
   "metadata": {},
   "outputs": [],
   "source": [
    "import pandas as pd\n",
    "import numpy as np\n",
    "from random import random\n",
    "from CTL2.causal_tree_learn import CausalTree\n",
    "from DGP.dgp4 import dgp4\n",
    "from DGP.dgp6 import dgp_ate8\n",
    "\n",
    "from MC.mc2 import MC_MSE_2\n",
    "from MC.mc2_maxd import MC_MSE_2max\n",
    "from utility.utility import transposer as tp\n",
    "from utility.utility import writer\n",
    "from utility.utility import reader\n",
    "from sklearn.model_selection import train_test_split\n",
    "from sklearn.metrics import mean_squared_error as mse\n",
    "import matplotlib.pyplot as plt\n",
    "import pickle as pkl\n",
    "#from notify_run import Notify \n",
    "#notify = Notify()\n",
    "import datetime"
   ]
  },
  {
   "cell_type": "code",
   "execution_count": 41,
   "metadata": {},
   "outputs": [
    {
     "data": {
      "text/plain": [
       "array([0.1875, 0.1875, 0.1875, 0.1875, 0.1875, 0.1875, 0.1875, 0.1875,\n",
       "       0.1875, 0.1875])"
      ]
     },
     "execution_count": 41,
     "metadata": {},
     "output_type": "execute_result"
    }
   ],
   "source": [
    "np.var(b, axis = 1)"
   ]
  },
  {
   "cell_type": "code",
   "execution_count": 53,
   "metadata": {},
   "outputs": [],
   "source": [
    "def MC_ate4(n_train, n_test, var_e, reps, nomin_test):    \n",
    "    #true ATE\n",
    "    #ATE1 = np.ones(reps)*3\n",
    "    #ATE2 = np.ones(reps)*1\n",
    "    #ATE3 = np.ones(reps)*-2\n",
    "    #ATE4 = np.ones(reps)*-3\n",
    "    #predicted ate\n",
    "    #ate1 = []\n",
    "    #ate2 = []\n",
    "    #ate3 = []\n",
    "    #ate4 = []\n",
    "    #TOTAL MSE, Bias, Var    \n",
    "    tauhat = np.zeros((n_test, 1))\n",
    "    x_test, y_test, treat_test = dgp_ate4_test(n_test, var_e)\n",
    "    tau = np.where(((x_test[:,0] >= 0) & (x_test[:,1] >= 0)),3, np.where(((x_test[:,0] >= 0) & (x_test[:,1] < 0)),1, np.where(((x_test[:,0] < 0) & (x_test[:,1] >= 0)),-2,-3)))\n",
    "    #MONTE CARLO\n",
    "    for i in range(reps):\n",
    "        x_train, y_train, treat_train = dgp_ate4_test(n_train,var_e)     \n",
    "        #true individual treatment effect\n",
    "        #tau = np.where(((x1 >= 0) & (x2 >= 0)),2, np.where(((x1 >= 0) & (x2 < 0)),1, np.where(((x1 < 0) & (x2 >= 0)),-1,-2)))\n",
    "        #predicted infividual treatment effect\n",
    "        ctl_predict = MC_MSE_2max(x_train, x_test, y_train, y_test, treat_train, treat_test, nomin_test)       \n",
    "        tauhat = np.append(tauhat, ctl_predict.reshape(-1,1), axis = 1)\n",
    "\n",
    "    #variance and mean across monte carlo simulations for each observation. 10000x1 arrays\n",
    "    ind_var = np.var(tauhat[:, 1:], axis = 1)\n",
    "    ind_mean = np.mean(tauhat, axis = 1)\n",
    "    \n",
    "    total_var = np.sum(ind_var)/n_test\n",
    "    total_bias = np.sum(np.square(np.subtract(ind_mean, tau)))/n_test\n",
    "\n",
    "    \n",
    "    return total_var, total_bias, total_var+total_bias"
   ]
  },
  {
   "cell_type": "code",
   "execution_count": 47,
   "metadata": {},
   "outputs": [
    {
     "name": "stdout",
     "output_type": "stream",
     "text": [
      "(10000, 11)\n",
      "(10000, 10)\n",
      "(10000,)\n",
      "(10000,)\n"
     ]
    },
    {
     "data": {
      "text/plain": [
       "(0.21837717409120236, 0.16993763523699304, 0.3883148093281954)"
      ]
     },
     "execution_count": 47,
     "metadata": {},
     "output_type": "execute_result"
    }
   ],
   "source": [
    "MC_ate4(1000,10000, 0.01, 10, 0.5)"
   ]
  },
  {
   "cell_type": "code",
   "execution_count": 10,
   "metadata": {},
   "outputs": [],
   "source": [
    "def MC_ate8(n_train, n_test, var_e, reps, nomin_test):\n",
    "    #true ATE\n",
    "    ATE1 = np.ones(reps)*5\n",
    "    ATE2 = np.ones(reps)*-1\n",
    "    ATE3 = np.ones(reps)*2.5\n",
    "    ATE4 = np.ones(reps)*-3.5\n",
    "    ATE5 = np.ones(reps)*3.5\n",
    "    ATE6 = np.ones(reps)*-2.5\n",
    "    ATE7 = np.ones(reps)*1\n",
    "    ATE8 = np.ones(reps)*-5\n",
    "    #predicted ate\n",
    "    ate1 = []\n",
    "    ate2 = []\n",
    "    ate3 = []\n",
    "    ate4 = []\n",
    "    ate5 = []\n",
    "    ate6 = []\n",
    "    ate7 = []\n",
    "    ate8 = []\n",
    "    \n",
    "    tauhat = np.zeros((n_test, 1))\n",
    "    x_test, y_test, treat_test = dgp_ate8(n_test, var_e)\n",
    "    tau = np.where(((x_test[:,0] >= 0) & (x_test[:,1] >= 0) & (x_test[:,2] >= 0)),5, \n",
    "                       np.where(((x_test[:,0] < 0) & (x_test[:,1] >= 0) & (x_test[:,2] >= 0)), -1, \n",
    "                                np.where(((x_test[:,0] >= 0) & (x_test[:,1] < 0) & (x_test[:,2] >= 0)), 2.5, \n",
    "                                         np.where(((x_test[:,0] < 0) & (x_test[:,1] < 0) & (x_test[:,2] >= 0)), -3.5, \n",
    "                                                  np.where(((x_test[:,0] >= 0) & (x_test[:,1] >= 0) & (x_test[:,2] < 0)), 3.5, \n",
    "                                                           np.where(((x_test[:,0] < 0) & (x_test[:,1] >= 0) & (x_test[:,2] < 0)), -2.5, \n",
    "                                                                    np.where(((x_test[:,0] >= 0) & (x_test[:,1] < 0) & (x_test[:,2] < 0)), 1, -5)))))))\n",
    "       \n",
    "    for i in range(reps):\n",
    "        x_train, y_train, treat_train = dgp_ate8(n_train, var_e)    \n",
    "        #true individual treatment effect\n",
    "         \n",
    "        \n",
    "        #predicted infividual treatment effect\n",
    "        ctl_predict = MC_MSE_2(x_train, x_test, y_train, y_test, treat_train, treat_test, nomin_test)\n",
    "        #predicted ATE\n",
    "        ate1 = np.append(ate1, np.mean(ctl_predict[np.where((x_test[:,0] >= 0) & (x_test[:,1] >= 0) & (x_test[:,2] >= 0))]))\n",
    "        ate2 = np.append(ate2, np.mean(ctl_predict[np.where((x_test[:,0] < 0) & (x_test[:,1] >= 0) & (x_test[:,2] >= 0))]))\n",
    "        ate3 = np.append(ate3, np.mean(ctl_predict[np.where((x_test[:,0] >= 0) & (x_test[:,1] < 0) & (x_test[:,2] >= 0))]))\n",
    "        ate4 = np.append(ate4, np.mean(ctl_predict[np.where((x_test[:,0] < 0) & (x_test[:,1] < 0) & (x_test[:,2] >= 0))]))\n",
    "        ate5 = np.append(ate5, np.mean(ctl_predict[np.where((x_test[:,0] >= 0) & (x_test[:,1] >= 0) & (x_test[:,2] < 0))]))\n",
    "        ate6 = np.append(ate6, np.mean(ctl_predict[np.where((x_test[:,0] < 0) & (x_test[:,1] >= 0) & (x_test[:,2] < 0))]))\n",
    "        ate7 = np.append(ate7, np.mean(ctl_predict[np.where((x_test[:,0] >= 0) & (x_test[:,1] < 0) & (x_test[:,2] < 0))]))\n",
    "        ate8 = np.append(ate8, np.mean(ctl_predict[np.where((x_test[:,0] < 0) & (x_test[:,1] < 0) & (x_test[:,2] < 0))]))\n",
    "\n",
    "        #leafs = np.append(leafs, len(np.unique(ctl_predict)))\n",
    "        #nn = int(len(ctl_predict))\n",
    "        tauhat = np.append(tauhat, ctl_predict.reshape(-1,1), axis = 1)\n",
    "\n",
    "    #ATE MSE's\n",
    "    mean_ate = np.array([np.mean(ate1), np.mean(ate2), np.mean(ate3), np.mean(ate4), np.mean(ate5), np.mean(ate6), np.mean(ate7), np.mean(ate8)])    \n",
    "    mse_ate = np.array([mse(ATE1, ate1), mse(ATE2, ate2),mse(ATE3, ate3), mse(ATE4, ate4),mse(ATE5, ate5), mse(ATE6, ate6), mse(ATE7, ate7), mse(ATE8, ate8)])\n",
    "    bias_ate = np.array([np.sum(np.subtract(ATE1,ate1))/reps, np.sum(np.subtract(ATE2,ate2))/reps, np.sum(np.subtract(ATE3,ate3))/reps, np.sum(np.subtract(ATE4,ate4))/reps,\n",
    "                         np.sum(np.subtract(ATE5,ate5))/reps, np.sum(np.subtract(ATE6,ate6))/reps, np.sum(np.subtract(ATE7,ate7))/reps, np.sum(np.subtract(ATE8,ate8))/reps])\n",
    "    var_ate = np.array([np.var(ate1), np.var(ate2), np.var(ate3), np.var(ate4), np.var(ate5), np.var(ate6), np.var(ate7), np.var(ate8)])\n",
    "    \n",
    "    #MSE totals\n",
    "    \n",
    "    ind_var = np.var(tauhat[:, 1:], axis = 1)\n",
    "    ind_mean = np.mean(tauhat, axis = 1)\n",
    "    \n",
    "    total_var = np.sum(ind_var)/n_test\n",
    "    total_bias = np.sum(np.square(np.subtract(ind_mean, tau)))/n_test\n",
    "    \n",
    "    \n",
    "    return mean_ate, mse_ate, bias_ate, var_ate, total_bias, total_var, total_bias+total_var"
   ]
  },
  {
   "cell_type": "code",
   "execution_count": 57,
   "metadata": {},
   "outputs": [
    {
     "name": "stdout",
     "output_type": "stream",
     "text": [
      "start time:  19:22\n",
      "end time:  20:51\n"
     ]
    }
   ],
   "source": [
    "print(\"start time: \", str(datetime.datetime.now())[11:16])\n",
    "test_sizes = [0.2, 0.3, 0.4, 0.5, 0.6, 0.7, 0.8]\n",
    "\n",
    "MSE_ = []\n",
    "bias_ = []\n",
    "var_ = []\n",
    "\n",
    "var_e = 0.01\n",
    "n_test = 1000\n",
    "n_train = 1000\n",
    "reps = 500\n",
    "\n",
    "for size in test_sizes:\n",
    "    var, bias, MSE = MC_ate4(n_train, n_test, var_e, reps, size)\n",
    "    MSE_ = np.append(MSE_, MSE)\n",
    "    bias_ = np.append(bias_, bias)\n",
    "    var_ = np.append(var_, var)\n",
    "    \n",
    "#notify.send('Done running the simulations')\n",
    "print(\"end time: \", str(datetime.datetime.now())[11:16])"
   ]
  },
  {
   "cell_type": "markdown",
   "metadata": {},
   "source": [
    "#### True ATEs: \n",
    "* 5 \n",
    "* -1\n",
    "* 2.5\n",
    "* -3.5\n",
    "* 3.5 \n",
    "* -2.5 \n",
    "* 1 \n",
    "* -5"
   ]
  },
  {
   "cell_type": "code",
   "execution_count": null,
   "metadata": {},
   "outputs": [],
   "source": [
    "mean_ate_, mse_ate_, bias_ate_, var_ate_ = tp(mean_ate_, mse_ate_, bias_ate_, var_ate_, test_sizes, 8)"
   ]
  },
  {
   "cell_type": "code",
   "execution_count": 12,
   "metadata": {},
   "outputs": [
    {
     "ename": "NameError",
     "evalue": "name 'mean_ate_' is not defined",
     "output_type": "error",
     "traceback": [
      "\u001b[1;31m---------------------------------------------------------------------------\u001b[0m",
      "\u001b[1;31mNameError\u001b[0m                                 Traceback (most recent call last)",
      "\u001b[1;32m<ipython-input-12-adb5252dbe38>\u001b[0m in \u001b[0;36m<module>\u001b[1;34m\u001b[0m\n\u001b[1;32m----> 1\u001b[1;33m \u001b[0mmean_ate_\u001b[0m\u001b[1;33m\u001b[0m\u001b[1;33m\u001b[0m\u001b[0m\n\u001b[0m",
      "\u001b[1;31mNameError\u001b[0m: name 'mean_ate_' is not defined"
     ]
    }
   ],
   "source": [
    "mean_ate_"
   ]
  },
  {
   "cell_type": "code",
   "execution_count": null,
   "metadata": {},
   "outputs": [],
   "source": [
    "mean_ate_ = mean_ate_.reshape(len(test_sizes),8).transpose()\n",
    "mse_ate_ = mse_ate_.reshape(len(test_sizes),8).transpose()\n",
    "bias_ate_ = bias_ate_.reshape(len(test_sizes),8).transpose()\n",
    "var_ate_ = var_ate_.reshape(len(test_sizes),8).transpose()\n",
    "df = pd.DataFrame([test_sizes, mean_ate_[0], mean_ate_[1],mean_ate_[2], mean_ate_[3], mse_ate_[0], mse_ate_[1],mse_ate_[2], mse_ate_[3], bias_ate_[0], bias_ate_[1], bias_ate_[2], bias_ate_[3], var_ate_[0], var_ate_[1],var_ate_[2], var_ate_[3], MSE_, bias_, var_]).transpose().set_index(0)\n",
    "df.columns=['Mean1', 'Mean2', 'Mean3', 'Mean4', 'MSE1', 'MSE2','MSE3', 'MSE4', 'BIAS1', 'BIAS2','BIAS3', 'BIAS4', 'VAR1', 'VAR2','VAR3', 'VAR4', 'MSE_TOTAL', 'MSE_T_BIAS', 'MSE_T_VAR']"
   ]
  }
 ],
 "metadata": {
  "kernelspec": {
   "display_name": "Python 3",
   "language": "python",
   "name": "python3"
  },
  "language_info": {
   "codemirror_mode": {
    "name": "ipython",
    "version": 3
   },
   "file_extension": ".py",
   "mimetype": "text/x-python",
   "name": "python",
   "nbconvert_exporter": "python",
   "pygments_lexer": "ipython3",
   "version": "3.8.3"
  }
 },
 "nbformat": 4,
 "nbformat_minor": 4
}
