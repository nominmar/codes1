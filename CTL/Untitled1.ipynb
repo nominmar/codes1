{
 "cells": [
  {
   "cell_type": "code",
   "execution_count": 3,
   "metadata": {},
   "outputs": [],
   "source": [
    "import pandas as pd\n",
    "from CTL2.causal_tree_learn import CausalTree\n",
    "from DGP.dgp2 import dgp2\n",
    "from DGP.dgp1 import dgp1\n",
    "from DGP.dgp3 import dgp3\n",
    "\n",
    "from sklearn.model_selection import train_test_split\n",
    "import numpy as np\n",
    "import matplotlib.pyplot as plt\n",
    "from CTL.causal_tree_learn import CausalTree as CT2\n",
    "from random import random"
   ]
  },
  {
   "cell_type": "code",
   "execution_count": 46,
   "metadata": {},
   "outputs": [],
   "source": [
    "n=10\n",
    "p=[1./2, 1./2]\n",
    "d = np.random.choice([0, 1], size=(n,1), p=p)\n",
    "d_alt = (d-1)*-1\n"
   ]
  },
  {
   "cell_type": "code",
   "execution_count": 47,
   "metadata": {},
   "outputs": [],
   "source": [
    "x1 = np.random.normal(loc = 0.0, scale = 1.0, size = (n,1))\n",
    "x2 = np.random.normal(loc = 0.0, scale = 1.0, size = (n,1))\n",
    "x3 = np.random.normal(loc = 0.0, scale = 1.0, size = (n,1))\n",
    "x4 = np.random.normal(loc = 0.0, scale = 1.0, size = (n,1))    \n",
    "e = np.random.normal(loc = 0.0, scale = 0.1, size = (n,1))\n"
   ]
  },
  {
   "cell_type": "code",
   "execution_count": 48,
   "metadata": {},
   "outputs": [],
   "source": [
    "ind = np.zeros((n,1))\n",
    "#print(d)\n",
    "ind[np.where(x1 >= 0)] = 1\n",
    "#print(ind)\n",
    "y1 = np.add(d*-1, np.multiply(2, np.multiply(ind,d)))\n",
    "y1_alt = np.add(d_alt*-1, np.multiply(2, np.multiply(ind,d_alt)))"
   ]
  },
  {
   "cell_type": "code",
   "execution_count": 49,
   "metadata": {},
   "outputs": [],
   "source": [
    "y2 = np.add(y1, x2)\n",
    "y3 = np.add(y2, x3)\n",
    "y4 = np.add(y3, x4)\n",
    "y = np.add(y4, e)"
   ]
  },
  {
   "cell_type": "code",
   "execution_count": 50,
   "metadata": {},
   "outputs": [
    {
     "data": {
      "text/plain": [
       "(array([[0],\n",
       "        [0],\n",
       "        [0],\n",
       "        [1],\n",
       "        [1],\n",
       "        [1],\n",
       "        [0],\n",
       "        [1],\n",
       "        [0],\n",
       "        [1]]),\n",
       " array([[-1.13676418],\n",
       "        [-2.32779969],\n",
       "        [-0.41699271],\n",
       "        [-1.38767973],\n",
       "        [ 1.42727834],\n",
       "        [-0.20033177],\n",
       "        [-1.2572951 ],\n",
       "        [ 1.09776732],\n",
       "        [-1.00492892],\n",
       "        [-0.32124246]]))"
      ]
     },
     "execution_count": 50,
     "metadata": {},
     "output_type": "execute_result"
    }
   ],
   "source": [
    "d, x1"
   ]
  },
  {
   "cell_type": "code",
   "execution_count": 51,
   "metadata": {},
   "outputs": [],
   "source": [
    "y = np.add(np.add(np.add(np.add(y1,x2),x3),x4),e)"
   ]
  },
  {
   "cell_type": "code",
   "execution_count": 52,
   "metadata": {},
   "outputs": [
    {
     "data": {
      "text/plain": [
       "array([[-1.64991241],\n",
       "       [ 1.55901268],\n",
       "       [-0.94451772],\n",
       "       [ 0.80435862],\n",
       "       [ 0.37323671],\n",
       "       [ 1.79347817],\n",
       "       [-1.93489106],\n",
       "       [-1.00502968],\n",
       "       [-0.51563644],\n",
       "       [ 3.753865  ]])"
      ]
     },
     "execution_count": 52,
     "metadata": {},
     "output_type": "execute_result"
    }
   ],
   "source": [
    "y_alt = np.add(np.add(np.add(np.add(y1_alt,x2),x3),x4),e)\n",
    "y_alt"
   ]
  },
  {
   "cell_type": "code",
   "execution_count": 62,
   "metadata": {},
   "outputs": [],
   "source": [
    "a = np.where(d == 1, y - y_alt, y_alt - y)"
   ]
  },
  {
   "cell_type": "code",
   "execution_count": 66,
   "metadata": {},
   "outputs": [],
   "source": [
    "b = "
   ]
  },
  {
   "cell_type": "code",
   "execution_count": 69,
   "metadata": {},
   "outputs": [
    {
     "data": {
      "text/plain": [
       "array([[ 3.33066907e-16],\n",
       "       [-2.22044605e-16],\n",
       "       [ 0.00000000e+00],\n",
       "       [ 0.00000000e+00],\n",
       "       [ 0.00000000e+00],\n",
       "       [ 0.00000000e+00],\n",
       "       [ 2.22044605e-16],\n",
       "       [-1.11022302e-16],\n",
       "       [ 0.00000000e+00],\n",
       "       [ 0.00000000e+00]])"
      ]
     },
     "execution_count": 69,
     "metadata": {},
     "output_type": "execute_result"
    }
   ],
   "source": [
    "a - b"
   ]
  },
  {
   "cell_type": "code",
   "execution_count": 36,
   "metadata": {},
   "outputs": [
    {
     "ename": "SyntaxError",
     "evalue": "invalid syntax (<ipython-input-36-c3a723443efe>, line 1)",
     "output_type": "error",
     "traceback": [
      "\u001b[1;36m  File \u001b[1;32m\"<ipython-input-36-c3a723443efe>\"\u001b[1;36m, line \u001b[1;32m1\u001b[0m\n\u001b[1;33m    true[np.where(d == 1) = y - y_alt\u001b[0m\n\u001b[1;37m                          ^\u001b[0m\n\u001b[1;31mSyntaxError\u001b[0m\u001b[1;31m:\u001b[0m invalid syntax\n"
     ]
    }
   ],
   "source": [
    "true[np.where(d == 1) = y - y_alt\n",
    "true[np.where(d == 0)] = y_alt - y"
   ]
  },
  {
   "cell_type": "code",
   "execution_count": 19,
   "metadata": {},
   "outputs": [],
   "source": [
    "n=10\n",
    "p=[1./2, 1./2]\n",
    "d = np.random.choice([0, 1], size=(n,1), p=p)\n",
    "d_alt = (d-1)*-1\n",
    "x1 = np.random.normal(loc = 0.0, scale = 1.0, size = (n,1))\n",
    "x2 = np.random.normal(loc = 0.0, scale = 1.0, size = (n,1))\n",
    "x3 = np.random.normal(loc = 0.0, scale = 1.0, size = (n,1))\n",
    "x4 = np.random.normal(loc = 0.0, scale = 1.0, size = (n,1))    \n",
    "e = np.random.normal(loc = 0.0, scale = 0.1, size = (n,1))\n",
    "#print(x1)\n",
    "ind = np.zeros((n,1))\n",
    "#print(d)\n",
    "ind[np.where(x1 >= 0)] = 1\n",
    "#print(ind)\n",
    "y1 = np.add(d*-1, np.multiply(2, np.multiply(ind,d)))\n",
    "y1_alt = np.add(d_alt*-1, np.multiply(2, np.multiply(ind,d_alt)))\n",
    "\n",
    "#print(y1)\n",
    "y2 = np.add(y1, x2)\n",
    "y3 = np.add(y2, x3)\n",
    "y4 = np.add(y3, x4)\n",
    "y = np.add(y4, e)\n",
    "y_alt = np.add(np.add(np.add(np.add(y1_alt,x2),x3),x4),e)"
   ]
  },
  {
   "cell_type": "code",
   "execution_count": 20,
   "metadata": {},
   "outputs": [
    {
     "data": {
      "text/plain": [
       "(array([[0],\n",
       "        [0],\n",
       "        [1],\n",
       "        [0],\n",
       "        [0],\n",
       "        [0],\n",
       "        [1],\n",
       "        [0],\n",
       "        [1],\n",
       "        [1]]),\n",
       " array([[1],\n",
       "        [1],\n",
       "        [0],\n",
       "        [1],\n",
       "        [1],\n",
       "        [1],\n",
       "        [0],\n",
       "        [1],\n",
       "        [0],\n",
       "        [0]]))"
      ]
     },
     "execution_count": 20,
     "metadata": {},
     "output_type": "execute_result"
    }
   ],
   "source": [
    "d, d_alt"
   ]
  },
  {
   "cell_type": "code",
   "execution_count": 4,
   "metadata": {},
   "outputs": [],
   "source": [
    "x_train, x_test, y_train, y_test, treat_train, treat_test = dgp3(500)\n",
    "nomin_test = 0.5\n",
    "# adaptive CT (Athey and Imbens, PNAS 2016)\n",
    "ctl = CausalTree(honest=True, weight=0.0, split_size=0.0) #which type of tree to call\n",
    "ctl.fit(x_train, y_train, treat_train, nomin_test = nomin_test) #select est size when fitting\n",
    "ctl.prune()\n",
    "ctl_predict = ctl.predict(x_test)"
   ]
  },
  {
   "cell_type": "code",
   "execution_count": 13,
   "metadata": {},
   "outputs": [
    {
     "data": {
      "text/plain": [
       "array([-1.24800593,  0.86631938,  0.86631938,  1.84454095, -0.74599093,\n",
       "        0.86631938,  0.55980906,  0.55980906, -1.24800593, -0.74599093,\n",
       "        1.84454095, -0.74599093, -1.24800593, -0.74599093,  1.84454095,\n",
       "       -1.24800593,  0.55980906,  0.86631938,  2.25374342, -1.24800593,\n",
       "        1.84454095,  1.84454095,  1.84454095,  1.84454095,  0.55980906,\n",
       "        0.86631938,  0.86631938, -1.24800593,  0.86631938,  0.55980906,\n",
       "        1.84454095, -0.74599093, -0.84303582,  2.25374342,  2.25374342,\n",
       "        0.86631938, -0.74599093, -0.74599093,  0.86631938,  0.86631938,\n",
       "        2.25374342,  0.55980906,  0.86631938,  0.55980906, -1.24800593,\n",
       "       -1.24800593, -1.24800593,  2.25374342,  2.25374342,  0.86631938,\n",
       "       -0.74599093, -0.84303582, -0.84303582,  0.55980906, -1.24800593,\n",
       "        1.84454095,  0.55980906,  0.86631938,  0.86631938,  0.55980906,\n",
       "       -1.24800593, -0.74599093,  0.55980906, -1.24800593,  0.86631938,\n",
       "        0.55980906,  0.55980906, -1.24800593, -1.24800593,  2.25374342,\n",
       "       -1.24800593, -0.74599093, -0.84303582,  0.55980906,  0.55980906,\n",
       "        1.84454095, -1.24800593,  0.86631938, -0.74599093,  0.86631938,\n",
       "        0.55980906,  1.84454095,  2.25374342,  0.55980906,  2.25374342,\n",
       "       -1.24800593,  1.84454095,  0.86631938,  0.55980906,  2.25374342,\n",
       "        1.84454095,  0.86631938,  0.55980906,  2.25374342,  1.84454095,\n",
       "        0.86631938,  2.25374342, -1.24800593,  0.86631938,  0.55980906,\n",
       "        0.55980906, -0.74599093,  0.86631938, -1.24800593,  1.84454095,\n",
       "        0.86631938,  1.84454095,  0.55980906,  0.55980906,  1.84454095,\n",
       "        0.55980906,  0.86631938, -1.24800593,  1.84454095,  0.86631938,\n",
       "       -0.74599093,  0.86631938,  1.84454095,  2.25374342,  0.55980906,\n",
       "        1.84454095,  1.84454095,  0.86631938,  1.84454095,  0.55980906,\n",
       "        0.55980906,  1.84454095,  0.55980906,  1.84454095,  0.55980906,\n",
       "       -1.24800593,  1.84454095, -0.74599093,  0.55980906,  0.86631938,\n",
       "       -0.74599093,  0.86631938,  0.55980906, -1.24800593,  1.84454095,\n",
       "        1.84454095,  0.55980906, -1.24800593,  1.84454095,  0.86631938,\n",
       "       -0.74599093, -0.74599093,  1.84454095,  2.25374342, -1.24800593,\n",
       "        0.86631938,  2.25374342,  0.55980906, -1.24800593, -1.24800593,\n",
       "        0.86631938,  0.55980906,  1.84454095,  0.86631938,  1.84454095,\n",
       "        1.84454095, -0.84303582, -1.24800593,  0.55980906,  2.25374342,\n",
       "       -1.24800593,  0.55980906,  0.86631938,  0.86631938,  0.86631938,\n",
       "        0.55980906, -1.24800593,  0.86631938, -0.74599093,  0.86631938,\n",
       "        0.55980906, -0.74599093,  0.55980906,  0.86631938, -1.24800593,\n",
       "        0.55980906,  1.84454095, -0.74599093,  1.84454095, -0.74599093,\n",
       "        1.84454095,  0.55980906, -1.24800593, -1.24800593,  1.84454095,\n",
       "        2.25374342, -0.74599093,  0.55980906,  1.84454095,  2.25374342,\n",
       "        0.86631938, -1.24800593,  0.86631938,  0.55980906,  0.55980906,\n",
       "        0.55980906,  0.55980906,  0.55980906,  2.25374342,  0.86631938,\n",
       "       -0.84303582,  0.55980906,  0.55980906,  0.86631938,  0.86631938,\n",
       "        0.86631938, -1.24800593,  0.55980906, -0.74599093,  0.86631938,\n",
       "       -1.24800593, -1.24800593,  0.55980906,  0.86631938,  0.86631938,\n",
       "       -0.74599093,  0.55980906,  0.55980906,  1.84454095, -1.24800593,\n",
       "        1.84454095,  1.84454095,  1.84454095,  0.55980906, -1.24800593,\n",
       "        0.86631938, -0.84303582,  1.84454095,  0.55980906,  0.55980906,\n",
       "        0.55980906,  1.84454095,  2.25374342,  0.86631938,  2.25374342,\n",
       "       -1.24800593,  1.84454095,  0.86631938,  0.86631938, -0.74599093,\n",
       "       -0.74599093,  0.86631938,  1.84454095,  0.55980906,  0.55980906])"
      ]
     },
     "execution_count": 13,
     "metadata": {},
     "output_type": "execute_result"
    }
   ],
   "source": [
    "ctl_predict"
   ]
  },
  {
   "cell_type": "code",
   "execution_count": null,
   "metadata": {},
   "outputs": [],
   "source": []
  }
 ],
 "metadata": {
  "kernelspec": {
   "display_name": "Python 3",
   "language": "python",
   "name": "python3"
  },
  "language_info": {
   "codemirror_mode": {
    "name": "ipython",
    "version": 3
   },
   "file_extension": ".py",
   "mimetype": "text/x-python",
   "name": "python",
   "nbconvert_exporter": "python",
   "pygments_lexer": "ipython3",
   "version": "3.8.3"
  }
 },
 "nbformat": 4,
 "nbformat_minor": 4
}
