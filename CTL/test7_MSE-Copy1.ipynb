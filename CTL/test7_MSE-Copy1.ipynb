{
 "cells": [
  {
   "cell_type": "code",
   "execution_count": 39,
   "metadata": {},
   "outputs": [],
   "source": [
    "import pandas as pd\n",
    "from CTL2.causal_tree_learn import CausalTree\n",
    "from DGP.dgp2 import dgp2\n",
    "from DGP.dgp1 import dgp1\n",
    "from DGP.dgp3 import dgp3\n",
    "\n",
    "from MC.mc1 import MC_MSE_1\n",
    "from MC.mc2 import MC_MSE_2\n",
    "import timeit\n",
    "from sklearn.model_selection import train_test_split\n",
    "import numpy as np\n",
    "import matplotlib.pyplot as plt\n",
    "from CTL.causal_tree_learn import CausalTree as CT2\n",
    "from random import random\n",
    "\n",
    "from sklearn.metrics import mean_squared_error as mse\n",
    "\n",
    "import pickle as pkl"
   ]
  },
  {
   "cell_type": "code",
   "execution_count": 2,
   "metadata": {},
   "outputs": [],
   "source": [
    "def mcreps_mse_all(reps, n, nomin_test):    \n",
    "    ATE1 = []\n",
    "    ATE0 = []\n",
    "    MSEt = []\n",
    "    true = np.ones(reps)\n",
    "    \n",
    "    for i in range(reps):\n",
    "        x_train, x_test, y_train, y_test, treat_train, treat_test = dgp3(n)\n",
    "        x1 = x_test[:,0]\n",
    "        ctl_predict = MC_MSE_2(x_train, x_test, y_train, y_test, treat_train, treat_test, nomin_test)\n",
    "        ATE1.append(np.mean(ctl_predict[np.where(x1 > 0)]))\n",
    "        ATE0.append(np.mean(ctl_predict[np.where(x1 < 0)]))\n",
    "        MSEt.append(np.sum(np.square(np.subtract(y_test[:,0],ctl_predict)))/n)\n",
    "\n",
    "    mse_total = np.sum(np.array(MSEt))/reps\n",
    "    mse1 = mse(np.array(ATE1),true)\n",
    "    mse2 = mse(np.array(ATE0),true*-1)\n",
    "    bias1 = np.sum(np.subtract(np.array(ATE1),true))/reps\n",
    "    bias2 = np.sum(np.add(np.array(ATE0), true))/reps\n",
    "    var1 = np.var(ATE1)\n",
    "    var2 = np.var(ATE0)\n",
    "    return mse1, mse2, bias1, bias2, var1, var2, mse_total"
   ]
  },
  {
   "cell_type": "code",
   "execution_count": 14,
   "metadata": {},
   "outputs": [],
   "source": [
    "def mcreps_mse_all2(reps, n, nomin_test):    \n",
    "    ATE1 = []\n",
    "    ATE0 = []\n",
    "    MSEt = []\n",
    "    MSEb = []\n",
    "    MSEv = []\n",
    "    true = np.ones(reps)\n",
    "    \n",
    "    for i in range(reps):\n",
    "        x_train, x_test, y_train, y_test, treat_train, treat_test = dgp3(n)\n",
    "        x1 = x_test[:,0]\n",
    "        ctl_predict = MC_MSE_2(x_train, x_test, y_train, y_test, treat_train, treat_test, nomin_test)\n",
    "        ATE1.append(np.mean(ctl_predict[np.where(x1 > 0)]))\n",
    "        ATE0.append(np.mean(ctl_predict[np.where(x1 < 0)]))\n",
    "        MSEt.append(np.sum(np.square(np.subtract(y_test[:,0],ctl_predict)))/n)\n",
    "        MSEb.append(np.sum(np.subtract(ctl_predict,y_test[:,0]))/n)\n",
    "        MSEv.append(np.var(ctl_predict))\n",
    "    mse_total = np.sum(np.array(MSEt))/reps\n",
    "    mse1 = mse(np.array(ATE1),true)\n",
    "    mse2 = mse(np.array(ATE0),true*-1)\n",
    "    bias1 = np.sum(np.subtract(np.array(ATE1),true))/reps\n",
    "    bias2 = np.sum(np.add(np.array(ATE0), true))/reps\n",
    "    var1 = np.var(ATE1)\n",
    "    var2 = np.var(ATE0)\n",
    "    mseb = np.sum(np.array(MSEb))/reps\n",
    "    msev = np.sum(np.array(MSEv))/reps\n",
    "    return mse1, mse2, bias1, bias2, var1, var2, mse_total, mseb, msev"
   ]
  },
  {
   "cell_type": "code",
   "execution_count": 40,
   "metadata": {},
   "outputs": [],
   "source": [
    "def mcreps_mse_all3(reps, n, nomin_test):    \n",
    "    ATE1 = []\n",
    "    ATE0 = []\n",
    "    MSEt = []\n",
    "    MSEb = []\n",
    "    MSEv = []\n",
    "    \n",
    "    for i in range(reps):\n",
    "        x_train, x_test, y_train, y_test, treat_train, treat_test = dgp3(n)\n",
    "        x1 = x_test[:,0]\n",
    "        ctl_predict = MC_MSE_2(x_train, x_test, y_train, y_test, treat_train, treat_test, nomin_test)\n",
    "    return y_test, ctl_predict"
   ]
  },
  {
   "cell_type": "code",
   "execution_count": 41,
   "metadata": {},
   "outputs": [],
   "source": [
    "y_test, ctl_predict = mcreps_mse_all3(2,1000,0.5)\n"
   ]
  },
  {
   "cell_type": "code",
   "execution_count": 46,
   "metadata": {},
   "outputs": [
    {
     "data": {
      "text/plain": [
       "4.571697329333143"
      ]
     },
     "execution_count": 46,
     "metadata": {},
     "output_type": "execute_result"
    }
   ],
   "source": [
    "mse(y_test[:,0],ctl_predict)"
   ]
  },
  {
   "cell_type": "code",
   "execution_count": 45,
   "metadata": {},
   "outputs": [
    {
     "data": {
      "text/plain": [
       "3.4305968292146596"
      ]
     },
     "execution_count": 45,
     "metadata": {},
     "output_type": "execute_result"
    }
   ],
   "source": [
    "mse(np.ones(500),ctl_predict)"
   ]
  },
  {
   "cell_type": "code",
   "execution_count": 54,
   "metadata": {},
   "outputs": [
    {
     "data": {
      "text/plain": [
       "2.4684525798341945"
      ]
     },
     "execution_count": 54,
     "metadata": {},
     "output_type": "execute_result"
    }
   ],
   "source": [
    "np.square(np.sum(np.subtract(ctl_predict,y_test[:,0]))/500) + np.var(ctl_predict)"
   ]
  },
  {
   "cell_type": "code",
   "execution_count": 55,
   "metadata": {},
   "outputs": [
    {
     "data": {
      "text/plain": [
       "3.4305968292146596"
      ]
     },
     "execution_count": 55,
     "metadata": {},
     "output_type": "execute_result"
    }
   ],
   "source": [
    "np.square(np.sum(np.subtract(ctl_predict,np.ones(500)))/500) + np.var(ctl_predict)"
   ]
  },
  {
   "cell_type": "code",
   "execution_count": 5,
   "metadata": {},
   "outputs": [],
   "source": [
    "MSE1 = []\n",
    "MSE2 = []\n",
    "BIAS1 = []\n",
    "BIAS2 = []\n",
    "VAR1 = []\n",
    "VAR2 = []\n",
    "MSE_TOTAL = []\n",
    "\n",
    "test_sizes = [0.25, 0.3, 0.35, 0.4, 0.5, 0.6, 0.7, 0.75]\n",
    "\n",
    "n = 1000\n",
    "reps = 5\n",
    "\n",
    "for size in test_sizes:\n",
    "    mse1, mse2, bias1, bias2, var1, var2, mse_total = mcreps_mse_all(reps,n,size)    \n",
    "    MSE1.append(mse1)\n",
    "    MSE2.append(mse2)\n",
    "    BIAS1.append(bias1)\n",
    "    BIAS2.append(bias2)\n",
    "    VAR1.append(var1)\n",
    "    VAR2.append(var2)\n",
    "    MSE_TOTAL.append(mse_total)"
   ]
  },
  {
   "cell_type": "code",
   "execution_count": null,
   "metadata": {},
   "outputs": [],
   "source": []
  },
  {
   "cell_type": "code",
   "execution_count": 26,
   "metadata": {},
   "outputs": [
    {
     "data": {
      "text/plain": [
       "[0.20918842675346544,\n",
       " 0.08231144996454902,\n",
       " 0.024166155193615917,\n",
       " 0.15264497609890518,\n",
       " 0.029790751122132524,\n",
       " 0.07974552023068726,\n",
       " 0.12233907714905737,\n",
       " 0.12227584594424605]"
      ]
     },
     "execution_count": 26,
     "metadata": {},
     "output_type": "execute_result"
    }
   ],
   "source": [
    "MSE1"
   ]
  },
  {
   "cell_type": "code",
   "execution_count": 42,
   "metadata": {},
   "outputs": [],
   "source": [
    "df = pd.DataFrame([test_sizes, MSE1, MSE2, BIAS1, BIAS2, VAR1, VAR2]).transpose().set_index(0)\n",
    "df.columns=['MSE1', 'MSE2', 'BIAS1', 'BIAS2', 'VAR1', 'VAR2']\n",
    "\n",
    "with open('test1.pkl','wb') as f:\n",
    "    pkl.dump(df, f)"
   ]
  },
  {
   "cell_type": "code",
   "execution_count": 43,
   "metadata": {},
   "outputs": [],
   "source": [
    "with open('test1.pkl','rb') as f:\n",
    "    df = pkl.load(f)"
   ]
  },
  {
   "cell_type": "code",
   "execution_count": 44,
   "metadata": {},
   "outputs": [
    {
     "data": {
      "text/html": [
       "<div>\n",
       "<style scoped>\n",
       "    .dataframe tbody tr th:only-of-type {\n",
       "        vertical-align: middle;\n",
       "    }\n",
       "\n",
       "    .dataframe tbody tr th {\n",
       "        vertical-align: top;\n",
       "    }\n",
       "\n",
       "    .dataframe thead th {\n",
       "        text-align: right;\n",
       "    }\n",
       "</style>\n",
       "<table border=\"1\" class=\"dataframe\">\n",
       "  <thead>\n",
       "    <tr style=\"text-align: right;\">\n",
       "      <th></th>\n",
       "      <th>MSE1</th>\n",
       "      <th>MSE2</th>\n",
       "      <th>BIAS1</th>\n",
       "      <th>BIAS2</th>\n",
       "      <th>VAR1</th>\n",
       "      <th>VAR2</th>\n",
       "    </tr>\n",
       "    <tr>\n",
       "      <th>0</th>\n",
       "      <th></th>\n",
       "      <th></th>\n",
       "      <th></th>\n",
       "      <th></th>\n",
       "      <th></th>\n",
       "      <th></th>\n",
       "    </tr>\n",
       "  </thead>\n",
       "  <tbody>\n",
       "    <tr>\n",
       "      <th>0.25</th>\n",
       "      <td>0.209188</td>\n",
       "      <td>0.132416</td>\n",
       "      <td>-0.328642</td>\n",
       "      <td>-0.304085</td>\n",
       "      <td>0.101183</td>\n",
       "      <td>0.039948</td>\n",
       "    </tr>\n",
       "    <tr>\n",
       "      <th>0.30</th>\n",
       "      <td>0.082311</td>\n",
       "      <td>0.052435</td>\n",
       "      <td>-0.199079</td>\n",
       "      <td>0.130386</td>\n",
       "      <td>0.042679</td>\n",
       "      <td>0.035434</td>\n",
       "    </tr>\n",
       "    <tr>\n",
       "      <th>0.35</th>\n",
       "      <td>0.024166</td>\n",
       "      <td>0.035527</td>\n",
       "      <td>-0.046789</td>\n",
       "      <td>0.139482</td>\n",
       "      <td>0.021977</td>\n",
       "      <td>0.016071</td>\n",
       "    </tr>\n",
       "    <tr>\n",
       "      <th>0.40</th>\n",
       "      <td>0.152645</td>\n",
       "      <td>0.022865</td>\n",
       "      <td>-0.341497</td>\n",
       "      <td>-0.106062</td>\n",
       "      <td>0.036025</td>\n",
       "      <td>0.011616</td>\n",
       "    </tr>\n",
       "    <tr>\n",
       "      <th>0.50</th>\n",
       "      <td>0.029791</td>\n",
       "      <td>0.046334</td>\n",
       "      <td>0.092194</td>\n",
       "      <td>0.092497</td>\n",
       "      <td>0.021291</td>\n",
       "      <td>0.037778</td>\n",
       "    </tr>\n",
       "    <tr>\n",
       "      <th>0.60</th>\n",
       "      <td>0.079746</td>\n",
       "      <td>0.137511</td>\n",
       "      <td>-0.257500</td>\n",
       "      <td>0.310775</td>\n",
       "      <td>0.013439</td>\n",
       "      <td>0.040930</td>\n",
       "    </tr>\n",
       "    <tr>\n",
       "      <th>0.70</th>\n",
       "      <td>0.122339</td>\n",
       "      <td>0.089367</td>\n",
       "      <td>-0.256446</td>\n",
       "      <td>0.270030</td>\n",
       "      <td>0.056574</td>\n",
       "      <td>0.016451</td>\n",
       "    </tr>\n",
       "    <tr>\n",
       "      <th>0.75</th>\n",
       "      <td>0.122276</td>\n",
       "      <td>0.044477</td>\n",
       "      <td>-0.296113</td>\n",
       "      <td>0.019025</td>\n",
       "      <td>0.034593</td>\n",
       "      <td>0.044115</td>\n",
       "    </tr>\n",
       "  </tbody>\n",
       "</table>\n",
       "</div>"
      ],
      "text/plain": [
       "          MSE1      MSE2     BIAS1     BIAS2      VAR1      VAR2\n",
       "0                                                               \n",
       "0.25  0.209188  0.132416 -0.328642 -0.304085  0.101183  0.039948\n",
       "0.30  0.082311  0.052435 -0.199079  0.130386  0.042679  0.035434\n",
       "0.35  0.024166  0.035527 -0.046789  0.139482  0.021977  0.016071\n",
       "0.40  0.152645  0.022865 -0.341497 -0.106062  0.036025  0.011616\n",
       "0.50  0.029791  0.046334  0.092194  0.092497  0.021291  0.037778\n",
       "0.60  0.079746  0.137511 -0.257500  0.310775  0.013439  0.040930\n",
       "0.70  0.122339  0.089367 -0.256446  0.270030  0.056574  0.016451\n",
       "0.75  0.122276  0.044477 -0.296113  0.019025  0.034593  0.044115"
      ]
     },
     "execution_count": 44,
     "metadata": {},
     "output_type": "execute_result"
    }
   ],
   "source": []
  },
  {
   "cell_type": "code",
   "execution_count": 46,
   "metadata": {},
   "outputs": [
    {
     "data": {
      "text/plain": [
       "[<matplotlib.lines.Line2D at 0x16657cca310>]"
      ]
     },
     "execution_count": 46,
     "metadata": {},
     "output_type": "execute_result"
    },
    {
     "data": {
      "image/png": "[encoded data removed]",
      "text/plain": [
       "<Figure size 432x288 with 1 Axes>"
      ]
     },
     "metadata": {
      "needs_background": "light"
     },
     "output_type": "display_data"
    }
   ],
   "source": [
    "plt.plot(df['MSE1'])\n",
    "plt.plot(df['MSE2'])"
   ]
  },
  {
   "cell_type": "code",
   "execution_count": 7,
   "metadata": {},
   "outputs": [
    {
     "data": {
      "text/plain": [
       "[<matplotlib.lines.Line2D at 0x208b8f302b0>]"
      ]
     },
     "execution_count": 7,
     "metadata": {},
     "output_type": "execute_result"
    },
    {
     "data": {
      "image/png": "[encoded data removed]",
      "text/plain": [
       "<Figure size 432x288 with 1 Axes>"
      ]
     },
     "metadata": {
      "needs_background": "light"
     },
     "output_type": "display_data"
    }
   ],
   "source": [
    "plt.plot(test_sizes, BIAS1)\n",
    "plt.plot(test_sizes, BIAS2)"
   ]
  },
  {
   "cell_type": "code",
   "execution_count": 8,
   "metadata": {},
   "outputs": [
    {
     "data": {
      "text/plain": [
       "[<matplotlib.lines.Line2D at 0x208b8f90340>]"
      ]
     },
     "execution_count": 8,
     "metadata": {},
     "output_type": "execute_result"
    },
    {
     "data": {
      "image/png": "[encoded data removed]",
      "text/plain": [
       "<Figure size 432x288 with 1 Axes>"
      ]
     },
     "metadata": {
      "needs_background": "light"
     },
     "output_type": "display_data"
    }
   ],
   "source": [
    "plt.plot(test_sizes, VAR1)\n",
    "plt.plot(test_sizes, VAR2)"
   ]
  },
  {
   "cell_type": "code",
   "execution_count": 9,
   "metadata": {},
   "outputs": [
    {
     "data": {
      "text/plain": [
       "[<matplotlib.lines.Line2D at 0x208b8fde490>]"
      ]
     },
     "execution_count": 9,
     "metadata": {},
     "output_type": "execute_result"
    },
    {
     "data": {
      "image/png": "[encoded data removed]",
      "text/plain": [
       "<Figure size 432x288 with 1 Axes>"
      ]
     },
     "metadata": {
      "needs_background": "light"
     },
     "output_type": "display_data"
    }
   ],
   "source": [
    "plt.plot(test_sizes, MSE_TOTAL)"
   ]
  },
  {
   "cell_type": "code",
   "execution_count": 55,
   "metadata": {},
   "outputs": [
    {
     "name": "stdout",
     "output_type": "stream",
     "text": [
      "done\n",
      "done\n",
      "done\n",
      "done\n",
      "done\n"
     ]
    }
   ],
   "source": [
    "test_sizes = [0.2, 0.25, 0.3, 0.4, 0.5]\n",
    "\n",
    "MSE1 = []\n",
    "MSE2 = []\n",
    "\n",
    "n = 1000\n",
    "reps = 100\n",
    "nomin_test = 0.5\n",
    "\n",
    "for size in test_sizes:\n",
    "    mse1, mse2 = mcreps2(reps,n,nomin_test)\n",
    "    MSE1.append(mse1)\n",
    "    MSE2.append(mse2)"
   ]
  },
  {
   "cell_type": "code",
   "execution_count": 13,
   "metadata": {},
   "outputs": [
    {
     "data": {
      "text/plain": [
       "[<matplotlib.lines.Line2D at 0x23d78ba0610>]"
      ]
     },
     "execution_count": 13,
     "metadata": {},
     "output_type": "execute_result"
    },
    {
     "data": {
      "image/png": "[encoded data removed]",
      "text/plain": [
       "<Figure size 432x288 with 1 Axes>"
      ]
     },
     "metadata": {
      "needs_background": "light"
     },
     "output_type": "display_data"
    }
   ],
   "source": [
    "plt.plot(test_sizes, MSE1)\n",
    "plt.plot(test_sizes, MSE2)"
   ]
  },
  {
   "cell_type": "code",
   "execution_count": null,
   "metadata": {},
   "outputs": [
    {
     "name": "stdout",
     "output_type": "stream",
     "text": [
      "done\n",
      "done\n"
     ]
    }
   ],
   "source": [
    "test_sizes = [0.2, 0.3, 0.5, 0.7]\n",
    "\n",
    "MSE1 = []\n",
    "MSE2 = []\n",
    "\n",
    "n = 1000\n",
    "reps = 100\n",
    "nomin_test = 0.5\n",
    "\n",
    "for size in test_sizes:\n",
    "    mse1, mse2 = mcreps2(reps,n,nomin_test)\n",
    "    MSE1.append(mse1)\n",
    "    MSE2.append(mse2)"
   ]
  }
 ],
 "metadata": {
  "kernelspec": {
   "display_name": "Python 3",
   "language": "python",
   "name": "python3"
  },
  "language_info": {
   "codemirror_mode": {
    "name": "ipython",
    "version": 3
   },
   "file_extension": ".py",
   "mimetype": "text/x-python",
   "name": "python",
   "nbconvert_exporter": "python",
   "pygments_lexer": "ipython3",
   "version": "3.8.3"
  }
 },
 "nbformat": 4,
 "nbformat_minor": 4
}
