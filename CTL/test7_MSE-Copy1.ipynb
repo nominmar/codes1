{
 "cells": [
  {
   "cell_type": "code",
   "execution_count": 1,
   "metadata": {},
   "outputs": [],
   "source": [
    "import pandas as pd\n",
    "from CTL2.causal_tree_learn import CausalTree\n",
    "from DGP.dgp2 import dgp2\n",
    "from DGP.dgp1 import dgp1\n",
    "from DGP.dgp3 import dgp3\n",
    "\n",
    "from MC.mc1 import MC_MSE_1\n",
    "from MC.mc2 import MC_MSE_2\n",
    "import timeit\n",
    "from sklearn.model_selection import train_test_split\n",
    "import numpy as np\n",
    "import matplotlib.pyplot as plt\n",
    "from random import random\n",
    "\n",
    "from sklearn.metrics import mean_squared_error as mse\n",
    "\n",
    "import pickle as pkl\n",
    "from notify_run import Notify \n",
    "notify = Notify() "
   ]
  },
  {
   "cell_type": "code",
   "execution_count": 2,
   "metadata": {},
   "outputs": [],
   "source": [
    "def mcreps_mse_all(reps, n, nomin_test):    \n",
    "    ATE1 = []\n",
    "    ATE0 = []\n",
    "    MSEt = []\n",
    "    true = np.ones(reps)\n",
    "    \n",
    "    for i in range(reps):\n",
    "        x_train, x_test, y_train, y_test, treat_train, treat_test = dgp3(n)\n",
    "        x1 = x_test[:,0]\n",
    "        ctl_predict = MC_MSE_2(x_train, x_test, y_train, y_test, treat_train, treat_test, nomin_test)\n",
    "        ATE1.append(np.mean(ctl_predict[np.where(x1 > 0)]))\n",
    "        ATE0.append(np.mean(ctl_predict[np.where(x1 < 0)]))\n",
    "        MSEt.append(np.sum(np.square(np.subtract(y_test[:,0],ctl_predict)))/n)\n",
    "\n",
    "    mse_total = np.sum(np.array(MSEt))/reps\n",
    "    mse1 = mse(np.array(ATE1),true)\n",
    "    mse2 = mse(np.array(ATE0),true*-1)\n",
    "    bias1 = np.sum(np.subtract(np.array(ATE1),true))/reps\n",
    "    bias2 = np.sum(np.add(np.array(ATE0), true))/reps\n",
    "    var1 = np.var(ATE1)\n",
    "    var2 = np.var(ATE0)\n",
    "    return mse1, mse2, bias1, bias2, var1, var2, mse_total"
   ]
  },
  {
   "cell_type": "code",
   "execution_count": 2,
   "metadata": {},
   "outputs": [],
   "source": [
    "def mcreps_mse_all2(reps, n, nomin_test):    \n",
    "    ATE1 = []\n",
    "    ATE0 = []\n",
    "    MSEt = []\n",
    "    MSEb = []\n",
    "    MSEv = []\n",
    "    true = np.ones(reps)\n",
    "    \n",
    "    for i in range(reps):\n",
    "        x_train, x_test, y_train, y_test, treat_train, treat_test = dgp3(n)\n",
    "        x1 = x_test[:,0]\n",
    "        ctl_predict = MC_MSE_2(x_train, x_test, y_train, y_test, treat_train, treat_test, nomin_test)\n",
    "        ATE1.append(np.mean(ctl_predict[np.where(x1 > 0)]))\n",
    "        ATE0.append(np.mean(ctl_predict[np.where(x1 < 0)]))\n",
    "        nn = int(len(ctl_predict))\n",
    "        MSEt.append(mse(ctl_predict,y_test[:,0]))\n",
    "        MSEb.append(np.sum(np.subtract(ctl_predict,y_test[:,0]))/nn)\n",
    "        MSEv.append(np.var(ctl_predict))\n",
    "    mse_total = np.sum(np.array(MSEt))/reps\n",
    "    mse1 = mse(np.array(ATE1),true)\n",
    "    mse2 = mse(np.array(ATE0),true*-1)\n",
    "    bias1 = np.sum(np.subtract(np.array(ATE1),true))/reps\n",
    "    bias2 = np.sum(np.add(np.array(ATE0), true))/reps\n",
    "    var1 = np.var(ATE1)\n",
    "    var2 = np.var(ATE0)\n",
    "    mseb = np.sum(np.array(MSEb))/reps\n",
    "    msev = np.sum(np.array(MSEv))/reps\n",
    "    return mse1, mse2, bias1, bias2, var1, var2, mse_total, mseb, msev"
   ]
  },
  {
   "cell_type": "code",
   "execution_count": 3,
   "metadata": {},
   "outputs": [],
   "source": [
    "MSE1 = []\n",
    "MSE2 = []\n",
    "BIAS1 = []\n",
    "BIAS2 = []\n",
    "VAR1 = []\n",
    "VAR2 = []\n",
    "MSE_TOTAL = []\n",
    "MSEB = []\n",
    "MSEV = []\n",
    "test_sizes = [0.25, 0.3, 0.35, 0.4, 0.45, 0.5, 0.55, 0.6, 0.65, 0.7, 0.75]\n",
    "\n",
    "n = 1000\n",
    "reps = 1000\n",
    "\n",
    "for size in test_sizes:\n",
    "    mse1, mse2, bias1, bias2, var1, var2, mse_total, mseb, msev = mcreps_mse_all2(reps,n,size)    \n",
    "    MSE1.append(mse1)\n",
    "    MSE2.append(mse2)\n",
    "    BIAS1.append(bias1)\n",
    "    BIAS2.append(bias2)\n",
    "    VAR1.append(var1)\n",
    "    VAR2.append(var2)\n",
    "    MSEB.append(mseb)\n",
    "    MSEV.append(msev)\n",
    "    MSE_TOTAL.append(mse_total)\n",
    "    \n",
    "notify.send('Done running the simulations 2') "
   ]
  },
  {
   "cell_type": "code",
   "execution_count": 4,
   "metadata": {},
   "outputs": [],
   "source": [
    "notify.send('maybe error')"
   ]
  },
  {
   "cell_type": "code",
   "execution_count": 5,
   "metadata": {},
   "outputs": [],
   "source": [
    "df = pd.DataFrame([test_sizes, MSE1, MSE2, BIAS1, BIAS2, VAR1, VAR2, MSE_TOTAL, MSEB, MSEV]).transpose().set_index(0)\n",
    "df.columns=['MSE1', 'MSE2', 'BIAS1', 'BIAS2', 'VAR1', 'VAR2', 'MSE_TOTAL', 'MSE_T_BIAS', 'MSE_T_VAR']"
   ]
  },
  {
   "cell_type": "code",
   "execution_count": 6,
   "metadata": {},
   "outputs": [
    {
     "data": {
      "text/html": [
       "<div>\n",
       "<style scoped>\n",
       "    .dataframe tbody tr th:only-of-type {\n",
       "        vertical-align: middle;\n",
       "    }\n",
       "\n",
       "    .dataframe tbody tr th {\n",
       "        vertical-align: top;\n",
       "    }\n",
       "\n",
       "    .dataframe thead th {\n",
       "        text-align: right;\n",
       "    }\n",
       "</style>\n",
       "<table border=\"1\" class=\"dataframe\">\n",
       "  <thead>\n",
       "    <tr style=\"text-align: right;\">\n",
       "      <th></th>\n",
       "      <th>MSE1</th>\n",
       "      <th>MSE2</th>\n",
       "      <th>BIAS1</th>\n",
       "      <th>BIAS2</th>\n",
       "      <th>VAR1</th>\n",
       "      <th>VAR2</th>\n",
       "      <th>MSE_TOTAL</th>\n",
       "      <th>MSE_T_BIAS</th>\n",
       "      <th>MSE_T_VAR</th>\n",
       "    </tr>\n",
       "    <tr>\n",
       "      <th>0</th>\n",
       "      <th></th>\n",
       "      <th></th>\n",
       "      <th></th>\n",
       "      <th></th>\n",
       "      <th></th>\n",
       "      <th></th>\n",
       "      <th></th>\n",
       "      <th></th>\n",
       "      <th></th>\n",
       "    </tr>\n",
       "  </thead>\n",
       "  <tbody>\n",
       "    <tr>\n",
       "      <th>0.25</th>\n",
       "      <td>0.167378</td>\n",
       "      <td>0.182087</td>\n",
       "      <td>-0.070517</td>\n",
       "      <td>0.081684</td>\n",
       "      <td>0.162405</td>\n",
       "      <td>0.175415</td>\n",
       "      <td>4.302110</td>\n",
       "      <td>0.007119</td>\n",
       "      <td>1.665855</td>\n",
       "    </tr>\n",
       "    <tr>\n",
       "      <th>0.30</th>\n",
       "      <td>0.142345</td>\n",
       "      <td>0.133060</td>\n",
       "      <td>-0.079522</td>\n",
       "      <td>0.080641</td>\n",
       "      <td>0.136021</td>\n",
       "      <td>0.126557</td>\n",
       "      <td>4.246607</td>\n",
       "      <td>-0.001695</td>\n",
       "      <td>1.595353</td>\n",
       "    </tr>\n",
       "    <tr>\n",
       "      <th>0.35</th>\n",
       "      <td>0.120348</td>\n",
       "      <td>0.115844</td>\n",
       "      <td>-0.094916</td>\n",
       "      <td>0.084045</td>\n",
       "      <td>0.111339</td>\n",
       "      <td>0.108780</td>\n",
       "      <td>4.223483</td>\n",
       "      <td>-0.006128</td>\n",
       "      <td>1.579402</td>\n",
       "    </tr>\n",
       "    <tr>\n",
       "      <th>0.40</th>\n",
       "      <td>0.108015</td>\n",
       "      <td>0.102154</td>\n",
       "      <td>-0.089033</td>\n",
       "      <td>0.094318</td>\n",
       "      <td>0.100088</td>\n",
       "      <td>0.093258</td>\n",
       "      <td>4.201015</td>\n",
       "      <td>0.003921</td>\n",
       "      <td>1.544806</td>\n",
       "    </tr>\n",
       "    <tr>\n",
       "      <th>0.45</th>\n",
       "      <td>0.095686</td>\n",
       "      <td>0.095851</td>\n",
       "      <td>-0.102838</td>\n",
       "      <td>0.097094</td>\n",
       "      <td>0.085111</td>\n",
       "      <td>0.086423</td>\n",
       "      <td>4.154214</td>\n",
       "      <td>0.001641</td>\n",
       "      <td>1.521336</td>\n",
       "    </tr>\n",
       "    <tr>\n",
       "      <th>0.50</th>\n",
       "      <td>0.087234</td>\n",
       "      <td>0.099777</td>\n",
       "      <td>-0.095645</td>\n",
       "      <td>0.114069</td>\n",
       "      <td>0.078086</td>\n",
       "      <td>0.086765</td>\n",
       "      <td>4.141533</td>\n",
       "      <td>0.008872</td>\n",
       "      <td>1.490312</td>\n",
       "    </tr>\n",
       "    <tr>\n",
       "      <th>0.55</th>\n",
       "      <td>0.085295</td>\n",
       "      <td>0.080336</td>\n",
       "      <td>-0.111525</td>\n",
       "      <td>0.099309</td>\n",
       "      <td>0.072857</td>\n",
       "      <td>0.070474</td>\n",
       "      <td>4.080298</td>\n",
       "      <td>-0.009230</td>\n",
       "      <td>1.428687</td>\n",
       "    </tr>\n",
       "    <tr>\n",
       "      <th>0.60</th>\n",
       "      <td>0.087848</td>\n",
       "      <td>0.091922</td>\n",
       "      <td>-0.132403</td>\n",
       "      <td>0.135369</td>\n",
       "      <td>0.070318</td>\n",
       "      <td>0.073598</td>\n",
       "      <td>3.986944</td>\n",
       "      <td>-0.000709</td>\n",
       "      <td>1.329373</td>\n",
       "    </tr>\n",
       "    <tr>\n",
       "      <th>0.65</th>\n",
       "      <td>0.090933</td>\n",
       "      <td>0.092160</td>\n",
       "      <td>-0.142126</td>\n",
       "      <td>0.147300</td>\n",
       "      <td>0.070734</td>\n",
       "      <td>0.070463</td>\n",
       "      <td>3.984412</td>\n",
       "      <td>0.004069</td>\n",
       "      <td>1.276167</td>\n",
       "    </tr>\n",
       "    <tr>\n",
       "      <th>0.70</th>\n",
       "      <td>0.109400</td>\n",
       "      <td>0.108511</td>\n",
       "      <td>-0.182242</td>\n",
       "      <td>0.182450</td>\n",
       "      <td>0.076188</td>\n",
       "      <td>0.075223</td>\n",
       "      <td>3.906001</td>\n",
       "      <td>0.000581</td>\n",
       "      <td>1.165627</td>\n",
       "    </tr>\n",
       "    <tr>\n",
       "      <th>0.75</th>\n",
       "      <td>0.146569</td>\n",
       "      <td>0.125506</td>\n",
       "      <td>-0.240417</td>\n",
       "      <td>0.215430</td>\n",
       "      <td>0.088768</td>\n",
       "      <td>0.079096</td>\n",
       "      <td>3.854110</td>\n",
       "      <td>-0.013811</td>\n",
       "      <td>1.056208</td>\n",
       "    </tr>\n",
       "  </tbody>\n",
       "</table>\n",
       "</div>"
      ],
      "text/plain": [
       "          MSE1      MSE2     BIAS1     BIAS2      VAR1      VAR2  MSE_TOTAL  \\\n",
       "0                                                                             \n",
       "0.25  0.167378  0.182087 -0.070517  0.081684  0.162405  0.175415   4.302110   \n",
       "0.30  0.142345  0.133060 -0.079522  0.080641  0.136021  0.126557   4.246607   \n",
       "0.35  0.120348  0.115844 -0.094916  0.084045  0.111339  0.108780   4.223483   \n",
       "0.40  0.108015  0.102154 -0.089033  0.094318  0.100088  0.093258   4.201015   \n",
       "0.45  0.095686  0.095851 -0.102838  0.097094  0.085111  0.086423   4.154214   \n",
       "0.50  0.087234  0.099777 -0.095645  0.114069  0.078086  0.086765   4.141533   \n",
       "0.55  0.085295  0.080336 -0.111525  0.099309  0.072857  0.070474   4.080298   \n",
       "0.60  0.087848  0.091922 -0.132403  0.135369  0.070318  0.073598   3.986944   \n",
       "0.65  0.090933  0.092160 -0.142126  0.147300  0.070734  0.070463   3.984412   \n",
       "0.70  0.109400  0.108511 -0.182242  0.182450  0.076188  0.075223   3.906001   \n",
       "0.75  0.146569  0.125506 -0.240417  0.215430  0.088768  0.079096   3.854110   \n",
       "\n",
       "      MSE_T_BIAS  MSE_T_VAR  \n",
       "0                            \n",
       "0.25    0.007119   1.665855  \n",
       "0.30   -0.001695   1.595353  \n",
       "0.35   -0.006128   1.579402  \n",
       "0.40    0.003921   1.544806  \n",
       "0.45    0.001641   1.521336  \n",
       "0.50    0.008872   1.490312  \n",
       "0.55   -0.009230   1.428687  \n",
       "0.60   -0.000709   1.329373  \n",
       "0.65    0.004069   1.276167  \n",
       "0.70    0.000581   1.165627  \n",
       "0.75   -0.013811   1.056208  "
      ]
     },
     "execution_count": 6,
     "metadata": {},
     "output_type": "execute_result"
    }
   ],
   "source": [
    "df"
   ]
  },
  {
   "cell_type": "code",
   "execution_count": 7,
   "metadata": {},
   "outputs": [],
   "source": [
    "with open('test9_1000_1000.pkl','wb') as f:\n",
    "    pkl.dump(df, f)"
   ]
  },
  {
   "cell_type": "code",
   "execution_count": 43,
   "metadata": {},
   "outputs": [],
   "source": [
    "with open('test1.pkl','rb') as f:\n",
    "    df = pkl.load(f)"
   ]
  },
  {
   "cell_type": "code",
   "execution_count": 8,
   "metadata": {},
   "outputs": [
    {
     "data": {
      "text/html": [
       "<div>\n",
       "<style scoped>\n",
       "    .dataframe tbody tr th:only-of-type {\n",
       "        vertical-align: middle;\n",
       "    }\n",
       "\n",
       "    .dataframe tbody tr th {\n",
       "        vertical-align: top;\n",
       "    }\n",
       "\n",
       "    .dataframe thead th {\n",
       "        text-align: right;\n",
       "    }\n",
       "</style>\n",
       "<table border=\"1\" class=\"dataframe\">\n",
       "  <thead>\n",
       "    <tr style=\"text-align: right;\">\n",
       "      <th></th>\n",
       "      <th>MSE1</th>\n",
       "      <th>MSE2</th>\n",
       "      <th>BIAS1</th>\n",
       "      <th>BIAS2</th>\n",
       "      <th>VAR1</th>\n",
       "      <th>VAR2</th>\n",
       "      <th>MSE_TOTAL</th>\n",
       "      <th>MSE_T_BIAS</th>\n",
       "      <th>MSE_T_VAR</th>\n",
       "    </tr>\n",
       "    <tr>\n",
       "      <th>0</th>\n",
       "      <th></th>\n",
       "      <th></th>\n",
       "      <th></th>\n",
       "      <th></th>\n",
       "      <th></th>\n",
       "      <th></th>\n",
       "      <th></th>\n",
       "      <th></th>\n",
       "      <th></th>\n",
       "    </tr>\n",
       "  </thead>\n",
       "  <tbody>\n",
       "    <tr>\n",
       "      <th>0.25</th>\n",
       "      <td>0.167378</td>\n",
       "      <td>0.182087</td>\n",
       "      <td>-0.070517</td>\n",
       "      <td>0.081684</td>\n",
       "      <td>0.162405</td>\n",
       "      <td>0.175415</td>\n",
       "      <td>4.302110</td>\n",
       "      <td>0.007119</td>\n",
       "      <td>1.665855</td>\n",
       "    </tr>\n",
       "    <tr>\n",
       "      <th>0.30</th>\n",
       "      <td>0.142345</td>\n",
       "      <td>0.133060</td>\n",
       "      <td>-0.079522</td>\n",
       "      <td>0.080641</td>\n",
       "      <td>0.136021</td>\n",
       "      <td>0.126557</td>\n",
       "      <td>4.246607</td>\n",
       "      <td>-0.001695</td>\n",
       "      <td>1.595353</td>\n",
       "    </tr>\n",
       "    <tr>\n",
       "      <th>0.35</th>\n",
       "      <td>0.120348</td>\n",
       "      <td>0.115844</td>\n",
       "      <td>-0.094916</td>\n",
       "      <td>0.084045</td>\n",
       "      <td>0.111339</td>\n",
       "      <td>0.108780</td>\n",
       "      <td>4.223483</td>\n",
       "      <td>-0.006128</td>\n",
       "      <td>1.579402</td>\n",
       "    </tr>\n",
       "    <tr>\n",
       "      <th>0.40</th>\n",
       "      <td>0.108015</td>\n",
       "      <td>0.102154</td>\n",
       "      <td>-0.089033</td>\n",
       "      <td>0.094318</td>\n",
       "      <td>0.100088</td>\n",
       "      <td>0.093258</td>\n",
       "      <td>4.201015</td>\n",
       "      <td>0.003921</td>\n",
       "      <td>1.544806</td>\n",
       "    </tr>\n",
       "    <tr>\n",
       "      <th>0.45</th>\n",
       "      <td>0.095686</td>\n",
       "      <td>0.095851</td>\n",
       "      <td>-0.102838</td>\n",
       "      <td>0.097094</td>\n",
       "      <td>0.085111</td>\n",
       "      <td>0.086423</td>\n",
       "      <td>4.154214</td>\n",
       "      <td>0.001641</td>\n",
       "      <td>1.521336</td>\n",
       "    </tr>\n",
       "    <tr>\n",
       "      <th>0.50</th>\n",
       "      <td>0.087234</td>\n",
       "      <td>0.099777</td>\n",
       "      <td>-0.095645</td>\n",
       "      <td>0.114069</td>\n",
       "      <td>0.078086</td>\n",
       "      <td>0.086765</td>\n",
       "      <td>4.141533</td>\n",
       "      <td>0.008872</td>\n",
       "      <td>1.490312</td>\n",
       "    </tr>\n",
       "    <tr>\n",
       "      <th>0.55</th>\n",
       "      <td>0.085295</td>\n",
       "      <td>0.080336</td>\n",
       "      <td>-0.111525</td>\n",
       "      <td>0.099309</td>\n",
       "      <td>0.072857</td>\n",
       "      <td>0.070474</td>\n",
       "      <td>4.080298</td>\n",
       "      <td>-0.009230</td>\n",
       "      <td>1.428687</td>\n",
       "    </tr>\n",
       "    <tr>\n",
       "      <th>0.60</th>\n",
       "      <td>0.087848</td>\n",
       "      <td>0.091922</td>\n",
       "      <td>-0.132403</td>\n",
       "      <td>0.135369</td>\n",
       "      <td>0.070318</td>\n",
       "      <td>0.073598</td>\n",
       "      <td>3.986944</td>\n",
       "      <td>-0.000709</td>\n",
       "      <td>1.329373</td>\n",
       "    </tr>\n",
       "    <tr>\n",
       "      <th>0.65</th>\n",
       "      <td>0.090933</td>\n",
       "      <td>0.092160</td>\n",
       "      <td>-0.142126</td>\n",
       "      <td>0.147300</td>\n",
       "      <td>0.070734</td>\n",
       "      <td>0.070463</td>\n",
       "      <td>3.984412</td>\n",
       "      <td>0.004069</td>\n",
       "      <td>1.276167</td>\n",
       "    </tr>\n",
       "    <tr>\n",
       "      <th>0.70</th>\n",
       "      <td>0.109400</td>\n",
       "      <td>0.108511</td>\n",
       "      <td>-0.182242</td>\n",
       "      <td>0.182450</td>\n",
       "      <td>0.076188</td>\n",
       "      <td>0.075223</td>\n",
       "      <td>3.906001</td>\n",
       "      <td>0.000581</td>\n",
       "      <td>1.165627</td>\n",
       "    </tr>\n",
       "    <tr>\n",
       "      <th>0.75</th>\n",
       "      <td>0.146569</td>\n",
       "      <td>0.125506</td>\n",
       "      <td>-0.240417</td>\n",
       "      <td>0.215430</td>\n",
       "      <td>0.088768</td>\n",
       "      <td>0.079096</td>\n",
       "      <td>3.854110</td>\n",
       "      <td>-0.013811</td>\n",
       "      <td>1.056208</td>\n",
       "    </tr>\n",
       "  </tbody>\n",
       "</table>\n",
       "</div>"
      ],
      "text/plain": [
       "          MSE1      MSE2     BIAS1     BIAS2      VAR1      VAR2  MSE_TOTAL  \\\n",
       "0                                                                             \n",
       "0.25  0.167378  0.182087 -0.070517  0.081684  0.162405  0.175415   4.302110   \n",
       "0.30  0.142345  0.133060 -0.079522  0.080641  0.136021  0.126557   4.246607   \n",
       "0.35  0.120348  0.115844 -0.094916  0.084045  0.111339  0.108780   4.223483   \n",
       "0.40  0.108015  0.102154 -0.089033  0.094318  0.100088  0.093258   4.201015   \n",
       "0.45  0.095686  0.095851 -0.102838  0.097094  0.085111  0.086423   4.154214   \n",
       "0.50  0.087234  0.099777 -0.095645  0.114069  0.078086  0.086765   4.141533   \n",
       "0.55  0.085295  0.080336 -0.111525  0.099309  0.072857  0.070474   4.080298   \n",
       "0.60  0.087848  0.091922 -0.132403  0.135369  0.070318  0.073598   3.986944   \n",
       "0.65  0.090933  0.092160 -0.142126  0.147300  0.070734  0.070463   3.984412   \n",
       "0.70  0.109400  0.108511 -0.182242  0.182450  0.076188  0.075223   3.906001   \n",
       "0.75  0.146569  0.125506 -0.240417  0.215430  0.088768  0.079096   3.854110   \n",
       "\n",
       "      MSE_T_BIAS  MSE_T_VAR  \n",
       "0                            \n",
       "0.25    0.007119   1.665855  \n",
       "0.30   -0.001695   1.595353  \n",
       "0.35   -0.006128   1.579402  \n",
       "0.40    0.003921   1.544806  \n",
       "0.45    0.001641   1.521336  \n",
       "0.50    0.008872   1.490312  \n",
       "0.55   -0.009230   1.428687  \n",
       "0.60   -0.000709   1.329373  \n",
       "0.65    0.004069   1.276167  \n",
       "0.70    0.000581   1.165627  \n",
       "0.75   -0.013811   1.056208  "
      ]
     },
     "execution_count": 8,
     "metadata": {},
     "output_type": "execute_result"
    }
   ],
   "source": [
    "df"
   ]
  },
  {
   "cell_type": "code",
   "execution_count": 9,
   "metadata": {},
   "outputs": [
    {
     "data": {
      "text/plain": [
       "[<matplotlib.lines.Line2D at 0x19ed0ae3c88>]"
      ]
     },
     "execution_count": 9,
     "metadata": {},
     "output_type": "execute_result"
    },
    {
     "data": {
      "image/png": "[encoded data removed]",
      "text/plain": [
       "<Figure size 432x288 with 1 Axes>"
      ]
     },
     "metadata": {
      "needs_background": "light"
     },
     "output_type": "display_data"
    }
   ],
   "source": [
    "plt.plot(df['MSE1'])\n",
    "plt.plot(df['MSE2'])"
   ]
  },
  {
   "cell_type": "code",
   "execution_count": 10,
   "metadata": {},
   "outputs": [
    {
     "data": {
      "text/plain": [
       "[<matplotlib.lines.Line2D at 0x19ed0b54488>]"
      ]
     },
     "execution_count": 10,
     "metadata": {},
     "output_type": "execute_result"
    },
    {
     "data": {
      "image/png": "[encoded data removed]",
      "text/plain": [
       "<Figure size 432x288 with 1 Axes>"
      ]
     },
     "metadata": {
      "needs_background": "light"
     },
     "output_type": "display_data"
    }
   ],
   "source": [
    "plt.plot(test_sizes, BIAS1)\n",
    "plt.plot(test_sizes, BIAS2)"
   ]
  },
  {
   "cell_type": "code",
   "execution_count": 11,
   "metadata": {},
   "outputs": [
    {
     "data": {
      "text/plain": [
       "[<matplotlib.lines.Line2D at 0x19ed0bc7288>]"
      ]
     },
     "execution_count": 11,
     "metadata": {},
     "output_type": "execute_result"
    },
    {
     "data": {
      "image/png": "[encoded data removed]",
      "text/plain": [
       "<Figure size 432x288 with 1 Axes>"
      ]
     },
     "metadata": {
      "needs_background": "light"
     },
     "output_type": "display_data"
    }
   ],
   "source": [
    "plt.plot(test_sizes, VAR1)\n",
    "plt.plot(test_sizes, VAR2)"
   ]
  },
  {
   "cell_type": "code",
   "execution_count": 12,
   "metadata": {},
   "outputs": [
    {
     "data": {
      "text/plain": [
       "[<matplotlib.lines.Line2D at 0x19ed0c57988>]"
      ]
     },
     "execution_count": 12,
     "metadata": {},
     "output_type": "execute_result"
    },
    {
     "data": {
      "image/png": "[encoded data removed]",
      "text/plain": [
       "<Figure size 432x288 with 1 Axes>"
      ]
     },
     "metadata": {
      "needs_background": "light"
     },
     "output_type": "display_data"
    }
   ],
   "source": [
    "plt.plot(test_sizes, MSE_TOTAL)\n",
    "plt.plot(test_sizes, MSEB)\n",
    "plt.plot(test_sizes, MSEV)"
   ]
  },
  {
   "cell_type": "code",
   "execution_count": 55,
   "metadata": {},
   "outputs": [
    {
     "name": "stdout",
     "output_type": "stream",
     "text": [
      "done\n",
      "done\n",
      "done\n",
      "done\n",
      "done\n"
     ]
    }
   ],
   "source": [
    "test_sizes = [0.2, 0.25, 0.3, 0.4, 0.5]\n",
    "\n",
    "MSE1 = []\n",
    "MSE2 = []\n",
    "\n",
    "n = 1000\n",
    "reps = 100\n",
    "nomin_test = 0.5\n",
    "\n",
    "for size in test_sizes:\n",
    "    mse1, mse2 = mcreps2(reps,n,nomin_test)\n",
    "    MSE1.append(mse1)\n",
    "    MSE2.append(mse2)"
   ]
  },
  {
   "cell_type": "code",
   "execution_count": 13,
   "metadata": {},
   "outputs": [
    {
     "data": {
      "text/plain": [
       "[<matplotlib.lines.Line2D at 0x23d78ba0610>]"
      ]
     },
     "execution_count": 13,
     "metadata": {},
     "output_type": "execute_result"
    },
    {
     "data": {
      "image/png": "[encoded data removed]",
      "text/plain": [
       "<Figure size 432x288 with 1 Axes>"
      ]
     },
     "metadata": {
      "needs_background": "light"
     },
     "output_type": "display_data"
    }
   ],
   "source": [
    "plt.plot(test_sizes, MSE1)\n",
    "plt.plot(test_sizes, MSE2)"
   ]
  },
  {
   "cell_type": "code",
   "execution_count": null,
   "metadata": {},
   "outputs": [
    {
     "name": "stdout",
     "output_type": "stream",
     "text": [
      "done\n",
      "done\n"
     ]
    }
   ],
   "source": [
    "test_sizes = [0.2, 0.3, 0.5, 0.7]\n",
    "\n",
    "MSE1 = []\n",
    "MSE2 = []\n",
    "\n",
    "n = 1000\n",
    "reps = 100\n",
    "nomin_test = 0.5\n",
    "\n",
    "for size in test_sizes:\n",
    "    mse1, mse2 = mcreps2(reps,n,nomin_test)\n",
    "    MSE1.append(mse1)\n",
    "    MSE2.append(mse2)"
   ]
  }
 ],
 "metadata": {
  "kernelspec": {
   "display_name": "Python 3",
   "language": "python",
   "name": "python3"
  },
  "language_info": {
   "codemirror_mode": {
    "name": "ipython",
    "version": 3
   },
   "file_extension": ".py",
   "mimetype": "text/x-python",
   "name": "python",
   "nbconvert_exporter": "python",
   "pygments_lexer": "ipython3",
   "version": "3.7.6"
  }
 },
 "nbformat": 4,
 "nbformat_minor": 4
}
