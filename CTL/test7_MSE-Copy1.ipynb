{
 "cells": [
  {
   "cell_type": "code",
   "execution_count": 1,
   "metadata": {},
   "outputs": [],
   "source": [
    "import pandas as pd\n",
    "from CTL2.causal_tree_learn import CausalTree\n",
    "from DGP.dgp2 import dgp2\n",
    "from DGP.dgp1 import dgp1\n",
    "from DGP.dgp3 import dgp3\n",
    "from DGP.dgp4 import dgp4\n",
    "from DGP.dgp4eps import dgp4eps\n",
    "from DGP.dgp5 import dgp5\n",
    "\n",
    "from MC.mc1 import MC_MSE_1\n",
    "from MC.mc2 import MC_MSE_2\n",
    "from MC.mc2_maxd import MC_MSE_2max\n",
    "import timeit\n",
    "from sklearn.model_selection import train_test_split\n",
    "import numpy as np\n",
    "import matplotlib.pyplot as plt\n",
    "from random import random\n",
    "\n",
    "from sklearn.metrics import mean_squared_error as mse\n",
    "\n",
    "import pickle as pkl\n",
    "from notify_run import Notify \n",
    "notify = Notify() "
   ]
  },
  {
   "cell_type": "code",
   "execution_count": 56,
   "metadata": {},
   "outputs": [],
   "source": [
    "def mcreps_mse_all2(reps, n, nomin_test):    \n",
    "    ATE1 = []\n",
    "    ATE0 = []\n",
    "    MSEt = []\n",
    "    MSEb = []\n",
    "    MSEv = []\n",
    "    true = np.ones(reps)\n",
    "    \n",
    "    for i in range(reps):\n",
    "        x_train, x_test, y_train, y_test, treat_train, treat_test = dgp4(n)\n",
    "        x1 = x_test[:,0]\n",
    "        tau = np.where(x1 >= 0, 1.0, -1.0)\n",
    "        ctl_predict = MC_MSE_2(x_train, x_test, y_train, y_test, treat_train, treat_test, nomin_test)\n",
    "        ATE1.append(np.mean(ctl_predict[np.where(x1 > 0)]))\n",
    "        ATE0.append(np.mean(ctl_predict[np.where(x1 < 0)]))\n",
    "        nn = int(len(ctl_predict))\n",
    "        MSEt.append(mse(ctl_predict,tau))\n",
    "        MSEb.append(np.sum(np.subtract(ctl_predict,tau))/nn)\n",
    "        MSEv.append(np.var(ctl_predict))\n",
    "    mse_total = np.sum(np.array(MSEt))/reps\n",
    "    mse1 = mse(np.array(ATE1),true)\n",
    "    mse2 = mse(np.array(ATE0),true*-1)\n",
    "    bias1 = np.sum(np.subtract(np.array(ATE1),true))/reps\n",
    "    bias2 = np.sum(np.add(np.array(ATE0), true))/reps\n",
    "    var1 = np.var(ATE1)\n",
    "    var2 = np.var(ATE0)\n",
    "    mseb = np.sum(np.array(MSEb))/reps\n",
    "    msev = np.sum(np.array(MSEv))/reps\n",
    "    return mse1, mse2, bias1, bias2, var1, var2, mse_total, mseb, msev"
   ]
  },
  {
   "cell_type": "code",
   "execution_count": 2,
   "metadata": {},
   "outputs": [],
   "source": [
    "def mcreps_mse_only(reps, n, nomin_test):    \n",
    "\n",
    "    MSEt = []\n",
    "    #MSEb = []\n",
    "    #MSEv = []\n",
    "    \n",
    "    for i in range(reps):\n",
    "        x_train, x_test, y_train, y_test, treat_train, treat_test = dgp4(n)\n",
    "        x1 = x_test[:,0]\n",
    "        tau = np.where(x1 >= 0, 1.0, -1.0)\n",
    "        ctl_predict = MC_MSE_2max(x_train, x_test, y_train, y_test, treat_train, treat_test, nomin_test)\n",
    "        #nn = n*0.5\n",
    "        MSEt.append(mse(ctl_predict,tau))\n",
    "        #MSEb.append(np.sum(np.subtract(ctl_predict,tau))/nn)\n",
    "        #MSEv.append(np.var(ctl_predict))\n",
    "        \n",
    "    mse_total = np.sum(np.array(MSEt))/reps\n",
    "    #mseb = np.sum(np.array(MSEb))/reps\n",
    "    #msev = np.sum(np.array(MSEv))/reps\n",
    "    #return mse_total, mseb, msev\n",
    "    return mse_total"
   ]
  },
  {
   "cell_type": "code",
   "execution_count": 3,
   "metadata": {},
   "outputs": [],
   "source": [
    "def mcreps_mse_only2(reps, n, nomin_test):    \n",
    "\n",
    "    MSEt = []\n",
    "    \n",
    "    for i in range(reps):\n",
    "        x_train, x_test, y_train, y_test, treat_train, treat_test = dgp4eps(n)\n",
    "        x1 = x_test[:,0]\n",
    "        tau = np.where(x1 >= 0, 1.0, -1.0)\n",
    "        ctl_predict = MC_MSE_2max(x_train, x_test, y_train, y_test, treat_train, treat_test, nomin_test)\n",
    "        MSEt.append(mse(ctl_predict,tau))\n",
    "        \n",
    "    mse_total = np.sum(np.array(MSEt))/reps\n",
    "    return mse_total"
   ]
  },
  {
   "cell_type": "code",
   "execution_count": 4,
   "metadata": {},
   "outputs": [],
   "source": [
    "MSE_TOTAL = []\n",
    "\n",
    "test_sizes = [0.2, 0.3, 0.4, 0.5, 0.6, 0.7, 0.8, 0.9]\n",
    "\n",
    "n = 1000\n",
    "reps = 700\n",
    "\n",
    "for size in test_sizes:\n",
    "    mse_total = mcreps_mse_only(reps,n,size)    \n",
    "    MSE_TOTAL.append(mse_total)\n",
    "    \n",
    "df2 = pd.DataFrame(np.array(MSE_TOTAL),test_sizes)\n",
    "with open('testmse_1000_700maxdepth.pkl','wb') as f:\n",
    "    pkl.dump(df2, f)\n",
    "    \n",
    "notify.send('Done running the simulations 5')"
   ]
  },
  {
   "cell_type": "code",
   "execution_count": 5,
   "metadata": {},
   "outputs": [],
   "source": [
    "MSE_TOTAL = []\n",
    "\n",
    "test_sizes = [0.2, 0.3, 0.4, 0.5, 0.6, 0.7, 0.8, 0.9]\n",
    "\n",
    "n = 1000\n",
    "reps = 700\n",
    "\n",
    "for size in test_sizes:\n",
    "    mse_total = mcreps_mse_only2(reps,n,size)    \n",
    "    MSE_TOTAL.append(mse_total)\n",
    "    \n",
    "df3 = pd.DataFrame(np.array(MSE_TOTAL),test_sizes)\n",
    "with open('testmse_1000_700epsmaxdepth.pkl','wb') as f:\n",
    "    pkl.dump(df3, f)\n",
    "    \n",
    "notify.send('Done running the simulations 6')"
   ]
  },
  {
   "cell_type": "code",
   "execution_count": 6,
   "metadata": {},
   "outputs": [
    {
     "data": {
      "text/html": [
       "<div>\n",
       "<style scoped>\n",
       "    .dataframe tbody tr th:only-of-type {\n",
       "        vertical-align: middle;\n",
       "    }\n",
       "\n",
       "    .dataframe tbody tr th {\n",
       "        vertical-align: top;\n",
       "    }\n",
       "\n",
       "    .dataframe thead th {\n",
       "        text-align: right;\n",
       "    }\n",
       "</style>\n",
       "<table border=\"1\" class=\"dataframe\">\n",
       "  <thead>\n",
       "    <tr style=\"text-align: right;\">\n",
       "      <th></th>\n",
       "      <th>0</th>\n",
       "    </tr>\n",
       "  </thead>\n",
       "  <tbody>\n",
       "    <tr>\n",
       "      <th>0.2</th>\n",
       "      <td>1.325450</td>\n",
       "    </tr>\n",
       "    <tr>\n",
       "      <th>0.3</th>\n",
       "      <td>1.236835</td>\n",
       "    </tr>\n",
       "    <tr>\n",
       "      <th>0.4</th>\n",
       "      <td>1.159664</td>\n",
       "    </tr>\n",
       "    <tr>\n",
       "      <th>0.5</th>\n",
       "      <td>1.055034</td>\n",
       "    </tr>\n",
       "    <tr>\n",
       "      <th>0.6</th>\n",
       "      <td>0.934147</td>\n",
       "    </tr>\n",
       "    <tr>\n",
       "      <th>0.7</th>\n",
       "      <td>0.779924</td>\n",
       "    </tr>\n",
       "    <tr>\n",
       "      <th>0.8</th>\n",
       "      <td>0.733556</td>\n",
       "    </tr>\n",
       "    <tr>\n",
       "      <th>0.9</th>\n",
       "      <td>0.823728</td>\n",
       "    </tr>\n",
       "  </tbody>\n",
       "</table>\n",
       "</div>"
      ],
      "text/plain": [
       "            0\n",
       "0.2  1.325450\n",
       "0.3  1.236835\n",
       "0.4  1.159664\n",
       "0.5  1.055034\n",
       "0.6  0.934147\n",
       "0.7  0.779924\n",
       "0.8  0.733556\n",
       "0.9  0.823728"
      ]
     },
     "execution_count": 6,
     "metadata": {},
     "output_type": "execute_result"
    }
   ],
   "source": [
    "df3"
   ]
  },
  {
   "cell_type": "code",
   "execution_count": 4,
   "metadata": {},
   "outputs": [],
   "source": [
    "MSE_TOTAL = []\n",
    "\n",
    "test_sizes = [0.25, 0.3, 0.35, 0.4, 0.45, 0.5, 0.55, 0.6, 0.65, 0.7, 0.75]\n",
    "\n",
    "n = 2000\n",
    "reps = 1000\n",
    "\n",
    "for size in test_sizes:\n",
    "    mse_total = mcreps_mse_only(reps,n,size)    \n",
    "    MSE_TOTAL.append(mse_total)\n",
    "    \n",
    "df3 = pd.DataFrame(np.array(MSE_TOTAL),test_sizes)\n",
    "with open('testmse_1000_2000.pkl','wb') as f:\n",
    "    pkl.dump(df3, f)\n",
    "    \n",
    "notify.send('Done running the simulations 2')"
   ]
  },
  {
   "cell_type": "code",
   "execution_count": null,
   "metadata": {},
   "outputs": [],
   "source": [
    "df3"
   ]
  },
  {
   "cell_type": "code",
   "execution_count": 10,
   "metadata": {},
   "outputs": [],
   "source": [
    "MSE1 = []\n",
    "MSE2 = []\n",
    "BIAS1 = []\n",
    "BIAS2 = []\n",
    "VAR1 = []\n",
    "VAR2 = []\n",
    "MSE_TOTAL = []\n",
    "MSEB = []\n",
    "MSEV = []\n",
    "test_sizes = [0.25, 0.3, 0.35, 0.4, 0.45, 0.5, 0.55, 0.6, 0.65, 0.7, 0.75]\n",
    "\n",
    "n = 1000\n",
    "reps = 5\n",
    "\n",
    "for size in test_sizes:\n",
    "    mse1, mse2, bias1, bias2, var1, var2, mse_total, mseb, msev = mcreps_mse_all2(reps,n,size)    \n",
    "    MSE1.append(mse1)\n",
    "    MSE2.append(mse2)\n",
    "    BIAS1.append(bias1)\n",
    "    BIAS2.append(bias2)\n",
    "    VAR1.append(var1)\n",
    "    VAR2.append(var2)\n",
    "    MSEB.append(mseb)\n",
    "    MSEV.append(msev)\n",
    "    MSE_TOTAL.append(mse_total)\n",
    "\n",
    "df = pd.DataFrame([test_sizes, MSE1, MSE2, BIAS1, BIAS2, VAR1, VAR2, MSE_TOTAL, MSEB, MSEV]).transpose().set_index(0)\n",
    "df.columns=['MSE1', 'MSE2', 'BIAS1', 'BIAS2', 'VAR1', 'VAR2', 'MSE_TOTAL', 'MSE_T_BIAS', 'MSE_T_VAR']\n",
    "\n",
    "#with open('test10_eps15_1000_1000.pkl','wb') as f:\n",
    "#    pkl.dump(df, f)\n",
    "\n",
    "#notify.send('Done running the simulations 10eps')\n"
   ]
  },
  {
   "cell_type": "code",
   "execution_count": 11,
   "metadata": {},
   "outputs": [
    {
     "data": {
      "text/html": [
       "<div>\n",
       "<style scoped>\n",
       "    .dataframe tbody tr th:only-of-type {\n",
       "        vertical-align: middle;\n",
       "    }\n",
       "\n",
       "    .dataframe tbody tr th {\n",
       "        vertical-align: top;\n",
       "    }\n",
       "\n",
       "    .dataframe thead th {\n",
       "        text-align: right;\n",
       "    }\n",
       "</style>\n",
       "<table border=\"1\" class=\"dataframe\">\n",
       "  <thead>\n",
       "    <tr style=\"text-align: right;\">\n",
       "      <th></th>\n",
       "      <th>MSE1</th>\n",
       "      <th>MSE2</th>\n",
       "      <th>BIAS1</th>\n",
       "      <th>BIAS2</th>\n",
       "      <th>VAR1</th>\n",
       "      <th>VAR2</th>\n",
       "      <th>MSE_TOTAL</th>\n",
       "      <th>MSE_T_BIAS</th>\n",
       "      <th>MSE_T_VAR</th>\n",
       "    </tr>\n",
       "    <tr>\n",
       "      <th>0</th>\n",
       "      <th></th>\n",
       "      <th></th>\n",
       "      <th></th>\n",
       "      <th></th>\n",
       "      <th></th>\n",
       "      <th></th>\n",
       "      <th></th>\n",
       "      <th></th>\n",
       "      <th></th>\n",
       "    </tr>\n",
       "  </thead>\n",
       "  <tbody>\n",
       "    <tr>\n",
       "      <th>0.25</th>\n",
       "      <td>0.554829</td>\n",
       "      <td>0.252361</td>\n",
       "      <td>-0.295068</td>\n",
       "      <td>-0.330522</td>\n",
       "      <td>0.467764</td>\n",
       "      <td>0.143116</td>\n",
       "      <td>1.916659</td>\n",
       "      <td>-0.311181</td>\n",
       "      <td>2.776458</td>\n",
       "    </tr>\n",
       "    <tr>\n",
       "      <th>0.30</th>\n",
       "      <td>0.344625</td>\n",
       "      <td>0.214575</td>\n",
       "      <td>-0.052598</td>\n",
       "      <td>0.316770</td>\n",
       "      <td>0.341858</td>\n",
       "      <td>0.114232</td>\n",
       "      <td>1.594410</td>\n",
       "      <td>0.121819</td>\n",
       "      <td>2.053087</td>\n",
       "    </tr>\n",
       "    <tr>\n",
       "      <th>0.35</th>\n",
       "      <td>0.296707</td>\n",
       "      <td>0.501176</td>\n",
       "      <td>-0.009935</td>\n",
       "      <td>0.365701</td>\n",
       "      <td>0.296608</td>\n",
       "      <td>0.367439</td>\n",
       "      <td>2.129004</td>\n",
       "      <td>0.167595</td>\n",
       "      <td>2.472993</td>\n",
       "    </tr>\n",
       "    <tr>\n",
       "      <th>0.40</th>\n",
       "      <td>0.349619</td>\n",
       "      <td>0.152238</td>\n",
       "      <td>-0.345458</td>\n",
       "      <td>0.114651</td>\n",
       "      <td>0.230277</td>\n",
       "      <td>0.139093</td>\n",
       "      <td>1.340353</td>\n",
       "      <td>-0.100483</td>\n",
       "      <td>1.847375</td>\n",
       "    </tr>\n",
       "    <tr>\n",
       "      <th>0.45</th>\n",
       "      <td>0.162622</td>\n",
       "      <td>0.088092</td>\n",
       "      <td>-0.172122</td>\n",
       "      <td>0.188870</td>\n",
       "      <td>0.132996</td>\n",
       "      <td>0.052420</td>\n",
       "      <td>0.987835</td>\n",
       "      <td>0.015857</td>\n",
       "      <td>1.614241</td>\n",
       "    </tr>\n",
       "    <tr>\n",
       "      <th>0.50</th>\n",
       "      <td>0.170679</td>\n",
       "      <td>0.154345</td>\n",
       "      <td>-0.294450</td>\n",
       "      <td>0.191345</td>\n",
       "      <td>0.083978</td>\n",
       "      <td>0.117732</td>\n",
       "      <td>1.107137</td>\n",
       "      <td>-0.044754</td>\n",
       "      <td>1.550736</td>\n",
       "    </tr>\n",
       "    <tr>\n",
       "      <th>0.55</th>\n",
       "      <td>0.080712</td>\n",
       "      <td>0.078928</td>\n",
       "      <td>0.134185</td>\n",
       "      <td>0.065501</td>\n",
       "      <td>0.062706</td>\n",
       "      <td>0.074637</td>\n",
       "      <td>1.242854</td>\n",
       "      <td>0.101810</td>\n",
       "      <td>2.268794</td>\n",
       "    </tr>\n",
       "    <tr>\n",
       "      <th>0.60</th>\n",
       "      <td>0.242495</td>\n",
       "      <td>0.112868</td>\n",
       "      <td>0.048212</td>\n",
       "      <td>0.068109</td>\n",
       "      <td>0.240170</td>\n",
       "      <td>0.108229</td>\n",
       "      <td>1.438401</td>\n",
       "      <td>0.061585</td>\n",
       "      <td>2.399037</td>\n",
       "    </tr>\n",
       "    <tr>\n",
       "      <th>0.65</th>\n",
       "      <td>0.223638</td>\n",
       "      <td>0.214739</td>\n",
       "      <td>-0.440908</td>\n",
       "      <td>0.216378</td>\n",
       "      <td>0.029238</td>\n",
       "      <td>0.167920</td>\n",
       "      <td>1.284358</td>\n",
       "      <td>-0.113169</td>\n",
       "      <td>1.555470</td>\n",
       "    </tr>\n",
       "    <tr>\n",
       "      <th>0.70</th>\n",
       "      <td>0.156821</td>\n",
       "      <td>0.167931</td>\n",
       "      <td>-0.384363</td>\n",
       "      <td>0.368628</td>\n",
       "      <td>0.009086</td>\n",
       "      <td>0.032044</td>\n",
       "      <td>0.947788</td>\n",
       "      <td>-0.025978</td>\n",
       "      <td>1.183040</td>\n",
       "    </tr>\n",
       "    <tr>\n",
       "      <th>0.75</th>\n",
       "      <td>0.268446</td>\n",
       "      <td>0.274947</td>\n",
       "      <td>-0.342649</td>\n",
       "      <td>0.322177</td>\n",
       "      <td>0.151038</td>\n",
       "      <td>0.171149</td>\n",
       "      <td>0.816628</td>\n",
       "      <td>-0.006181</td>\n",
       "      <td>1.138133</td>\n",
       "    </tr>\n",
       "  </tbody>\n",
       "</table>\n",
       "</div>"
      ],
      "text/plain": [
       "          MSE1      MSE2     BIAS1     BIAS2      VAR1      VAR2  MSE_TOTAL  \\\n",
       "0                                                                             \n",
       "0.25  0.554829  0.252361 -0.295068 -0.330522  0.467764  0.143116   1.916659   \n",
       "0.30  0.344625  0.214575 -0.052598  0.316770  0.341858  0.114232   1.594410   \n",
       "0.35  0.296707  0.501176 -0.009935  0.365701  0.296608  0.367439   2.129004   \n",
       "0.40  0.349619  0.152238 -0.345458  0.114651  0.230277  0.139093   1.340353   \n",
       "0.45  0.162622  0.088092 -0.172122  0.188870  0.132996  0.052420   0.987835   \n",
       "0.50  0.170679  0.154345 -0.294450  0.191345  0.083978  0.117732   1.107137   \n",
       "0.55  0.080712  0.078928  0.134185  0.065501  0.062706  0.074637   1.242854   \n",
       "0.60  0.242495  0.112868  0.048212  0.068109  0.240170  0.108229   1.438401   \n",
       "0.65  0.223638  0.214739 -0.440908  0.216378  0.029238  0.167920   1.284358   \n",
       "0.70  0.156821  0.167931 -0.384363  0.368628  0.009086  0.032044   0.947788   \n",
       "0.75  0.268446  0.274947 -0.342649  0.322177  0.151038  0.171149   0.816628   \n",
       "\n",
       "      MSE_T_BIAS  MSE_T_VAR  \n",
       "0                            \n",
       "0.25   -0.311181   2.776458  \n",
       "0.30    0.121819   2.053087  \n",
       "0.35    0.167595   2.472993  \n",
       "0.40   -0.100483   1.847375  \n",
       "0.45    0.015857   1.614241  \n",
       "0.50   -0.044754   1.550736  \n",
       "0.55    0.101810   2.268794  \n",
       "0.60    0.061585   2.399037  \n",
       "0.65   -0.113169   1.555470  \n",
       "0.70   -0.025978   1.183040  \n",
       "0.75   -0.006181   1.138133  "
      ]
     },
     "execution_count": 11,
     "metadata": {},
     "output_type": "execute_result"
    }
   ],
   "source": [
    "df"
   ]
  },
  {
   "cell_type": "code",
   "execution_count": 5,
   "metadata": {},
   "outputs": [
    {
     "ename": "NameError",
     "evalue": "name 'df' is not defined",
     "output_type": "error",
     "traceback": [
      "\u001b[1;31m---------------------------------------------------------------------------\u001b[0m",
      "\u001b[1;31mNameError\u001b[0m                                 Traceback (most recent call last)",
      "\u001b[1;32m<ipython-input-5-00cf07b74dcd>\u001b[0m in \u001b[0;36m<module>\u001b[1;34m\u001b[0m\n\u001b[1;32m----> 1\u001b[1;33m \u001b[0mdf\u001b[0m\u001b[1;33m\u001b[0m\u001b[1;33m\u001b[0m\u001b[0m\n\u001b[0m",
      "\u001b[1;31mNameError\u001b[0m: name 'df' is not defined"
     ]
    }
   ],
   "source": [
    "df"
   ]
  },
  {
   "cell_type": "code",
   "execution_count": 10,
   "metadata": {},
   "outputs": [],
   "source": [
    "try:\n",
    "    MSE1 = []\n",
    "    MSE2 = []\n",
    "    BIAS1 = []\n",
    "    BIAS2 = []\n",
    "    VAR1 = []\n",
    "    VAR2 = []\n",
    "    MSE_TOTAL = []\n",
    "    MSEB = []\n",
    "    MSEV = []\n",
    "    test_sizes = [0.25, 0.3, 0.35, 0.4, 0.45, 0.5, 0.55, 0.6, 0.65, 0.7, 0.75]\n",
    "\n",
    "    n = 1000\n",
    "    reps = 1000\n",
    "\n",
    "    for size in test_sizes:\n",
    "        mse1, mse2, bias1, bias2, var1, var2, mse_total, mseb, msev = mcreps_mse_all2b(reps,n,size)    \n",
    "        MSE1.append(mse1)\n",
    "        MSE2.append(mse2)\n",
    "        BIAS1.append(bias1)\n",
    "        BIAS2.append(bias2)\n",
    "        VAR1.append(var1)\n",
    "        VAR2.append(var2)\n",
    "        MSEB.append(mseb)\n",
    "        MSEV.append(msev)\n",
    "        MSE_TOTAL.append(mse_total)\n",
    "\n",
    "    df2 = pd.DataFrame([test_sizes, MSE1, MSE2, BIAS1, BIAS2, VAR1, VAR2, MSE_TOTAL, MSEB, MSEV]).transpose().set_index(0)\n",
    "    df2.columns=['MSE1', 'MSE2', 'BIAS1', 'BIAS2', 'VAR1', 'VAR2', 'MSE_TOTAL', 'MSE_T_BIAS', 'MSE_T_VAR']\n",
    "    \n",
    "    with open('test10_x56_1000_1000.pkl','wb') as f:\n",
    "        pkl.dump(df2, f)\n",
    "    \n",
    "    notify.send('Done running the simulations 10x56')\n",
    "    \n",
    "except:\n",
    "    notify.send('error')"
   ]
  },
  {
   "cell_type": "code",
   "execution_count": 5,
   "metadata": {},
   "outputs": [],
   "source": [
    "df = pd.DataFrame([test_sizes, MSE1, MSE2, BIAS1, BIAS2, VAR1, VAR2, MSE_TOTAL, MSEB, MSEV]).transpose().set_index(0)\n",
    "df.columns=['MSE1', 'MSE2', 'BIAS1', 'BIAS2', 'VAR1', 'VAR2', 'MSE_TOTAL', 'MSE_T_BIAS', 'MSE_T_VAR']"
   ]
  },
  {
   "cell_type": "code",
   "execution_count": 24,
   "metadata": {},
   "outputs": [
    {
     "data": {
      "text/html": [
       "<div>\n",
       "<style scoped>\n",
       "    .dataframe tbody tr th:only-of-type {\n",
       "        vertical-align: middle;\n",
       "    }\n",
       "\n",
       "    .dataframe tbody tr th {\n",
       "        vertical-align: top;\n",
       "    }\n",
       "\n",
       "    .dataframe thead th {\n",
       "        text-align: right;\n",
       "    }\n",
       "</style>\n",
       "<table border=\"1\" class=\"dataframe\">\n",
       "  <thead>\n",
       "    <tr style=\"text-align: right;\">\n",
       "      <th></th>\n",
       "      <th>MSE1</th>\n",
       "      <th>MSE2</th>\n",
       "      <th>BIAS1</th>\n",
       "      <th>BIAS2</th>\n",
       "      <th>VAR1</th>\n",
       "      <th>VAR2</th>\n",
       "    </tr>\n",
       "    <tr>\n",
       "      <th>0</th>\n",
       "      <th></th>\n",
       "      <th></th>\n",
       "      <th></th>\n",
       "      <th></th>\n",
       "      <th></th>\n",
       "      <th></th>\n",
       "    </tr>\n",
       "  </thead>\n",
       "  <tbody>\n",
       "    <tr>\n",
       "      <th>0.25</th>\n",
       "      <td>0.175236</td>\n",
       "      <td>0.189333</td>\n",
       "      <td>-0.070723</td>\n",
       "      <td>0.059330</td>\n",
       "      <td>0.170234</td>\n",
       "      <td>0.185813</td>\n",
       "    </tr>\n",
       "    <tr>\n",
       "      <th>0.30</th>\n",
       "      <td>0.151554</td>\n",
       "      <td>0.168603</td>\n",
       "      <td>-0.094193</td>\n",
       "      <td>0.091370</td>\n",
       "      <td>0.142682</td>\n",
       "      <td>0.160255</td>\n",
       "    </tr>\n",
       "    <tr>\n",
       "      <th>0.35</th>\n",
       "      <td>0.132250</td>\n",
       "      <td>0.129276</td>\n",
       "      <td>-0.108429</td>\n",
       "      <td>0.104286</td>\n",
       "      <td>0.120493</td>\n",
       "      <td>0.118401</td>\n",
       "    </tr>\n",
       "    <tr>\n",
       "      <th>0.40</th>\n",
       "      <td>0.102029</td>\n",
       "      <td>0.097635</td>\n",
       "      <td>-0.103664</td>\n",
       "      <td>0.083333</td>\n",
       "      <td>0.091283</td>\n",
       "      <td>0.090691</td>\n",
       "    </tr>\n",
       "    <tr>\n",
       "      <th>0.50</th>\n",
       "      <td>0.092636</td>\n",
       "      <td>0.090115</td>\n",
       "      <td>-0.109672</td>\n",
       "      <td>0.101280</td>\n",
       "      <td>0.080608</td>\n",
       "      <td>0.079857</td>\n",
       "    </tr>\n",
       "    <tr>\n",
       "      <th>0.60</th>\n",
       "      <td>0.079619</td>\n",
       "      <td>0.097760</td>\n",
       "      <td>-0.110954</td>\n",
       "      <td>0.142834</td>\n",
       "      <td>0.067309</td>\n",
       "      <td>0.077359</td>\n",
       "    </tr>\n",
       "    <tr>\n",
       "      <th>0.70</th>\n",
       "      <td>0.113973</td>\n",
       "      <td>0.116840</td>\n",
       "      <td>-0.194392</td>\n",
       "      <td>0.205625</td>\n",
       "      <td>0.076185</td>\n",
       "      <td>0.074559</td>\n",
       "    </tr>\n",
       "    <tr>\n",
       "      <th>0.75</th>\n",
       "      <td>0.139793</td>\n",
       "      <td>0.128258</td>\n",
       "      <td>-0.239417</td>\n",
       "      <td>0.228907</td>\n",
       "      <td>0.082473</td>\n",
       "      <td>0.075859</td>\n",
       "    </tr>\n",
       "  </tbody>\n",
       "</table>\n",
       "</div>"
      ],
      "text/plain": [
       "          MSE1      MSE2     BIAS1     BIAS2      VAR1      VAR2\n",
       "0                                                               \n",
       "0.25  0.175236  0.189333 -0.070723  0.059330  0.170234  0.185813\n",
       "0.30  0.151554  0.168603 -0.094193  0.091370  0.142682  0.160255\n",
       "0.35  0.132250  0.129276 -0.108429  0.104286  0.120493  0.118401\n",
       "0.40  0.102029  0.097635 -0.103664  0.083333  0.091283  0.090691\n",
       "0.50  0.092636  0.090115 -0.109672  0.101280  0.080608  0.079857\n",
       "0.60  0.079619  0.097760 -0.110954  0.142834  0.067309  0.077359\n",
       "0.70  0.113973  0.116840 -0.194392  0.205625  0.076185  0.074559\n",
       "0.75  0.139793  0.128258 -0.239417  0.228907  0.082473  0.075859"
      ]
     },
     "execution_count": 24,
     "metadata": {},
     "output_type": "execute_result"
    }
   ],
   "source": [
    "df"
   ]
  },
  {
   "cell_type": "code",
   "execution_count": 12,
   "metadata": {},
   "outputs": [
    {
     "data": {
      "text/plain": [
       "[<matplotlib.lines.Line2D at 0x2c8274aba88>]"
      ]
     },
     "execution_count": 12,
     "metadata": {},
     "output_type": "execute_result"
    },
    {
     "data": {
      "image/png": "[encoded data removed]",
      "text/plain": [
       "<Figure size 432x288 with 1 Axes>"
      ]
     },
     "metadata": {
      "needs_background": "light"
     },
     "output_type": "display_data"
    }
   ],
   "source": [
    "plt.plot(df['MSE1'])\n",
    "plt.plot(df['MSE2'])"
   ]
  },
  {
   "cell_type": "code",
   "execution_count": 9,
   "metadata": {},
   "outputs": [
    {
     "data": {
      "text/plain": [
       "[<matplotlib.lines.Line2D at 0x19ed0ae3c88>]"
      ]
     },
     "execution_count": 9,
     "metadata": {},
     "output_type": "execute_result"
    },
    {
     "data": {
      "image/png": "[encoded data removed]",
      "text/plain": [
       "<Figure size 432x288 with 1 Axes>"
      ]
     },
     "metadata": {
      "needs_background": "light"
     },
     "output_type": "display_data"
    }
   ],
   "source": [
    "plt.plot(df['MSE1'])\n",
    "plt.plot(df['MSE2'])"
   ]
  },
  {
   "cell_type": "code",
   "execution_count": 10,
   "metadata": {},
   "outputs": [
    {
     "data": {
      "text/plain": [
       "[<matplotlib.lines.Line2D at 0x19ed0b54488>]"
      ]
     },
     "execution_count": 10,
     "metadata": {},
     "output_type": "execute_result"
    },
    {
     "data": {
      "image/png": "[encoded data removed]",
      "text/plain": [
       "<Figure size 432x288 with 1 Axes>"
      ]
     },
     "metadata": {
      "needs_background": "light"
     },
     "output_type": "display_data"
    }
   ],
   "source": [
    "plt.plot(test_sizes, BIAS1)\n",
    "plt.plot(test_sizes, BIAS2)"
   ]
  },
  {
   "cell_type": "code",
   "execution_count": 7,
   "metadata": {},
   "outputs": [
    {
     "data": {
      "text/plain": [
       "[<matplotlib.lines.Line2D at 0x2c827379dc8>]"
      ]
     },
     "execution_count": 7,
     "metadata": {},
     "output_type": "execute_result"
    },
    {
     "data": {
      "image/png": "[encoded data removed]",
      "text/plain": [
       "<Figure size 432x288 with 1 Axes>"
      ]
     },
     "metadata": {
      "needs_background": "light"
     },
     "output_type": "display_data"
    }
   ],
   "source": [
    "plt.plot(test_sizes, BIAS1)\n",
    "plt.plot(test_sizes, BIAS2)"
   ]
  },
  {
   "cell_type": "code",
   "execution_count": 11,
   "metadata": {},
   "outputs": [
    {
     "data": {
      "text/plain": [
       "[<matplotlib.lines.Line2D at 0x19ed0bc7288>]"
      ]
     },
     "execution_count": 11,
     "metadata": {},
     "output_type": "execute_result"
    },
    {
     "data": {
      "image/png": "[encoded data removed]",
      "text/plain": [
       "<Figure size 432x288 with 1 Axes>"
      ]
     },
     "metadata": {
      "needs_background": "light"
     },
     "output_type": "display_data"
    }
   ],
   "source": [
    "plt.plot(test_sizes, VAR1)\n",
    "plt.plot(test_sizes, VAR2)"
   ]
  },
  {
   "cell_type": "code",
   "execution_count": 8,
   "metadata": {},
   "outputs": [
    {
     "data": {
      "text/plain": [
       "[<matplotlib.lines.Line2D at 0x2c8273e8088>]"
      ]
     },
     "execution_count": 8,
     "metadata": {},
     "output_type": "execute_result"
    },
    {
     "data": {
      "image/png": "[encoded data removed]",
      "text/plain": [
       "<Figure size 432x288 with 1 Axes>"
      ]
     },
     "metadata": {
      "needs_background": "light"
     },
     "output_type": "display_data"
    }
   ],
   "source": [
    "plt.plot(test_sizes, VAR1)\n",
    "plt.plot(test_sizes, VAR2)"
   ]
  },
  {
   "cell_type": "code",
   "execution_count": 12,
   "metadata": {},
   "outputs": [
    {
     "data": {
      "text/plain": [
       "[<matplotlib.lines.Line2D at 0x19ed0c57988>]"
      ]
     },
     "execution_count": 12,
     "metadata": {},
     "output_type": "execute_result"
    },
    {
     "data": {
      "image/png": "[encoded data removed]",
      "text/plain": [
       "<Figure size 432x288 with 1 Axes>"
      ]
     },
     "metadata": {
      "needs_background": "light"
     },
     "output_type": "display_data"
    }
   ],
   "source": [
    "plt.plot(test_sizes, MSE_TOTAL)\n",
    "plt.plot(test_sizes, MSEB)\n",
    "plt.plot(test_sizes, MSEV)"
   ]
  },
  {
   "cell_type": "code",
   "execution_count": 9,
   "metadata": {},
   "outputs": [
    {
     "data": {
      "text/plain": [
       "[<matplotlib.lines.Line2D at 0x2c82733cc88>]"
      ]
     },
     "execution_count": 9,
     "metadata": {},
     "output_type": "execute_result"
    },
    {
     "data": {
      "image/png": "[encoded data removed]",
      "text/plain": [
       "<Figure size 432x288 with 1 Axes>"
      ]
     },
     "metadata": {
      "needs_background": "light"
     },
     "output_type": "display_data"
    }
   ],
   "source": [
    "plt.plot(test_sizes, MSE_TOTAL)\n",
    "plt.plot(test_sizes, MSEB)\n",
    "plt.plot(test_sizes, MSEV)"
   ]
  },
  {
   "cell_type": "code",
   "execution_count": 55,
   "metadata": {},
   "outputs": [
    {
     "name": "stdout",
     "output_type": "stream",
     "text": [
      "done\n",
      "done\n",
      "done\n",
      "done\n",
      "done\n"
     ]
    }
   ],
   "source": [
    "test_sizes = [0.2, 0.25, 0.3, 0.4, 0.5]\n",
    "\n",
    "MSE1 = []\n",
    "MSE2 = []\n",
    "\n",
    "n = 1000\n",
    "reps = 100\n",
    "nomin_test = 0.5\n",
    "\n",
    "for size in test_sizes:\n",
    "    mse1, mse2 = mcreps2(reps,n,nomin_test)\n",
    "    MSE1.append(mse1)\n",
    "    MSE2.append(mse2)"
   ]
  },
  {
   "cell_type": "code",
   "execution_count": 13,
   "metadata": {},
   "outputs": [
    {
     "data": {
      "text/plain": [
       "[<matplotlib.lines.Line2D at 0x23d78ba0610>]"
      ]
     },
     "execution_count": 13,
     "metadata": {},
     "output_type": "execute_result"
    },
    {
     "data": {
      "image/png": "[encoded data removed]",
      "text/plain": [
       "<Figure size 432x288 with 1 Axes>"
      ]
     },
     "metadata": {
      "needs_background": "light"
     },
     "output_type": "display_data"
    }
   ],
   "source": [
    "plt.plot(test_sizes, MSE1)\n",
    "plt.plot(test_sizes, MSE2)"
   ]
  },
  {
   "cell_type": "code",
   "execution_count": null,
   "metadata": {},
   "outputs": [
    {
     "name": "stdout",
     "output_type": "stream",
     "text": [
      "done\n",
      "done\n"
     ]
    }
   ],
   "source": [
    "test_sizes = [0.2, 0.3, 0.5, 0.7]\n",
    "\n",
    "MSE1 = []\n",
    "MSE2 = []\n",
    "\n",
    "n = 1000\n",
    "reps = 100\n",
    "nomin_test = 0.5\n",
    "\n",
    "for size in test_sizes:\n",
    "    mse1, mse2 = mcreps2(reps,n,nomin_test)\n",
    "    MSE1.append(mse1)\n",
    "    MSE2.append(mse2)"
   ]
  }
 ],
 "metadata": {
  "kernelspec": {
   "display_name": "Python 3",
   "language": "python",
   "name": "python3"
  },
  "language_info": {
   "codemirror_mode": {
    "name": "ipython",
    "version": 3
   },
   "file_extension": ".py",
   "mimetype": "text/x-python",
   "name": "python",
   "nbconvert_exporter": "python",
   "pygments_lexer": "ipython3",
   "version": "3.7.6"
  }
 },
 "nbformat": 4,
 "nbformat_minor": 4
}
