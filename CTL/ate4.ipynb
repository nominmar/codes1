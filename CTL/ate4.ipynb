{
 "cells": [
  {
   "cell_type": "code",
   "execution_count": 6,
   "metadata": {},
   "outputs": [],
   "source": [
    "import pandas as pd\n",
    "import numpy as np\n",
    "from random import random\n",
    "\n",
    "from CTL2.causal_tree_learn import CausalTree\n",
    "from DGP.DGP import dgp2\n",
    "from DGP.DGP import dgp4\n",
    "from DGP.DGP import dgp4int\n",
    "from DGP.DGP import dgp8\n",
    "\n",
    "from sklearn.model_selection import train_test_split\n",
    "from sklearn.metrics import mean_squared_error as mse\n",
    "\n",
    "import matplotlib.pyplot as plt\n",
    "import pickle as pkl\n",
    "#from notify_run import Notify \n",
    "#notify = Notify()\n",
    "import datetime\n",
    "\n",
    "from utility.utility import transposer as tp\n",
    "from utility.utility import writer\n",
    "from utility.utility import reader"
   ]
  },
  {
   "cell_type": "markdown",
   "metadata": {},
   "source": [
    "### Parameters:"
   ]
  },
  {
   "cell_type": "markdown",
   "metadata": {},
   "source": [
    "### ATE2"
   ]
  },
  {
   "cell_type": "code",
   "execution_count": 4,
   "metadata": {},
   "outputs": [],
   "source": [
    "def mc_ate4(n, tsize, var_e, reps, nomin_test):\n",
    "    #true ATE\n",
    "    ATE1 = np.ones(reps)*3\n",
    "    ATE2 = np.ones(reps)*1\n",
    "    ATE3 = np.ones(reps)*-2\n",
    "    ATE4 = np.ones(reps)*-3\n",
    "    #predicted ate\n",
    "    ate1 = []\n",
    "    ate2 = []\n",
    "    ate3 = []\n",
    "    ate4 = []\n",
    "    #ITE dummy\n",
    "    tauhat = np.zeros((tsize, 1))\n",
    "    #true ITE\n",
    "\n",
    "    for i in range(reps):\n",
    "        x_train, x_test, y_train, y_test, treat_train, treat_test = dgp4int(n, tsize, var_e)\n",
    "        tau = np.where(((x_test[:,0] >= 0) & (x_test[:,1] >= 0)),3, \n",
    "                       np.where(((x_test[:,0] >= 0) & (x_test[:,1] < 0)),1, \n",
    "                                np.where(((x_test[:,0] < 0) & (x_test[:,1] >= 0)),-2,-3)))\n",
    "        ctl = CausalTree(honest=True, weight=0.0, split_size=0.0, max_depth = 3) #which type of tree to call\n",
    "        ctl.fit(x_train, y_train, treat_train, nomin_test = nomin_test) #select est size when fitting\n",
    "        ctl.prune()\n",
    "        ctl_predict = ctl.predict(x_test)\n",
    "        #predicted ATE\n",
    "        ate1 = np.append(ate1, np.mean(ctl_predict[np.where((x_test[:,0] >= 0) & (x_test[:,1] >= 0))]))\n",
    "        ate2 = np.append(ate2, np.mean(ctl_predict[np.where((x_test[:,0] >= 0) & (x_test[:,1] < 0))]))\n",
    "        ate3 = np.append(ate3, np.mean(ctl_predict[np.where((x_test[:,0] < 0) & (x_test[:,1] >= 0))]))\n",
    "        ate4 = np.append(ate4, np.mean(ctl_predict[np.where((x_test[:,0] < 0) & (x_test[:,1] < 0))]))\n",
    "        #predicted ITE\n",
    "        tauhat = np.append(tauhat, ctl_predict.reshape(-1,1), axis = 1)\n",
    "\n",
    "    mean_ate = np.array([np.mean(ate1), np.mean(ate2), np.mean(ate3), np.mean(ate4)])    \n",
    "    mse_ate = np.array([mse(ATE1, ate1), mse(ATE2, ate2),mse(ATE3, ate3), mse(ATE4, ate4)])\n",
    "    bias_ate = np.array([np.sum(np.subtract(ATE1,ate1))/reps, np.sum(np.subtract(ATE2,ate2))/reps, np.sum(np.subtract(ATE3,ate3))/reps, np.sum(np.subtract(ATE4,ate4))/reps])\n",
    "    var_ate = np.array([np.var(ate1), np.var(ate2), np.var(ate3), np.var(ate4)])\n",
    "\n",
    "    #TOTAL MSE's\n",
    "    ind_var = np.var(tauhat[:, 1:], axis = 1)\n",
    "    ind_mean = np.mean(tauhat, axis = 1)\n",
    "\n",
    "    total_var = np.sum(ind_var)/tsize\n",
    "    total_bias = np.sum(np.square(np.subtract(ind_mean, tau)))/tsize\n",
    "    total_mse = total_var + total_bias\n",
    "\n",
    "    results = np.concatenate([np.array([nomin_test]), mean_ate, bias_ate, var_ate, mse_ate, np.array([total_bias]), np.array([total_var]), np.array([total_mse])])\n",
    "    return results"
   ]
  },
  {
   "cell_type": "code",
   "execution_count": 10,
   "metadata": {},
   "outputs": [
    {
     "name": "stdout",
     "output_type": "stream",
     "text": [
      "start time:  23:26\n",
      "end time:  23:27\n"
     ]
    }
   ],
   "source": [
    "n = 1000\n",
    "tsize = 500\n",
    "reps = 500\n",
    "test_sizes = [0.2, 0.3, 0.4, 0.5, 0.6, 0.7, 0.8]\n",
    "res = []\n",
    "var = [0.01, 1.0, 2.5]\n",
    "\n",
    "print(\"start time: \", str(datetime.datetime.now())[11:16])\n",
    "\n",
    "for v in var:\n",
    "    df = pd.DataFrame()\n",
    "    for size in test_sizes:\n",
    "        results = mc_ate4(n, tsize, v, reps, size)\n",
    "        df = pd.concat([df, pd.DataFrame(results).transpose()])\n",
    "    df.columns=['test_sizes', 'Mean1', 'Mean2', 'Mean3', 'Mean4', 'MSE1', 'MSE2','MSE3', 'MSE4', 'BIAS1', 'BIAS2','BIAS3', 'BIAS4', 'VAR1', 'VAR2','VAR3', 'VAR4',  'MSE_T_BIAS', 'MSE_T_VAR', 'MSE_TOTAL']    \n",
    "    res.append([v])\n",
    "    res.append([df])\n",
    "    \n",
    "print(\"end time: \", str(datetime.datetime.now())[11:16])"
   ]
  },
  {
   "cell_type": "code",
   "execution_count": 11,
   "metadata": {},
   "outputs": [
    {
     "data": {
      "text/plain": [
       "[[0.01],\n",
       " [   test_sizes     Mean1     Mean2     Mean3     Mean4      MSE1      MSE2  \\\n",
       "  0         0.2  2.781741  1.534405 -2.136583 -2.181295  0.218259 -0.534405   \n",
       "  0         0.3  2.514673  1.193286 -2.379273 -2.400994  0.485327 -0.193286   \n",
       "  0         0.4  1.402720  1.543081 -2.150017 -2.151272  1.597280 -0.543081   \n",
       "  0         0.5  1.922980  1.270820 -2.214503 -2.200395  1.077020 -0.270820   \n",
       "  0         0.6  2.029387  1.546867 -2.474489 -2.579145  0.970613 -0.546867   \n",
       "  0         0.7  2.091865  1.589949 -2.335762 -2.393147  0.908135 -0.589949   \n",
       "  0         0.8  2.175513  1.582526 -2.425170 -2.438873  0.824487 -0.582526   \n",
       "  \n",
       "         MSE3      MSE4     BIAS1     BIAS2     BIAS3     BIAS4      VAR1  \\\n",
       "  0  0.136583 -0.818705  0.627526  0.612844  0.391660  0.408268  0.675164   \n",
       "  0  0.379273 -0.599006  0.175736  0.382605  0.203657  0.182385  0.411278   \n",
       "  0  0.150017 -0.848728  0.108328  0.086561  0.038510  0.038877  2.659630   \n",
       "  0  0.214503 -0.799605  0.057167  0.114911  0.130708  0.117940  1.217140   \n",
       "  0  0.474489 -0.420855  0.058738  0.283022  0.197624  0.180902  1.000827   \n",
       "  0  0.335762 -0.606853  0.268922  0.447962  0.319991  0.285572  1.093630   \n",
       "  0  0.425170 -0.561127  0.177641  0.227451  0.062932  0.067669  0.857420   \n",
       "  \n",
       "         VAR2      VAR3      VAR4  MSE_T_BIAS  MSE_T_VAR  MSE_TOTAL  \n",
       "  0  0.898433  0.410315  1.078545    5.086214   4.650613   9.736826  \n",
       "  0  0.419964  0.347505  0.541192    5.313526   4.273886   9.587413  \n",
       "  0  0.381498  0.061015  0.759217    4.913789   3.006829   7.920618  \n",
       "  0  0.188254  0.176719  0.757309    4.915328   3.449186   8.364514  \n",
       "  0  0.582086  0.422763  0.358021    4.309995   4.307190   8.617185  \n",
       "  0  0.796001  0.432727  0.653842    4.372538   4.032915   8.405453  \n",
       "  0  0.566787  0.243702  0.382533    4.619117   4.102816   8.721933  ],\n",
       " [1.0],\n",
       " [   test_sizes     Mean1     Mean2     Mean3     Mean4      MSE1      MSE2  \\\n",
       "  0         0.2  2.451946  1.274204 -2.291674 -2.326855  0.548054 -0.274204   \n",
       "  0         0.3  2.635352  1.329270 -2.761598 -2.772542  0.364648 -0.329270   \n",
       "  0         0.4  2.244885  1.642760 -2.547582 -2.570102  0.755115 -0.642760   \n",
       "  0         0.5  2.001828  1.431360 -2.276849 -2.266063  0.998172 -0.431360   \n",
       "  0         0.6  1.834784  0.774629 -2.114275 -2.122461  1.165216  0.225371   \n",
       "  0         0.7  2.360028  1.586768 -2.551808 -2.594696  0.639972 -0.586768   \n",
       "  0         0.8  2.226141  1.045066 -2.268268 -2.279453  0.773859 -0.045066   \n",
       "  \n",
       "         MSE3      MSE4     BIAS1     BIAS2     BIAS3     BIAS4      VAR1  \\\n",
       "  0  0.291674 -0.673145  0.892261  0.135092  0.056747  0.094122  1.192624   \n",
       "  0  0.761598 -0.227458  0.012357  0.157175  0.130598  0.133538  0.145325   \n",
       "  0  0.547582 -0.429898  0.230116  0.377436  0.020010  0.014491  0.800315   \n",
       "  0  0.276849 -0.733937  0.043794  0.345373  0.068850  0.075875  1.040140   \n",
       "  0  0.114275 -0.877539  0.857752  0.547390  0.509626  0.522367  2.215480   \n",
       "  0  0.551808 -0.405304  0.429191  0.083996  0.008748  0.010947  0.838755   \n",
       "  0  0.268268 -0.720547  0.513566  0.172906  0.155782  0.156762  1.112423   \n",
       "  \n",
       "         VAR2      VAR3      VAR4  MSE_T_BIAS  MSE_T_VAR  MSE_TOTAL  \n",
       "  0  0.210280  0.141821  0.547246    4.332655   4.303600   8.636255  \n",
       "  0  0.265594  0.710629  0.185275    4.432314   5.125421   9.557735  \n",
       "  0  0.790576  0.319856  0.199303    4.628505   4.789380   9.417885  \n",
       "  0  0.531444  0.145495  0.614539    4.709194   3.570140   8.279335  \n",
       "  0  0.598183  0.522684  1.292442    4.329340   3.195943   7.525283  \n",
       "  0  0.428293  0.313240  0.175218    4.869842   4.554077   9.423919  \n",
       "  0  0.174937  0.227750  0.675950    5.345726   4.022210   9.367936  ],\n",
       " [2.5],\n",
       " [   test_sizes     Mean1     Mean2     Mean3     Mean4      MSE1      MSE2  \\\n",
       "  0         0.2  2.103495  1.917249 -1.827223 -1.832950  0.896505 -0.917249   \n",
       "  0         0.3  1.993427  1.325263 -1.887506 -1.892034  1.006573 -0.325263   \n",
       "  0         0.4  1.582014  1.402522 -2.206916 -2.230727  1.417986 -0.402522   \n",
       "  0         0.5  2.284454  2.065350 -1.925559 -1.959967  0.715546 -1.065350   \n",
       "  0         0.6  2.039051  0.806580 -1.938089 -1.946473  0.960949  0.193420   \n",
       "  0         0.7  1.655537  1.542440 -1.869669 -1.812998  1.344463 -0.542440   \n",
       "  0         0.8  1.230725  0.682242 -1.454141 -1.747123  1.769275  0.317758   \n",
       "  \n",
       "         MSE3      MSE4     BIAS1     BIAS2     BIAS3     BIAS4      VAR1  \\\n",
       "  0 -0.172777 -1.167050  0.362619  0.677160  1.042877  1.028101  1.166339   \n",
       "  0 -0.112494 -1.107966  0.782909  0.158580  0.259209  0.260841  1.796099   \n",
       "  0  0.206916 -0.769273  0.182418  0.527127  0.152102  0.155037  2.193103   \n",
       "  0 -0.074441 -1.040033  0.181577  0.210984  0.038421  0.064122  0.693582   \n",
       "  0 -0.061911 -1.053527  0.771961  0.943036  0.220241  0.194481  1.695384   \n",
       "  0 -0.130331 -1.187002  0.472799  0.668337  0.896437  1.052141  2.280380   \n",
       "  0 -0.545859 -1.252877  0.699937  1.000101  1.338156  0.492547  3.830272   \n",
       "  \n",
       "         VAR2      VAR3      VAR4  MSE_T_BIAS  MSE_T_VAR  MSE_TOTAL  \n",
       "  0  1.518506  1.072729  2.390106    5.141615   4.113935   9.255549  \n",
       "  0  0.264376  0.271864  1.488430    5.204193   3.239946   8.444139  \n",
       "  0  0.689151  0.194916  0.746818    4.683681   3.520273   8.203954  \n",
       "  0  1.345953  0.043963  1.145791    4.677491   3.866283   8.543774  \n",
       "  0  0.980448  0.224074  1.304400    4.778296   3.663971   8.442267  \n",
       "  0  0.962578  0.913423  2.461115    4.636238   3.627068   8.263306  \n",
       "  0  1.101071  1.636118  2.062247    3.966491   2.556872   6.523363  ]]"
      ]
     },
     "execution_count": 11,
     "metadata": {},
     "output_type": "execute_result"
    }
   ],
   "source": [
    "res"
   ]
  },
  {
   "cell_type": "code",
   "execution_count": null,
   "metadata": {},
   "outputs": [],
   "source": []
  }
 ],
 "metadata": {
  "kernelspec": {
   "display_name": "Python 3",
   "language": "python",
   "name": "python3"
  },
  "language_info": {
   "codemirror_mode": {
    "name": "ipython",
    "version": 3
   },
   "file_extension": ".py",
   "mimetype": "text/x-python",
   "name": "python",
   "nbconvert_exporter": "python",
   "pygments_lexer": "ipython3",
   "version": "3.8.3"
  }
 },
 "nbformat": 4,
 "nbformat_minor": 4
}
