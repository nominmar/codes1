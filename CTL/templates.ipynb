{
 "cells": [
  {
   "cell_type": "code",
   "execution_count": null,
   "metadata": {},
   "outputs": [],
   "source": [
    "        data = pd.DataFrame({'y': y_test, 'X1': x_test[:,0], 'X2': x_test[:,1], 'X3': x_test[:,2], 'X4': x_test[:,3], 'd':treat_test, 'tr1': ctl_predict, 'tr2': cthl_predict})\n",
    "        x1 = x_test[:,0]\n",
    "\n",
    "        ate1_true = np.mean(y_test[np.where((x1 > 0) & (treat_test == 1))]) - np.mean(y_test[np.where((x1 > 0) & (treat_test == 0))])\n",
    "        print(ate1_true == data['y'][(data['X1'] > 0) & (data['d'] == 1)].mean() - data['y'][(data['X1'] > 0) & (data['d'] == 0)].mean())\n",
    "        ate1_test = np.mean(ctl_predict[np.where(x1 >= 0)])\n",
    "        print(ate1_test == data['tr1'][data['X1'] > 0].mean())\n",
    "        ate1_control = np.mean(cthl_predict[np.where(x1 >= 0)])\n",
    "        print(ate1_control == data['tr2'][data['X1'] > 0].mean())\n",
    "        print(ate1_true)\n",
    "        ate0_true = np.mean(y_test[np.where((x1 < 0) & (treat_test == 1))]) - np.mean(y_test[np.where((x1 < 0) & (treat_test == 0))])\n",
    "        print(ate0_true == data['y'][(data['X1'] < 0) & (data['d'] == 1)].mean() - data['y'][(data['X1'] < 0) & (data['d'] == 0)].mean())\n",
    "        ate0_test = np.mean(ctl_predict[np.where(x1 < 0)])\n",
    "        print(ate0_test == data['tr1'][data['X1'] < 0].mean())\n",
    "        ate0_control = np.mean(cthl_predict[np.where(x1 < 0)])\n",
    "        print(ate0_control == data['tr2'][data['X1'] < 0].mean())"
   ]
  },
  {
   "cell_type": "code",
   "execution_count": null,
   "metadata": {},
   "outputs": [],
   "source": [
    "def mcreps():    \n",
    "    ATE1 = []\n",
    "    ATE0 = []\n",
    "\n",
    "    reps = 10\n",
    "    for i in range(reps):\n",
    "        x_train, x_test, y_train, y_test, treat_train, treat_test = dgp3(1000)\n",
    "        ate1, ate0, ctl_predict = MC_MSE_1(x_train, x_test, y_train, y_test, treat_train, treat_test, 0.5)\n",
    "        ATE1.append(ate1)\n",
    "        ATE0.append(ate0)\n",
    "\n",
    "    print(np.sum(np.square(np.subtract(np.array(ATE1),1)))/reps)\n",
    "    print(np.sum(np.square(np.add(np.array(ATE0), 1)))/reps)"
   ]
  }
 ],
 "metadata": {
  "kernelspec": {
   "display_name": "Python 3",
   "language": "python",
   "name": "python3"
  },
  "language_info": {
   "codemirror_mode": {
    "name": "ipython",
    "version": 3
   },
   "file_extension": ".py",
   "mimetype": "text/x-python",
   "name": "python",
   "nbconvert_exporter": "python",
   "pygments_lexer": "ipython3",
   "version": "3.8.3"
  }
 },
 "nbformat": 4,
 "nbformat_minor": 4
}
