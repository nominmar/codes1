{
 "cells": [
  {
   "cell_type": "code",
   "execution_count": 2,
   "metadata": {},
   "outputs": [],
   "source": [
    "import pandas as pd\n",
    "import numpy as np\n",
    "from random import random\n",
    "from CTL2.causal_tree_learn import CausalTree\n",
    "from DGP.dgp6 import dgp_ate4_int\n",
    "from DGP.dgp6 import dgp_ate4\n",
    "from MC.mc2 import MC_MSE_2\n",
    "from MC.mc2_maxd import MC_MSE_2max\n",
    "from sklearn.model_selection import train_test_split\n",
    "from sklearn.metrics import mean_squared_error as mse\n",
    "import matplotlib.pyplot as plt\n",
    "import pickle as pkl\n",
    "#from notify_run import Notify \n",
    "#notify = Notify()\n",
    "import datetime"
   ]
  },
  {
   "cell_type": "code",
   "execution_count": 16,
   "metadata": {},
   "outputs": [],
   "source": [
    "def MC_ate4(n, var_e, reps, nomin_test):    \n",
    "    #true ATE\n",
    "    ATE1 = np.ones(reps)*3\n",
    "    ATE2 = np.ones(reps)*1\n",
    "    ATE3 = np.ones(reps)*-2\n",
    "    ATE4 = np.ones(reps)*-3\n",
    "    #predicted ate\n",
    "    ate1 = []\n",
    "    ate2 = []\n",
    "    ate3 = []\n",
    "    ate4 = []\n",
    "    #TOTAL MSE, Bias, Var\n",
    "    MSE = []\n",
    "    bias = []\n",
    "    var = []\n",
    "    n2 = int(n/2)\n",
    "    \n",
    "    leafs = []\n",
    "    for i in range(reps):\n",
    "        x_train, x_test, y_train, y_test, treat_train, treat_test = dgp_ate4_int(n,var_e)     \n",
    "        #true individual treatment effect\n",
    "        #tau = np.where(((x1 >= 0) & (x2 >= 0)),2, np.where(((x1 >= 0) & (x2 < 0)),1, np.where(((x1 < 0) & (x2 >= 0)),-1,-2)))\n",
    "        tau = np.where(((x_test[:,0] >= 0) & (x_test[:,1] >= 0)),3, np.where(((x_test[:,0] >= 0) & (x_test[:,1] < 0)),1, np.where(((x_test[:,0] < 0) & (x_test[:,1] >= 0)),-2,-3)))\n",
    "        #predicted infividual treatment effect\n",
    "        ctl_predict = MC_MSE_2max(x_train, x_test, y_train, y_test, treat_train, treat_test, nomin_test)\n",
    "        #predicted ATE\n",
    "        ate1 = np.append(ate1, np.mean(ctl_predict[np.where((x_test[:,0] >= 0) & (x_test[:,1] >= 0))]))\n",
    "        ate2 = np.append(ate2, np.mean(ctl_predict[np.where((x_test[:,0] >= 0) & (x_test[:,1] < 0))]))\n",
    "        ate3 = np.append(ate3, np.mean(ctl_predict[np.where((x_test[:,0] < 0) & (x_test[:,1] >= 0))]))\n",
    "        ate4 = np.append(ate4, np.mean(ctl_predict[np.where((x_test[:,0] < 0) & (x_test[:,1] < 0))]))\n",
    "        \n",
    "        #leafs = np.append(leafs, len(np.unique(ctl_predict)))\n",
    "        #nn = int(len(ctl_predict))\n",
    "        MSE = np.append(MSE, mse(ctl_predict,tau))\n",
    "        bias = np.append(bias, np.sum(np.subtract(tau,ctl_predict))/n2)\n",
    "        var = np.append(var, np.var(np.subtract(tau,ctl_predict)))\n",
    "\n",
    "    #ATE MSE's\n",
    "    mean_ate = np.array([np.mean(ate1), np.mean(ate2), np.mean(ate3), np.mean(ate4)])    \n",
    "    mse_ate = np.array([mse(ATE1, ate1), mse(ATE2, ate2),mse(ATE3, ate3), mse(ATE4, ate4)])\n",
    "    bias_ate = np.array([np.sum(np.subtract(ATE1,ate1))/reps, np.sum(np.subtract(ATE2,ate2))/reps, np.sum(np.subtract(ATE3,ate3))/reps, np.sum(np.subtract(ATE4,ate4))/reps])\n",
    "    var_ate = np.array([np.var(ate1), np.var(ate2), np.var(ate3), np.var(ate4)])\n",
    "    \n",
    "    return mean_ate, mse_ate, bias_ate, var_ate, np.mean(MSE), np.mean(bias), np.mean(var)"
   ]
  },
  {
   "cell_type": "code",
   "execution_count": 30,
   "metadata": {},
   "outputs": [
    {
     "name": "stdout",
     "output_type": "stream",
     "text": [
      "start time:  12:41\n",
      "end time:  13:11\n"
     ]
    }
   ],
   "source": [
    "print(\"start time: \", str(datetime.datetime.now())[11:16])\n",
    "test_sizes = [0.2, 0.3, 0.4, 0.5, 0.6, 0.7, 0.8, 0.9]\n",
    "\n",
    "mean_ate_ = []\n",
    "mse_ate_ = []\n",
    "bias_ate_ = []\n",
    "var_ate_ = []\n",
    "MSE_ = []\n",
    "bias_ = []\n",
    "var_ = []\n",
    "\n",
    "var_e = 0.1\n",
    "n = 1000\n",
    "reps = 500\n",
    "\n",
    "for size in test_sizes:\n",
    "    mean_ate, mse_ate, bias_ate, var_ate, MSE, bias, var = MC_ate4(n, var_e, reps, size)\n",
    "    mean_ate_ = np.append(mean_ate_,mean_ate)\n",
    "    mse_ate_ = np.append(mse_ate_,mse_ate)\n",
    "    bias_ate_ = np.append(bias_ate_, bias_ate)\n",
    "    var_ate_ = np.append(var_ate_, var_ate)\n",
    "    MSE_ = np.append(MSE_, MSE)\n",
    "    bias_ = np.append(bias_, bias)\n",
    "    var_ = np.append(var_, var)\n",
    "    \n",
    "#notify.send('Done running the simulations')\n",
    "print(\"end time: \", str(datetime.datetime.now())[11:16])"
   ]
  },
  {
   "cell_type": "code",
   "execution_count": 31,
   "metadata": {},
   "outputs": [],
   "source": [
    "results = [['var = 0.1, reps = 500, n = 1000, with int.'],[mean_ate_], [mse_ate_], [bias_ate_], [var_ate_], [MSE_], [bias_], [var_]]\n",
    "with open('te5_r1_.pkl','wb') as f:\n",
    "    pkl.dump(results, f)"
   ]
  },
  {
   "cell_type": "code",
   "execution_count": null,
   "metadata": {},
   "outputs": [],
   "source": []
  },
  {
   "cell_type": "code",
   "execution_count": null,
   "metadata": {},
   "outputs": [],
   "source": [
    "df = pd.DataFrame([test_sizes, MSE1, MSE2, BIAS1, BIAS2, VAR1, VAR2, MSE_TOTAL, MSEB, MSEV]).transpose().set_index(0)\n",
    "df.columns=['MSE1', 'MSE2', 'BIAS1', 'BIAS2', 'VAR1', 'VAR2', 'MSE_TOTAL', 'MSE_T_BIAS', 'MSE_T_VAR']"
   ]
  },
  {
   "cell_type": "code",
   "execution_count": 2,
   "metadata": {},
   "outputs": [],
   "source": [
    "import pickle as pkl\n",
    "with open('te5_r1.pkl', 'rb') as f:\n",
    "    df1 = pkl.load(f)"
   ]
  },
  {
   "cell_type": "code",
   "execution_count": 4,
   "metadata": {},
   "outputs": [],
   "source": [
    "n = 1000\n",
    "var_e = 0.01\n",
    "nomin_test = 0.5\n",
    "\n",
    "x_train, x_test, y_train, y_test, treat_train, treat_test = dgp_ate4_int(n,var_e)     \n",
    "#true individual treatment effect\n",
    "#tau = np.where(((x1 >= 0) & (x2 >= 0)),2, np.where(((x1 >= 0) & (x2 < 0)),1, np.where(((x1 < 0) & (x2 >= 0)),-1,-2)))\n",
    "tau = np.where(((x_test[:,0] >= 0) & (x_test[:,1] >= 0)),3, np.where(((x_test[:,0] >= 0) & (x_test[:,1] < 0)),1, np.where(((x_test[:,0] < 0) & (x_test[:,1] >= 0)),-2,-3)))\n",
    "#predicted infividual treatment effect\n",
    "ctl_predict = MC_MSE_2max(x_train, x_test, y_train, y_test, treat_train, treat_test, nomin_test)\n"
   ]
  },
  {
   "cell_type": "code",
   "execution_count": 8,
   "metadata": {},
   "outputs": [
    {
     "data": {
      "text/plain": [
       "-0.023116228941507548"
      ]
     },
     "execution_count": 8,
     "metadata": {},
     "output_type": "execute_result"
    }
   ],
   "source": [
    "np.sum(np.subtract(tau,ctl_predict))/500"
   ]
  },
  {
   "cell_type": "code",
   "execution_count": 9,
   "metadata": {},
   "outputs": [
    {
     "data": {
      "text/plain": [
       "0.6381846687674916"
      ]
     },
     "execution_count": 9,
     "metadata": {},
     "output_type": "execute_result"
    }
   ],
   "source": [
    "mse(tau,ctl_predict)"
   ]
  },
  {
   "cell_type": "code",
   "execution_count": 10,
   "metadata": {},
   "outputs": [
    {
     "data": {
      "text/plain": [
       "0.6376503087270152"
      ]
     },
     "execution_count": 10,
     "metadata": {},
     "output_type": "execute_result"
    }
   ],
   "source": [
    "np.var(np.subtract(tau,ctl_predict))"
   ]
  },
  {
   "cell_type": "code",
   "execution_count": 11,
   "metadata": {},
   "outputs": [
    {
     "data": {
      "text/plain": [
       "0.6381846687674915"
      ]
     },
     "execution_count": 11,
     "metadata": {},
     "output_type": "execute_result"
    }
   ],
   "source": [
    "np.square(np.sum(np.subtract(tau,ctl_predict))/500) + np.var(np.subtract(tau,ctl_predict))"
   ]
  },
  {
   "cell_type": "code",
   "execution_count": null,
   "metadata": {},
   "outputs": [],
   "source": []
  }
 ],
 "metadata": {
  "kernelspec": {
   "display_name": "Python 3",
   "language": "python",
   "name": "python3"
  },
  "language_info": {
   "codemirror_mode": {
    "name": "ipython",
    "version": 3
   },
   "file_extension": ".py",
   "mimetype": "text/x-python",
   "name": "python",
   "nbconvert_exporter": "python",
   "pygments_lexer": "ipython3",
   "version": "3.8.3"
  }
 },
 "nbformat": 4,
 "nbformat_minor": 4
}
