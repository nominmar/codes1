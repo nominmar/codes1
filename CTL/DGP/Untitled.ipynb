{
 "cells": [
  {
   "cell_type": "code",
   "execution_count": 39,
   "metadata": {},
   "outputs": [
    {
     "name": "stdout",
     "output_type": "stream",
     "text": [
      "3.2717749539416534\n",
      "1.1372482452795662\n",
      "-0.7602797972893286\n",
      "-2.463705184488649\n"
     ]
    }
   ],
   "source": [
    "import pandas as pd\n",
    "import numpy as np\n",
    "from sklearn.model_selection import train_test_split\n",
    "\n",
    "def dgp_ate4_int(n, var_e):\n",
    "    np.random.seed()\n",
    "    #treatment (randomly assigned)\n",
    "    d = np.random.choice([0, 1], size=(n,1), p=[1./2, 1./2])\n",
    "    #covariates (relevate to T.E.)\n",
    "    x1 = np.random.normal(loc = 0.0, scale = 1.0, size = (n,1))\n",
    "    x2 = np.random.normal(loc = 0.0, scale = 1.0, size = (n,1))\n",
    "    #covariates (relevant to outcome)\n",
    "    x3 = np.random.normal(loc = 0.0, scale = 1.0, size = (n,1))\n",
    "    x4 = np.random.normal(loc = 0.0, scale = 1.0, size = (n,1))\n",
    "    x5 = np.random.normal(loc = 0.0, scale = 1.0, size = (n,1))\n",
    "    #covariates (irrelevant)\n",
    "    x6 = np.random.normal(loc = 0.0, scale = 1.0, size = (n,1))\n",
    "    #error term\n",
    "    e = np.random.normal(loc = 0.0, scale = var_e, size = (n,1))\n",
    "\n",
    "    #indicator functions\n",
    "    ind1 = np.zeros((n,1))\n",
    "    ind2 = np.zeros((n,1))\n",
    "    ind3 = np.zeros((n,1))\n",
    "    ind1[np.where(x1 >= 0)] = 1\n",
    "    ind2[np.where(x2 >= 0)] = 1\n",
    "    ind3[np.where((x1 >= 0) & (x2 >= 0))] = 1\n",
    "\n",
    "    y = np.add(np.add(np.add(np.add(np.add(d*-2, np.multiply(np.add(np.add(3*ind1, ind2), ind3),d)),x3),x4),x5),e)\n",
    "    X = np.concatenate((x1,x2,x3,x4,x5,x6), axis=1)\n",
    "    \n",
    "    x_train, x_test, y_train, y_test, treat_train, treat_test = train_test_split(X, y, d, test_size=0.5)\n",
    "    \n",
    "    return x_train, x_test, y_train, y_test, treat_train, treat_test\n",
    "\n",
    "\n",
    "x_train, x_test, y_train, y_test, treat_train, treat_test = dgp_ate4_int(1000, 0.01)\n",
    "\n",
    "x1 = x_test[:,0].reshape(-1,1)\n",
    "x2 = x_test[:,1].reshape(-1,1)\n",
    "d = treat_test[:,0].reshape(-1,1)\n",
    "y = y_test[:,0].reshape(-1,1)\n",
    "print(np.mean(y[np.where((x1 >= 0) & (x2 >= 0) & (d == 1))]) - np.mean(y[np.where((x1 >= 0) & (x2 >= 0) & (d == 0))]))\n",
    "print(np.mean(y[np.where((x1 >= 0) & (x2 < 0) & (d == 1))]) - np.mean(y[np.where((x1 >= 0) & (x2 < 0) & (d == 0))]))\n",
    "print(np.mean(y[np.where((x1 < 0) & (x2 >= 0) & (d == 1))]) - np.mean(y[np.where((x1 < 0) & (x2 >= 0) & (d == 0))]))\n",
    "print(np.mean(y[np.where((x1 < 0) & (x2 < 0) & (d == 1))]) - np.mean(y[np.where((x1 < 0) & (x2 < 0) & (d == 0))]))\n"
   ]
  },
  {
   "cell_type": "code",
   "execution_count": 19,
   "metadata": {},
   "outputs": [
    {
     "name": "stdout",
     "output_type": "stream",
     "text": [
      "[[ 0.22368904 -0.05829291  1.        ]\n",
      " [-0.88166315 -0.64107644  0.        ]\n",
      " [ 0.99824557 -1.09255274  1.        ]\n",
      " ...\n",
      " [ 1.41402042 -0.91070444  1.        ]\n",
      " [-0.97577507 -0.84529043  1.        ]\n",
      " [ 0.05649997  0.46983501  0.        ]]\n"
     ]
    }
   ],
   "source": [
    "print(np.concatenate((x1,x2,d), axis =1))"
   ]
  },
  {
   "cell_type": "code",
   "execution_count": 20,
   "metadata": {},
   "outputs": [
    {
     "data": {
      "text/plain": [
       "array([[ 1],\n",
       "       [-1],\n",
       "       [-2],\n",
       "       [ 2],\n",
       "       [ 1],\n",
       "       [ 2],\n",
       "       [ 1],\n",
       "       [-2],\n",
       "       [ 2],\n",
       "       [-2]])"
      ]
     },
     "execution_count": 20,
     "metadata": {},
     "output_type": "execute_result"
    }
   ],
   "source": [
    "\n",
    "#print(np.mean(y[np.where((x1 >= 0) & (x2 >= 0) & (d == 1))]) - np.mean(y[np.where((x1 >= 0) & (x2 >= 0) & (d == 0))]))\n",
    "#print(np.mean(y[np.where((x1 >= 0) & (x2 < 0) & (d == 1))]) - np.mean(y[np.where((x1 >= 0) & (x2 < 0) & (d == 0))]))\n",
    "#print(np.mean(y[np.where((x1 < 0) & (x2 >= 0) & (d == 1))]) - np.mean(y[np.where((x1 < 0) & (x2 >= 0) & (d == 0))]))\n",
    "#print(np.mean(y[np.where((x1 < 0) & (x2 < 0) & (d == 1))]) - np.mean(y[np.where((x1 < 0) & (x2 < 0) & (d == 0))]))\n"
   ]
  },
  {
   "cell_type": "code",
   "execution_count": 26,
   "metadata": {},
   "outputs": [],
   "source": [
    "import timeit\n"
   ]
  },
  {
   "cell_type": "code",
   "execution_count": 25,
   "metadata": {},
   "outputs": [],
   "source": [
    "\n",
    "\n",
    "%timeit()\n"
   ]
  },
  {
   "cell_type": "code",
   "execution_count": 23,
   "metadata": {},
   "outputs": [
    {
     "data": {
      "text/plain": [
       "array([-1,  2, -1, -2, -1,  1,  1,  1, -2,  2, -2, -1,  1,  1, -1, -2,  1,\n",
       "       -1, -1,  2, -2, -1,  1,  2,  1,  1,  1,  1,  1,  2,  2,  1, -2, -1,\n",
       "        1, -2, -2, -1, -2, -1,  2,  2, -2, -1, -1,  2, -2, -2,  2, -2])"
      ]
     },
     "execution_count": 23,
     "metadata": {},
     "output_type": "execute_result"
    }
   ],
   "source": [
    "tau"
   ]
  },
  {
   "cell_type": "code",
   "execution_count": 45,
   "metadata": {},
   "outputs": [
    {
     "name": "stdout",
     "output_type": "stream",
     "text": [
      "7.406819899999391\n"
     ]
    }
   ],
   "source": [
    "# testing timeit()\n",
    "import timeit\n",
    "import_module = '''\n",
    "import numpy as np\n",
    "from sklearn.model_selection import train_test_split\n",
    "'''\n",
    "testcode = ''' \n",
    "def time_test():\n",
    "\n",
    "'''\n",
    "print(np.sum(timeit.repeat(stmt=testcode, setup=import_module, repeat = 50)))"
   ]
  },
  {
   "cell_type": "code",
   "execution_count": 46,
   "metadata": {},
   "outputs": [
    {
     "name": "stdout",
     "output_type": "stream",
     "text": [
      "6.8403421999998955\n"
     ]
    }
   ],
   "source": [
    "# testing timeit()\n",
    "import timeit\n",
    "import_module = '''\n",
    "import numpy as np\n",
    "from sklearn.model_selection import train_test_split\n",
    "'''\n",
    "testcode = ''' \n",
    "def time_test():\n",
    "    x_train, x_test, y_train, y_test, treat_train, treat_test = dgp6(1000, 0.01)\n",
    "    tau = np.where(((x_test[:,0] >= 0) & (x_test[:,1] >= 0)),2, np.where(((x_test[:,0] >= 0) & (x_test[:,1] < 0)),1, np.where(((x_test[:,0] < 0) & (x_test[:,1] >= 0)),-1,-2)))\n",
    "    return tau\n",
    "'''\n",
    "print(np.sum(timeit.repeat(stmt=testcode, setup=import_module, repeat = 50)))"
   ]
  },
  {
   "cell_type": "code",
   "execution_count": 75,
   "metadata": {},
   "outputs": [],
   "source": [
    "x_train, x_test, y_train, y_test, treat_train, treat_test = dgp6(50000, 0.01)\n",
    "x1 = x_test[:,0]\n",
    "x2 = x_test[:,1]\n",
    "tau1 = np.where(((x1 >= 0) & (x2 >= 0)),2, np.where(((x1 >= 0) & (x2 < 0)),1, np.where(((x1 < 0) & (x2 >= 0)),-1,-2)))"
   ]
  },
  {
   "cell_type": "code",
   "execution_count": 76,
   "metadata": {},
   "outputs": [
    {
     "data": {
      "text/plain": [
       "2.027330047183362"
      ]
     },
     "execution_count": 76,
     "metadata": {},
     "output_type": "execute_result"
    }
   ],
   "source": [
    "np.mean(y_test[np.where((x_test[:,0] >= 0) & (x_test[:,1] >= 0) & (treat_test[:,0] == 1))]) - np.mean(y_test[np.where((x_test[:,0] >= 0) & (x_test[:,1] >= 0) & (treat_test[:,0] == 0))])\n",
    "np.mean(y_test[np.where((x_test[:,0] >= 0) & (x_test[:,1] < 0) & (treat_test[:,0] == 1))]) - np.mean(y_test[np.where((x_test[:,0] >= 0) & (x_test[:,1] < 0) & (treat_test[:,0] == 0))])\n",
    "np.mean(y_test[np.where((x_test[:,0] < 0) & (x_test[:,1] >= 0) & (treat_test[:,0] == 1))]) - np.mean(y_test[np.where((x_test[:,0] < 0) & (x_test[:,1] >= 0) & (treat_test[:,0] == 0))])\n",
    "np.mean(y_test[np.where((x_test[:,0] < 0) & (x_test[:,1] < 0) & (treat_test[:,0] == 1))]) - np.mean(y_test[np.where((x_test[:,0] < 0) & (x_test[:,1] < 0) & (treat_test[:,0] == 0))])"
   ]
  },
  {
   "cell_type": "code",
   "execution_count": 133,
   "metadata": {},
   "outputs": [],
   "source": [
    "A = np.array([[2],[1],[-1],[-2]])"
   ]
  },
  {
   "cell_type": "code",
   "execution_count": 134,
   "metadata": {},
   "outputs": [],
   "source": []
  },
  {
   "cell_type": "code",
   "execution_count": 135,
   "metadata": {},
   "outputs": [
    {
     "data": {
      "text/plain": [
       "array([[ 2.02733005],\n",
       "       [ 0.97270765],\n",
       "       [-1.05386175],\n",
       "       [-2.06301024]])"
      ]
     },
     "execution_count": 135,
     "metadata": {},
     "output_type": "execute_result"
    }
   ],
   "source": [
    "a"
   ]
  },
  {
   "cell_type": "code",
   "execution_count": 143,
   "metadata": {},
   "outputs": [],
   "source": []
  },
  {
   "cell_type": "code",
   "execution_count": 145,
   "metadata": {},
   "outputs": [
    {
     "data": {
      "text/plain": [
       "array([[ 2.        ,  1.        , -1.        , -2.        ],\n",
       "       [ 2.02733005,  0.97270765, -1.05386175, -2.06301024],\n",
       "       [ 2.02733005,  0.97270765, -1.05386175, -2.06301024],\n",
       "       [ 2.02733005,  0.97270765, -1.05386175, -2.06301024],\n",
       "       [ 2.02733005,  0.97270765, -1.05386175, -2.06301024]])"
      ]
     },
     "execution_count": 145,
     "metadata": {},
     "output_type": "execute_result"
    }
   ],
   "source": [
    "A.transpose()"
   ]
  },
  {
   "cell_type": "code",
   "execution_count": 125,
   "metadata": {},
   "outputs": [
    {
     "data": {
      "text/plain": [
       "array([[ 2,  1, -1, -2],\n",
       "       [ 2,  1, -1, -2]])"
      ]
     },
     "execution_count": 125,
     "metadata": {},
     "output_type": "execute_result"
    }
   ],
   "source": [
    "A.transpose()"
   ]
  },
  {
   "cell_type": "code",
   "execution_count": 123,
   "metadata": {},
   "outputs": [
    {
     "data": {
      "text/plain": [
       "array([[ 2,  2],\n",
       "       [ 1,  1],\n",
       "       [-1, -1],\n",
       "       [-2, -2]])"
      ]
     },
     "execution_count": 123,
     "metadata": {},
     "output_type": "execute_result"
    }
   ],
   "source": [
    "A"
   ]
  },
  {
   "cell_type": "code",
   "execution_count": 159,
   "metadata": {},
   "outputs": [],
   "source": [
    "mse = []"
   ]
  },
  {
   "cell_type": "code",
   "execution_count": 163,
   "metadata": {},
   "outputs": [],
   "source": [
    "mse = "
   ]
  },
  {
   "cell_type": "code",
   "execution_count": 165,
   "metadata": {},
   "outputs": [
    {
     "data": {
      "text/plain": [
       "array([1., 1.])"
      ]
     },
     "execution_count": 165,
     "metadata": {},
     "output_type": "execute_result"
    }
   ],
   "source": [
    "mse"
   ]
  },
  {
   "cell_type": "code",
   "execution_count": null,
   "metadata": {},
   "outputs": [],
   "source": []
  }
 ],
 "metadata": {
  "kernelspec": {
   "display_name": "Python 3",
   "language": "python",
   "name": "python3"
  },
  "language_info": {
   "codemirror_mode": {
    "name": "ipython",
    "version": 3
   },
   "file_extension": ".py",
   "mimetype": "text/x-python",
   "name": "python",
   "nbconvert_exporter": "python",
   "pygments_lexer": "ipython3",
   "version": "3.8.3"
  }
 },
 "nbformat": 4,
 "nbformat_minor": 4
}
