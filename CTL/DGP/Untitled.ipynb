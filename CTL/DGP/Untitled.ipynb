{
 "cells": [
  {
   "cell_type": "code",
   "execution_count": 27,
   "metadata": {},
   "outputs": [
    {
     "name": "stdout",
     "output_type": "stream",
     "text": [
      "2.504040966396434\n",
      "1.4063496774923718\n",
      "-0.5112420393166374\n",
      "-2.0111087870890376\n"
     ]
    }
   ],
   "source": [
    "import pandas as pd\n",
    "import numpy as np\n",
    "from sklearn.model_selection import train_test_split\n",
    "\n",
    "def dgp_ate4_int(n, var_e):\n",
    "    np.random.seed()\n",
    "    #treatment (randomly assigned)\n",
    "    d = np.random.choice([0, 1], size=(n,1), p=[1./2, 1./2])\n",
    "    #covariates (relevate to T.E.)\n",
    "    x1 = np.random.normal(loc = 0.0, scale = 1.0, size = (n,1))\n",
    "    x2 = np.random.normal(loc = 0.0, scale = 1.0, size = (n,1))\n",
    "    #covariates (relevant to outcome)\n",
    "    x3 = np.random.normal(loc = 0.0, scale = 1.0, size = (n,1))\n",
    "    x4 = np.random.normal(loc = 0.0, scale = 1.0, size = (n,1))\n",
    "    x5 = np.random.normal(loc = 0.0, scale = 1.0, size = (n,1))\n",
    "    #covariates (irrelevant)\n",
    "    x6 = np.random.normal(loc = 0.0, scale = 1.0, size = (n,1))\n",
    "    #error term\n",
    "    e = np.random.normal(loc = 0.0, scale = var_e, size = (n,1))\n",
    "\n",
    "    #indicator functions\n",
    "    ind1 = np.zeros((n,1))\n",
    "    ind2 = np.zeros((n,1))\n",
    "    ind3 = np.zeros((n,1))\n",
    "    ind1[np.where(x1 >= 0)] = 1\n",
    "    ind2[np.where(x2 >= 0)] = 1\n",
    "    ind3[np.where((x1 >= 0) & (x2 >= 0))] = 1\n",
    "\n",
    "    y = np.add(np.add(np.add(np.add(np.add(d*-2, np.multiply(np.add(np.add(3*ind1, ind2), ind3),d)),x3),x4),x5),e)\n",
    "    X = np.concatenate((x1,x2,x3,x4,x5,x6), axis=1)\n",
    "    \n",
    "    x_train, x_test, y_train, y_test, treat_train, treat_test = train_test_split(X, y, d, test_size=0.5)\n",
    "    \n",
    "    return x_train, x_test, y_train, y_test, treat_train, treat_test\n",
    "\n",
    "\n",
    "x_train, x_test, y_train, y_test, treat_train, treat_test = dgp_ate4_int(1000, 0.01)\n",
    "\n",
    "x1 = x_test[:,0].reshape(-1,1)\n",
    "x2 = x_test[:,1].reshape(-1,1)\n",
    "d = treat_test[:,0].reshape(-1,1)\n",
    "y = y_test[:,0].reshape(-1,1)\n",
    "print(np.mean(y[np.where((x1 >= 0) & (x2 >= 0) & (d == 1))]) - np.mean(y[np.where((x1 >= 0) & (x2 >= 0) & (d == 0))]))\n",
    "print(np.mean(y[np.where((x1 >= 0) & (x2 < 0) & (d == 1))]) - np.mean(y[np.where((x1 >= 0) & (x2 < 0) & (d == 0))]))\n",
    "print(np.mean(y[np.where((x1 < 0) & (x2 >= 0) & (d == 1))]) - np.mean(y[np.where((x1 < 0) & (x2 >= 0) & (d == 0))]))\n",
    "print(np.mean(y[np.where((x1 < 0) & (x2 < 0) & (d == 1))]) - np.mean(y[np.where((x1 < 0) & (x2 < 0) & (d == 0))]))\n"
   ]
  },
  {
   "cell_type": "code",
   "execution_count": 14,
   "metadata": {},
   "outputs": [],
   "source": [
    "def dgp4(n, var_e):\n",
    "    np.random.seed()\n",
    "    p=[1./2, 1./2]\n",
    "    d = np.random.choice([0, 1], size=(n,1), p=p)\n",
    "    x1 = np.random.normal(loc = 0.0, scale = 1.0, size = (n,1))\n",
    "    x2 = np.random.normal(loc = 0.0, scale = 1.0, size = (n,1))\n",
    "    x3 = np.random.normal(loc = 0.0, scale = 1.0, size = (n,1))\n",
    "    x4 = np.random.normal(loc = 0.0, scale = 1.0, size = (n,1))    \n",
    "    e = np.random.normal(loc = 0.0, scale = var_e, size = (n,1))\n",
    "\n",
    "    ind = np.zeros((n,1))\n",
    "    ind[np.where(x1 >= 0)] = 1\n",
    "    y = np.add(np.add(np.add(np.add(np.add(d*-1.5, np.multiply(3*d, ind)),x2),x3),x4),e)\n",
    "\n",
    "    X = np.concatenate((x1,x2,x3,x4), axis=1)\n",
    "\n",
    "\n",
    "    #X = np.concatenate((X,d), axis = 1)\n",
    "    x_train, x_test, y_train, y_test, treat_train, treat_test = train_test_split(X, y, d, test_size=0.5)\n",
    "\n",
    "    return x_train, x_test, y_train, y_test, treat_train, treat_test"
   ]
  },
  {
   "cell_type": "code",
   "execution_count": 37,
   "metadata": {},
   "outputs": [
    {
     "name": "stdout",
     "output_type": "stream",
     "text": [
      "2.9900644535866405\n",
      "1.0438087518111607\n",
      "-0.9965434041068919\n",
      "-2.0227189290104586\n"
     ]
    }
   ],
   "source": [
    "x_train, x_test, y_train, y_test, treat_train, treat_test = dgp_ate4_int(100000, 0.01)\n",
    "\n",
    "x1 = x_test[:,0].reshape(-1,1)\n",
    "x2 = x_test[:,1].reshape(-1,1)\n",
    "d = treat_test[:,0].reshape(-1,1)\n",
    "y = y_test[:,0].reshape(-1,1)\n",
    "\n",
    "\n",
    "print(np.mean(y[np.where((x1 >= 0)  & (x2 >=0) & (d == 1))]) - np.mean(y[np.where((x1 >= 0) &(x2 >=0) & (d == 0))]))\n",
    "print(np.mean(y[np.where((x1 >= 0)  & (x2 <0) & (d == 1))]) - np.mean(y[np.where((x1 >= 0) &(x2 <0) & (d == 0))]))\n",
    "print(np.mean(y[np.where((x1 < 0)  & (x2 >=0) &(d == 1))]) - np.mean(y[np.where((x1 < 0) & (x2 >=0) &(d == 0))]))\n",
    "print(np.mean(y[np.where((x1 < 0)  & (x2 <0) &(d == 1))]) - np.mean(y[np.where((x1 < 0) & (x2 <0) &(d == 0))]))"
   ]
  },
  {
   "cell_type": "code",
   "execution_count": 29,
   "metadata": {},
   "outputs": [
    {
     "name": "stdout",
     "output_type": "stream",
     "text": [
      "[[ 2.27494285  0.78232409  0.        ]\n",
      " [ 0.37198045 -1.15665642  1.        ]\n",
      " [ 1.7637217   0.97795894  0.        ]\n",
      " ...\n",
      " [ 0.67582889 -0.36199346  1.        ]\n",
      " [-1.25187793  0.16096981  0.        ]\n",
      " [-2.03463072  0.45817305  0.        ]]\n"
     ]
    }
   ],
   "source": [
    "print(np.concatenate((x1,x2,d), axis =1))"
   ]
  },
  {
   "cell_type": "code",
   "execution_count": 20,
   "metadata": {},
   "outputs": [
    {
     "data": {
      "text/plain": [
       "array([[ 1],\n",
       "       [-1],\n",
       "       [-2],\n",
       "       [ 2],\n",
       "       [ 1],\n",
       "       [ 2],\n",
       "       [ 1],\n",
       "       [-2],\n",
       "       [ 2],\n",
       "       [-2]])"
      ]
     },
     "execution_count": 20,
     "metadata": {},
     "output_type": "execute_result"
    }
   ],
   "source": [
    "\n",
    "#print(np.mean(y[np.where((x1 >= 0) & (x2 >= 0) & (d == 1))]) - np.mean(y[np.where((x1 >= 0) & (x2 >= 0) & (d == 0))]))\n",
    "#print(np.mean(y[np.where((x1 >= 0) & (x2 < 0) & (d == 1))]) - np.mean(y[np.where((x1 >= 0) & (x2 < 0) & (d == 0))]))\n",
    "#print(np.mean(y[np.where((x1 < 0) & (x2 >= 0) & (d == 1))]) - np.mean(y[np.where((x1 < 0) & (x2 >= 0) & (d == 0))]))\n",
    "#print(np.mean(y[np.where((x1 < 0) & (x2 < 0) & (d == 1))]) - np.mean(y[np.where((x1 < 0) & (x2 < 0) & (d == 0))]))\n"
   ]
  },
  {
   "cell_type": "code",
   "execution_count": 26,
   "metadata": {},
   "outputs": [],
   "source": [
    "import timeit\n"
   ]
  },
  {
   "cell_type": "code",
   "execution_count": 25,
   "metadata": {},
   "outputs": [],
   "source": [
    "\n",
    "\n",
    "%timeit()\n"
   ]
  },
  {
   "cell_type": "code",
   "execution_count": 23,
   "metadata": {},
   "outputs": [
    {
     "data": {
      "text/plain": [
       "array([-1,  2, -1, -2, -1,  1,  1,  1, -2,  2, -2, -1,  1,  1, -1, -2,  1,\n",
       "       -1, -1,  2, -2, -1,  1,  2,  1,  1,  1,  1,  1,  2,  2,  1, -2, -1,\n",
       "        1, -2, -2, -1, -2, -1,  2,  2, -2, -1, -1,  2, -2, -2,  2, -2])"
      ]
     },
     "execution_count": 23,
     "metadata": {},
     "output_type": "execute_result"
    }
   ],
   "source": [
    "tau"
   ]
  },
  {
   "cell_type": "code",
   "execution_count": 45,
   "metadata": {},
   "outputs": [
    {
     "name": "stdout",
     "output_type": "stream",
     "text": [
      "7.406819899999391\n"
     ]
    }
   ],
   "source": [
    "# testing timeit()\n",
    "import timeit\n",
    "import_module = '''\n",
    "import numpy as np\n",
    "from sklearn.model_selection import train_test_split\n",
    "'''\n",
    "testcode = ''' \n",
    "def time_test():\n",
    "\n",
    "'''\n",
    "print(np.sum(timeit.repeat(stmt=testcode, setup=import_module, repeat = 50)))"
   ]
  },
  {
   "cell_type": "code",
   "execution_count": 46,
   "metadata": {},
   "outputs": [
    {
     "name": "stdout",
     "output_type": "stream",
     "text": [
      "6.8403421999998955\n"
     ]
    }
   ],
   "source": [
    "# testing timeit()\n",
    "import timeit\n",
    "import_module = '''\n",
    "import numpy as np\n",
    "from sklearn.model_selection import train_test_split\n",
    "'''\n",
    "testcode = ''' \n",
    "def time_test():\n",
    "    x_train, x_test, y_train, y_test, treat_train, treat_test = dgp6(1000, 0.01)\n",
    "    tau = np.where(((x_test[:,0] >= 0) & (x_test[:,1] >= 0)),2, np.where(((x_test[:,0] >= 0) & (x_test[:,1] < 0)),1, np.where(((x_test[:,0] < 0) & (x_test[:,1] >= 0)),-1,-2)))\n",
    "    return tau\n",
    "'''\n",
    "print(np.sum(timeit.repeat(stmt=testcode, setup=import_module, repeat = 50)))"
   ]
  },
  {
   "cell_type": "code",
   "execution_count": 30,
   "metadata": {},
   "outputs": [],
   "source": [
    "x_train, x_test, y_train, y_test, treat_train, treat_test = dgp4(1000, 0.01)\n",
    "x1 = x_test[:,0]\n",
    "x2 = x_test[:,1]\n",
    "tau1 = np.where(((x1 >= 0) & (x2 >= 0)),2, np.where(((x1 >= 0) & (x2 < 0)),1, np.where(((x1 < 0) & (x2 >= 0)),-1,-2)))"
   ]
  },
  {
   "cell_type": "code",
   "execution_count": 31,
   "metadata": {},
   "outputs": [
    {
     "data": {
      "text/plain": [
       "-1.0386388239201325"
      ]
     },
     "execution_count": 31,
     "metadata": {},
     "output_type": "execute_result"
    }
   ],
   "source": [
    "x1 = x_test[:,0]\n",
    "x2 = x_test[:,1]\n",
    "\n",
    "np.mean(y_test[np.where((x_test[:,0] >= 0) & (x_test[:,1] >= 0) & (treat_test[:,0] == 1))]) - np.mean(y_test[np.where((x_test[:,0] >= 0) & (x_test[:,1] >= 0) & (treat_test[:,0] == 0))])\n",
    "np.mean(y_test[np.where((x_test[:,0] >= 0) & (x_test[:,1] < 0) & (treat_test[:,0] == 1))]) - np.mean(y_test[np.where((x_test[:,0] >= 0) & (x_test[:,1] < 0) & (treat_test[:,0] == 0))])\n",
    "np.mean(y_test[np.where((x_test[:,0] < 0) & (x_test[:,1] >= 0) & (treat_test[:,0] == 1))]) - np.mean(y_test[np.where((x_test[:,0] < 0) & (x_test[:,1] >= 0) & (treat_test[:,0] == 0))])\n",
    "np.mean(y_test[np.where((x_test[:,0] < 0) & (x_test[:,1] < 0) & (treat_test[:,0] == 1))]) - np.mean(y_test[np.where((x_test[:,0] < 0) & (x_test[:,1] < 0) & (treat_test[:,0] == 0))])"
   ]
  },
  {
   "cell_type": "code",
   "execution_count": 133,
   "metadata": {},
   "outputs": [],
   "source": [
    "A = np.array([[2],[1],[-1],[-2]])"
   ]
  },
  {
   "cell_type": "code",
   "execution_count": 134,
   "metadata": {},
   "outputs": [],
   "source": []
  },
  {
   "cell_type": "code",
   "execution_count": 135,
   "metadata": {},
   "outputs": [
    {
     "data": {
      "text/plain": [
       "array([[ 2.02733005],\n",
       "       [ 0.97270765],\n",
       "       [-1.05386175],\n",
       "       [-2.06301024]])"
      ]
     },
     "execution_count": 135,
     "metadata": {},
     "output_type": "execute_result"
    }
   ],
   "source": [
    "a"
   ]
  },
  {
   "cell_type": "code",
   "execution_count": 143,
   "metadata": {},
   "outputs": [],
   "source": []
  },
  {
   "cell_type": "code",
   "execution_count": 145,
   "metadata": {},
   "outputs": [
    {
     "data": {
      "text/plain": [
       "array([[ 2.        ,  1.        , -1.        , -2.        ],\n",
       "       [ 2.02733005,  0.97270765, -1.05386175, -2.06301024],\n",
       "       [ 2.02733005,  0.97270765, -1.05386175, -2.06301024],\n",
       "       [ 2.02733005,  0.97270765, -1.05386175, -2.06301024],\n",
       "       [ 2.02733005,  0.97270765, -1.05386175, -2.06301024]])"
      ]
     },
     "execution_count": 145,
     "metadata": {},
     "output_type": "execute_result"
    }
   ],
   "source": [
    "A.transpose()"
   ]
  },
  {
   "cell_type": "code",
   "execution_count": 125,
   "metadata": {},
   "outputs": [
    {
     "data": {
      "text/plain": [
       "array([[ 2,  1, -1, -2],\n",
       "       [ 2,  1, -1, -2]])"
      ]
     },
     "execution_count": 125,
     "metadata": {},
     "output_type": "execute_result"
    }
   ],
   "source": [
    "A.transpose()"
   ]
  },
  {
   "cell_type": "code",
   "execution_count": 123,
   "metadata": {},
   "outputs": [
    {
     "data": {
      "text/plain": [
       "array([[ 2,  2],\n",
       "       [ 1,  1],\n",
       "       [-1, -1],\n",
       "       [-2, -2]])"
      ]
     },
     "execution_count": 123,
     "metadata": {},
     "output_type": "execute_result"
    }
   ],
   "source": [
    "A"
   ]
  },
  {
   "cell_type": "code",
   "execution_count": 159,
   "metadata": {},
   "outputs": [],
   "source": [
    "mse = []"
   ]
  },
  {
   "cell_type": "code",
   "execution_count": 163,
   "metadata": {},
   "outputs": [],
   "source": [
    "mse = "
   ]
  },
  {
   "cell_type": "code",
   "execution_count": 165,
   "metadata": {},
   "outputs": [
    {
     "data": {
      "text/plain": [
       "array([1., 1.])"
      ]
     },
     "execution_count": 165,
     "metadata": {},
     "output_type": "execute_result"
    }
   ],
   "source": [
    "mse"
   ]
  },
  {
   "cell_type": "code",
   "execution_count": 11,
   "metadata": {},
   "outputs": [],
   "source": [
    "n = 100000\n",
    "var_e = 0.01\n",
    "np.random.seed()\n",
    "#treatment (randomly assigned)\n",
    "d = np.random.choice([0, 1], size=(n,1), p=[1./2, 1./2])\n",
    "#covariates (relevate to T.E.)\n",
    "x1 = np.random.normal(loc = 0.0, scale = 1.0, size = (n,1))\n",
    "x2 = np.random.normal(loc = 0.0, scale = 1.0, size = (n,1))\n",
    "x3 = np.random.normal(loc = 0.0, scale = 1.0, size = (n,1))\n",
    "\n",
    "#covariates (relevant to outcome)\n",
    "x4 = np.random.normal(loc = 0.0, scale = 1.0, size = (n,1))\n",
    "x5 = np.random.normal(loc = 0.0, scale = 1.0, size = (n,1))\n",
    "#covariates (irrelevant)\n",
    "x6 = np.random.normal(loc = 0.0, scale = 1.0, size = (n,1))\n",
    "#error term\n",
    "e = np.random.normal(loc = 0.0, scale = var_e, size = (n,1))\n",
    "\n",
    "#indicator functions\n",
    "ind1 = np.zeros((n,1))\n",
    "ind2 = np.zeros((n,1))\n",
    "ind3 = np.zeros((n,1))\n",
    "ind1[np.where(x1 >= 0)] = 1\n",
    "ind2[np.where(x2 >= 0)] = 1\n",
    "ind3[np.where(x3 >= 0)] = 1\n",
    "\n",
    "y = np.add(np.add(np.add(np.add(d*-5, np.multiply(np.add(np.add(6*ind1, 2.5*ind2),1.5*ind3),d)),x4),x5),e)\n",
    "X = np.concatenate((x1,x2,x3,x4,x5,x6), axis=1)\n",
    "\n",
    "x_train, x_test, y_train, y_test, treat_train, treat_test = train_test_split(X, y, d, test_size=0.5)\n",
    "\n",
    "x1 = x_test[:,0]\n",
    "x2 = x_test[:,1]\n",
    "x3 = x_test[:,2]"
   ]
  },
  {
   "cell_type": "code",
   "execution_count": 13,
   "metadata": {},
   "outputs": [
    {
     "name": "stdout",
     "output_type": "stream",
     "text": [
      "4.943496378228631\n",
      "-1.0149439906095452\n",
      "2.453220359341573\n",
      "-3.4798282342214333\n",
      "3.4819902973658063\n",
      "-2.5079249348333135\n",
      "0.9835758507480338\n",
      "-5.000758556533223\n"
     ]
    }
   ],
   "source": [
    "print(np.mean(y_test[np.where((x_test[:,0] >= 0) & (x_test[:,1] >= 0) & (x_test[:,2] >= 0) &(treat_test[:,0] == 1))]) - np.mean(y_test[np.where((x_test[:,0] >= 0) & (x_test[:,1] >= 0) & (x_test[:,2] >= 0) & (treat_test[:,0] == 0))]))\n",
    "print(np.mean(y_test[np.where((x_test[:,0] < 0) & (x_test[:,1] >= 0) & (x_test[:,2] >= 0) &(treat_test[:,0] == 1))]) - np.mean(y_test[np.where((x_test[:,0] < 0) & (x_test[:,1] >= 0) & (x_test[:,2] >= 0) & (treat_test[:,0] == 0))]))\n",
    "print(np.mean(y_test[np.where((x_test[:,0] >= 0) & (x_test[:,1] < 0) & (x_test[:,2] >= 0) &(treat_test[:,0] == 1))]) - np.mean(y_test[np.where((x_test[:,0] >= 0) & (x_test[:,1] < 0) & (x_test[:,2] >= 0) & (treat_test[:,0] == 0))]))\n",
    "print(np.mean(y_test[np.where((x_test[:,0] < 0) & (x_test[:,1] < 0) & (x_test[:,2] >= 0) &(treat_test[:,0] == 1))]) - np.mean(y_test[np.where((x_test[:,0] < 0) & (x_test[:,1] < 0) & (x_test[:,2] >= 0) & (treat_test[:,0] == 0))]))\n",
    "\n",
    "print(np.mean(y_test[np.where((x_test[:,0] >= 0) & (x_test[:,1] >= 0) & (x_test[:,2] < 0) &(treat_test[:,0] == 1))]) - np.mean(y_test[np.where((x_test[:,0] >= 0) & (x_test[:,1] >= 0) & (x_test[:,2] < 0) & (treat_test[:,0] == 0))]))\n",
    "print(np.mean(y_test[np.where((x_test[:,0] < 0) & (x_test[:,1] >= 0) & (x_test[:,2] < 0) &(treat_test[:,0] == 1))]) - np.mean(y_test[np.where((x_test[:,0] < 0) & (x_test[:,1] >= 0) & (x_test[:,2] < 0) & (treat_test[:,0] == 0))]))\n",
    "print(np.mean(y_test[np.where((x_test[:,0] >= 0) & (x_test[:,1] < 0) & (x_test[:,2] < 0) &(treat_test[:,0] == 1))]) - np.mean(y_test[np.where((x_test[:,0] >= 0) & (x_test[:,1] < 0) & (x_test[:,2] < 0) & (treat_test[:,0] == 0))]))\n",
    "print(np.mean(y_test[np.where((x_test[:,0] < 0) & (x_test[:,1] < 0) & (x_test[:,2] < 0) &(treat_test[:,0] == 1))]) - np.mean(y_test[np.where((x_test[:,0] < 0) & (x_test[:,1] < 0) & (x_test[:,2] < 0) & (treat_test[:,0] == 0))]))\n"
   ]
  },
  {
   "cell_type": "code",
   "execution_count": null,
   "metadata": {},
   "outputs": [],
   "source": []
  },
  {
   "cell_type": "code",
   "execution_count": null,
   "metadata": {},
   "outputs": [],
   "source": []
  }
 ],
 "metadata": {
  "kernelspec": {
   "display_name": "Python 3",
   "language": "python",
   "name": "python3"
  },
  "language_info": {
   "codemirror_mode": {
    "name": "ipython",
    "version": 3
   },
   "file_extension": ".py",
   "mimetype": "text/x-python",
   "name": "python",
   "nbconvert_exporter": "python",
   "pygments_lexer": "ipython3",
   "version": "3.8.3"
  }
 },
 "nbformat": 4,
 "nbformat_minor": 4
}
