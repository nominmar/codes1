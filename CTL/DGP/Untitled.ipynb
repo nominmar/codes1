{
 "cells": [
  {
   "cell_type": "code",
   "execution_count": 21,
   "metadata": {},
   "outputs": [],
   "source": [
    "import pandas as pd\n",
    "import numpy as np\n",
    "from sklearn.model_selection import train_test_split\n",
    "\n",
    "def dgp6(n, var_e):\n",
    "    np.random.seed()\n",
    "    #treatment (randomly assigned)\n",
    "    d = np.random.choice([0, 1], size=(n,1), p=[1./2, 1./2])\n",
    "    #covariates (relevate to T.E.)\n",
    "    x1 = np.random.normal(loc = 0.0, scale = 1.0, size = (n,1))\n",
    "    x2 = np.random.normal(loc = 0.0, scale = 1.0, size = (n,1))\n",
    "    #covariates (relevant to outcome)\n",
    "    x3 = np.random.normal(loc = 0.0, scale = 1.0, size = (n,1))\n",
    "    x4 = np.random.normal(loc = 0.0, scale = 1.0, size = (n,1))\n",
    "    x5 = np.random.normal(loc = 0.0, scale = 1.0, size = (n,1))\n",
    "    #covariates (irrelevant)\n",
    "    x6 = np.random.normal(loc = 0.0, scale = 1.0, size = (n,1))\n",
    "    #error term\n",
    "    e = np.random.normal(loc = 0.0, scale = var_e, size = (n,1))\n",
    "\n",
    "    #indicator functions\n",
    "    ind1 = np.zeros((n,1))\n",
    "    ind2 = np.zeros((n,1))\n",
    "    ind1[np.where(x1 >= 0)] = 1\n",
    "    ind2[np.where(x2 >= 0)] = 1\n",
    "\n",
    "    y = np.add(np.add(np.add(np.add(np.add(d*-2, np.multiply(np.add(3*ind1, ind2),d)),x3),x4),x5),e)\n",
    "    X = np.concatenate((x1,x2,x3,x4,x5,x6), axis=1)\n",
    "    \n",
    "    x_train, x_test, y_train, y_test, treat_train, treat_test = train_test_split(X, y, d, test_size=0.5)\n",
    "    \n",
    "    return x_train, x_test, y_train, y_test, treat_train, treat_test\n",
    "\n",
    "#x1 = x_test[:,0].reshape(-1,1)\n",
    "#x2 = x_test[:,1].reshape(-1,1)\n",
    "#d = treat_test[:,0].reshape(-1,1)\n",
    "#y = y_test[:,0].reshape(-1,1)\n",
    "#print(np.mean(y[np.where((x1 >= 0) & (x2 >= 0) & (d == 1))]) - np.mean(y[np.where((x1 >= 0) & (x2 >= 0) & (d == 0))]))\n",
    "#print(np.mean(y[np.where((x1 >= 0) & (x2 < 0) & (d == 1))]) - np.mean(y[np.where((x1 >= 0) & (x2 < 0) & (d == 0))]))\n",
    "#print(np.mean(y[np.where((x1 < 0) & (x2 >= 0) & (d == 1))]) - np.mean(y[np.where((x1 < 0) & (x2 >= 0) & (d == 0))]))\n",
    "#print(np.mean(y[np.where((x1 < 0) & (x2 < 0) & (d == 1))]) - np.mean(y[np.where((x1 < 0) & (x2 < 0) & (d == 0))]))\n"
   ]
  },
  {
   "cell_type": "code",
   "execution_count": 17,
   "metadata": {},
   "outputs": [
    {
     "name": "stdout",
     "output_type": "stream",
     "text": [
      "[[ 0.46332844 -1.36783726  0.        ]\n",
      " [-0.21607341  0.79185884  0.        ]\n",
      " [-1.22357725 -0.97204274  0.        ]\n",
      " [ 1.4936243   1.0141495   1.        ]\n",
      " [ 1.46260535 -1.03430137  0.        ]\n",
      " [ 0.77616715  1.7193302   0.        ]\n",
      " [ 0.21870103 -1.50882005  0.        ]\n",
      " [-0.9255642  -0.34004695  1.        ]\n",
      " [ 0.48380098  1.06320025  1.        ]\n",
      " [-0.82511028 -2.07769699  1.        ]]\n"
     ]
    }
   ],
   "source": [
    "print(np.concatenate((x1,x2,d), axis =1))"
   ]
  },
  {
   "cell_type": "code",
   "execution_count": 20,
   "metadata": {},
   "outputs": [
    {
     "data": {
      "text/plain": [
       "array([[ 1],\n",
       "       [-1],\n",
       "       [-2],\n",
       "       [ 2],\n",
       "       [ 1],\n",
       "       [ 2],\n",
       "       [ 1],\n",
       "       [-2],\n",
       "       [ 2],\n",
       "       [-2]])"
      ]
     },
     "execution_count": 20,
     "metadata": {},
     "output_type": "execute_result"
    }
   ],
   "source": [
    "\n",
    "#print(np.mean(y[np.where((x1 >= 0) & (x2 >= 0) & (d == 1))]) - np.mean(y[np.where((x1 >= 0) & (x2 >= 0) & (d == 0))]))\n",
    "#print(np.mean(y[np.where((x1 >= 0) & (x2 < 0) & (d == 1))]) - np.mean(y[np.where((x1 >= 0) & (x2 < 0) & (d == 0))]))\n",
    "#print(np.mean(y[np.where((x1 < 0) & (x2 >= 0) & (d == 1))]) - np.mean(y[np.where((x1 < 0) & (x2 >= 0) & (d == 0))]))\n",
    "#print(np.mean(y[np.where((x1 < 0) & (x2 < 0) & (d == 1))]) - np.mean(y[np.where((x1 < 0) & (x2 < 0) & (d == 0))]))\n"
   ]
  },
  {
   "cell_type": "code",
   "execution_count": 26,
   "metadata": {},
   "outputs": [],
   "source": [
    "import timeit\n"
   ]
  },
  {
   "cell_type": "code",
   "execution_count": 25,
   "metadata": {},
   "outputs": [],
   "source": [
    "\n",
    "\n",
    "%timeit()\n"
   ]
  },
  {
   "cell_type": "code",
   "execution_count": 23,
   "metadata": {},
   "outputs": [
    {
     "data": {
      "text/plain": [
       "array([-1,  2, -1, -2, -1,  1,  1,  1, -2,  2, -2, -1,  1,  1, -1, -2,  1,\n",
       "       -1, -1,  2, -2, -1,  1,  2,  1,  1,  1,  1,  1,  2,  2,  1, -2, -1,\n",
       "        1, -2, -2, -1, -2, -1,  2,  2, -2, -1, -1,  2, -2, -2,  2, -2])"
      ]
     },
     "execution_count": 23,
     "metadata": {},
     "output_type": "execute_result"
    }
   ],
   "source": [
    "tau"
   ]
  },
  {
   "cell_type": "code",
   "execution_count": 45,
   "metadata": {},
   "outputs": [
    {
     "name": "stdout",
     "output_type": "stream",
     "text": [
      "7.406819899999391\n"
     ]
    }
   ],
   "source": [
    "# testing timeit()\n",
    "import timeit\n",
    "import_module = '''\n",
    "import numpy as np\n",
    "from sklearn.model_selection import train_test_split\n",
    "'''\n",
    "testcode = ''' \n",
    "def time_test():\n",
    "\n",
    "'''\n",
    "print(np.sum(timeit.repeat(stmt=testcode, setup=import_module, repeat = 50)))"
   ]
  },
  {
   "cell_type": "code",
   "execution_count": 46,
   "metadata": {},
   "outputs": [
    {
     "name": "stdout",
     "output_type": "stream",
     "text": [
      "6.8403421999998955\n"
     ]
    }
   ],
   "source": [
    "# testing timeit()\n",
    "import timeit\n",
    "import_module = '''\n",
    "import numpy as np\n",
    "from sklearn.model_selection import train_test_split\n",
    "'''\n",
    "testcode = ''' \n",
    "def time_test():\n",
    "    x_train, x_test, y_train, y_test, treat_train, treat_test = dgp6(1000, 0.01)\n",
    "    tau = np.where(((x_test[:,0] >= 0) & (x_test[:,1] >= 0)),2, np.where(((x_test[:,0] >= 0) & (x_test[:,1] < 0)),1, np.where(((x_test[:,0] < 0) & (x_test[:,1] >= 0)),-1,-2)))\n",
    "    return tau\n",
    "'''\n",
    "print(np.sum(timeit.repeat(stmt=testcode, setup=import_module, repeat = 50)))"
   ]
  },
  {
   "cell_type": "code",
   "execution_count": 75,
   "metadata": {},
   "outputs": [],
   "source": [
    "x_train, x_test, y_train, y_test, treat_train, treat_test = dgp6(50000, 0.01)\n",
    "x1 = x_test[:,0]\n",
    "x2 = x_test[:,1]\n",
    "tau1 = np.where(((x1 >= 0) & (x2 >= 0)),2, np.where(((x1 >= 0) & (x2 < 0)),1, np.where(((x1 < 0) & (x2 >= 0)),-1,-2)))"
   ]
  },
  {
   "cell_type": "code",
   "execution_count": 76,
   "metadata": {},
   "outputs": [
    {
     "data": {
      "text/plain": [
       "2.027330047183362"
      ]
     },
     "execution_count": 76,
     "metadata": {},
     "output_type": "execute_result"
    }
   ],
   "source": [
    "np.mean(y_test[np.where((x_test[:,0] >= 0) & (x_test[:,1] >= 0) & (treat_test[:,0] == 1))]) - np.mean(y_test[np.where((x_test[:,0] >= 0) & (x_test[:,1] >= 0) & (treat_test[:,0] == 0))])\n",
    "np.mean(y_test[np.where((x_test[:,0] >= 0) & (x_test[:,1] < 0) & (treat_test[:,0] == 1))]) - np.mean(y_test[np.where((x_test[:,0] >= 0) & (x_test[:,1] < 0) & (treat_test[:,0] == 0))])\n",
    "np.mean(y_test[np.where((x_test[:,0] < 0) & (x_test[:,1] >= 0) & (treat_test[:,0] == 1))]) - np.mean(y_test[np.where((x_test[:,0] < 0) & (x_test[:,1] >= 0) & (treat_test[:,0] == 0))])\n",
    "np.mean(y_test[np.where((x_test[:,0] < 0) & (x_test[:,1] < 0) & (treat_test[:,0] == 1))]) - np.mean(y_test[np.where((x_test[:,0] < 0) & (x_test[:,1] < 0) & (treat_test[:,0] == 0))])"
   ]
  },
  {
   "cell_type": "code",
   "execution_count": 133,
   "metadata": {},
   "outputs": [],
   "source": [
    "A = np.array([[2],[1],[-1],[-2]])"
   ]
  },
  {
   "cell_type": "code",
   "execution_count": 134,
   "metadata": {},
   "outputs": [],
   "source": []
  },
  {
   "cell_type": "code",
   "execution_count": 135,
   "metadata": {},
   "outputs": [
    {
     "data": {
      "text/plain": [
       "array([[ 2.02733005],\n",
       "       [ 0.97270765],\n",
       "       [-1.05386175],\n",
       "       [-2.06301024]])"
      ]
     },
     "execution_count": 135,
     "metadata": {},
     "output_type": "execute_result"
    }
   ],
   "source": [
    "a"
   ]
  },
  {
   "cell_type": "code",
   "execution_count": 143,
   "metadata": {},
   "outputs": [],
   "source": []
  },
  {
   "cell_type": "code",
   "execution_count": 145,
   "metadata": {},
   "outputs": [
    {
     "data": {
      "text/plain": [
       "array([[ 2.        ,  1.        , -1.        , -2.        ],\n",
       "       [ 2.02733005,  0.97270765, -1.05386175, -2.06301024],\n",
       "       [ 2.02733005,  0.97270765, -1.05386175, -2.06301024],\n",
       "       [ 2.02733005,  0.97270765, -1.05386175, -2.06301024],\n",
       "       [ 2.02733005,  0.97270765, -1.05386175, -2.06301024]])"
      ]
     },
     "execution_count": 145,
     "metadata": {},
     "output_type": "execute_result"
    }
   ],
   "source": [
    "A.transpose()"
   ]
  },
  {
   "cell_type": "code",
   "execution_count": 125,
   "metadata": {},
   "outputs": [
    {
     "data": {
      "text/plain": [
       "array([[ 2,  1, -1, -2],\n",
       "       [ 2,  1, -1, -2]])"
      ]
     },
     "execution_count": 125,
     "metadata": {},
     "output_type": "execute_result"
    }
   ],
   "source": [
    "A.transpose()"
   ]
  },
  {
   "cell_type": "code",
   "execution_count": 123,
   "metadata": {},
   "outputs": [
    {
     "data": {
      "text/plain": [
       "array([[ 2,  2],\n",
       "       [ 1,  1],\n",
       "       [-1, -1],\n",
       "       [-2, -2]])"
      ]
     },
     "execution_count": 123,
     "metadata": {},
     "output_type": "execute_result"
    }
   ],
   "source": [
    "A"
   ]
  },
  {
   "cell_type": "code",
   "execution_count": 159,
   "metadata": {},
   "outputs": [],
   "source": [
    "mse = []"
   ]
  },
  {
   "cell_type": "code",
   "execution_count": 163,
   "metadata": {},
   "outputs": [],
   "source": [
    "mse = "
   ]
  },
  {
   "cell_type": "code",
   "execution_count": 165,
   "metadata": {},
   "outputs": [
    {
     "data": {
      "text/plain": [
       "array([1., 1.])"
      ]
     },
     "execution_count": 165,
     "metadata": {},
     "output_type": "execute_result"
    }
   ],
   "source": [
    "mse"
   ]
  },
  {
   "cell_type": "code",
   "execution_count": null,
   "metadata": {},
   "outputs": [],
   "source": []
  }
 ],
 "metadata": {
  "kernelspec": {
   "display_name": "Python 3",
   "language": "python",
   "name": "python3"
  },
  "language_info": {
   "codemirror_mode": {
    "name": "ipython",
    "version": 3
   },
   "file_extension": ".py",
   "mimetype": "text/x-python",
   "name": "python",
   "nbconvert_exporter": "python",
   "pygments_lexer": "ipython3",
   "version": "3.8.3"
  }
 },
 "nbformat": 4,
 "nbformat_minor": 4
}
