{
 "cells": [
  {
   "cell_type": "markdown",
   "metadata": {},
   "source": [
    "### DGP1:\n",
    "$$\n",
    "y = -2D + 3D\\cdot \\mathbf{1}(x_1>0) + D\\cdot \\mathbf{1} (x_2>0) + x_3 + x_4 + x_5 + e\n",
    "$$"
   ]
  },
  {
   "cell_type": "markdown",
   "metadata": {},
   "source": [
    " $$ATE =\n",
    "\\begin{vmatrix} \n",
    "& x_2 >0 & x_2<0 \\\\\n",
    "x_1>0 & 2 & 1\\\\\n",
    "x_1<0 & -1 & -2\n",
    "\\end{vmatrix}\n",
    "$$"
   ]
  },
  {
   "cell_type": "markdown",
   "metadata": {},
   "source": [
    "### DGP2:\n",
    "$$\n",
    "y = -5D + 6D\\cdot \\mathbf{1}(x_1>0) + 2.5D\\cdot \\mathbf{1} (x_2>0) + 1.5D\\cdot \\mathbf{1} (x_3>0) + x_4 + x_5 + e\n",
    "$$"
   ]
  },
  {
   "cell_type": "markdown",
   "metadata": {},
   "source": [
    "$$\n",
    "\\: \\: \\:\\: \\: \\: \\:\\: \\:\\: \\: \\:x_3 > 0    \\: \\: \\:  \\: \\: \\: \\:\\: \\: \\:\\:\\: \\:\\:\\: \\: \\: \\:\\:\\: \\: \\: \\: \\: \\:\\:\\: \\:\\: \\: \\: \\:\\:\\:\\: \\: \\: \\: \\:\\:\\: \\: \\:\\:              x_3 < 0\\\\\n",
    "$$\n",
    "$$ATE =\n",
    "\\begin{vmatrix} \n",
    "& x_2 >0 & x_2<0 \\\\\n",
    "x_1>0 & 5 & 2.5\\\\\n",
    "x_1<0 & -1 & -3.5\n",
    "\\end{vmatrix} \\: \\: \\: \\:\\:\\: \\: \\: \\:\\:\n",
    "\\begin{vmatrix} \n",
    "& x_2 >0 & x_2<0 \\\\\n",
    "x_1>0 & 3.5 & 1\\\\\n",
    "x_1<0 & -2.5 & -5\n",
    "\\end{vmatrix}\n",
    "$$"
   ]
  },
  {
   "cell_type": "markdown",
   "metadata": {},
   "source": [
    "#### Notes:\n",
    "* without treatment, the expected outcome is constant 0\n"
   ]
  },
  {
   "cell_type": "code",
   "execution_count": 2,
   "metadata": {
    "jupyter": {
     "source_hidden": true
    }
   },
   "outputs": [],
   "source": [
    "import pandas as pd\n",
    "import numpy as np\n",
    "from sklearn.model_selection import train_test_split\n",
    "\n",
    "def dgp6(n, var_e):\n",
    "    np.random.seed()\n",
    "    #treatment (randomly assigned)\n",
    "    d = np.random.choice([0, 1], size=(n,1), p=[1./2, 1./2])\n",
    "    #covariates (relevate to T.E.)\n",
    "    x1 = np.random.normal(loc = 0.0, scale = 1.0, size = (n,1))\n",
    "    x2 = np.random.normal(loc = 0.0, scale = 1.0, size = (n,1))\n",
    "    #covariates (relevant to outcome)\n",
    "    x3 = np.random.normal(loc = 0.0, scale = 1.0, size = (n,1))\n",
    "    x4 = np.random.normal(loc = 0.0, scale = 1.0, size = (n,1))\n",
    "    x5 = np.random.normal(loc = 0.0, scale = 1.0, size = (n,1))\n",
    "    #covariates (irrelevant)\n",
    "    x6 = np.random.normal(loc = 0.0, scale = 1.0, size = (n,1))\n",
    "    #error term\n",
    "    e = np.random.normal(loc = 0.0, scale = var_e, size = (n,1))\n",
    "\n",
    "    #indicator functions\n",
    "    ind1 = np.zeros((n,1))\n",
    "    ind2 = np.zeros((n,1))\n",
    "    ind1[np.where(x1 >= 0)] = 1\n",
    "    ind2[np.where(x2 >= 0)] = 1\n",
    "\n",
    "    y = np.add(np.add(np.add(np.add(np.add(d*-2, np.multiply(np.add(3*ind1, ind2),d)),x3),x4),x5),e)\n",
    "    X = np.concatenate((x1,x2,x3,x4,x5,x6), axis=1)\n",
    "    \n",
    "    x_train, x_test, y_train, y_test, treat_train, treat_test = train_test_split(X, y, d, test_size=0.5)\n",
    "    \n",
    "    return x_train, x_test, y_train, y_test, treat_train, treat_test"
   ]
  },
  {
   "cell_type": "code",
   "execution_count": 4,
   "metadata": {},
   "outputs": [
    {
     "name": "stdout",
     "output_type": "stream",
     "text": [
      "1.9453590827009057\n",
      "1.1269652921623765\n",
      "-1.0970205948655147\n",
      "-2.1131022714166128\n"
     ]
    }
   ],
   "source": [
    "x_train, x_test, y_train, y_test, treat_train, treat_test = dgp6(10000, 0.01)\n",
    "\n",
    "x1 = x_test[:,0].reshape(-1,1)\n",
    "x2 = x_test[:,1].reshape(-1,1)\n",
    "d = treat_test[:,0].reshape(-1,1)\n",
    "y = y_test[:,0].reshape(-1,1)\n",
    "print(np.mean(y[np.where((x1 >= 0) & (x2 >= 0) & (d == 1))]) - np.mean(y[np.where((x1 >= 0) & (x2 >= 0) & (d == 0))]))\n",
    "print(np.mean(y[np.where((x1 >= 0) & (x2 < 0) & (d == 1))]) - np.mean(y[np.where((x1 >= 0) & (x2 < 0) & (d == 0))]))\n",
    "print(np.mean(y[np.where((x1 < 0) & (x2 >= 0) & (d == 1))]) - np.mean(y[np.where((x1 < 0) & (x2 >= 0) & (d == 0))]))\n",
    "print(np.mean(y[np.where((x1 < 0) & (x2 < 0) & (d == 1))]) - np.mean(y[np.where((x1 < 0) & (x2 < 0) & (d == 0))]))"
   ]
  },
  {
   "cell_type": "markdown",
   "metadata": {},
   "source": [
    "### VAR(e) = [0.01, 1.0, 1.5]"
   ]
  },
  {
   "cell_type": "code",
   "execution_count": 12,
   "metadata": {},
   "outputs": [],
   "source": [
    "import pickle as pkl\n",
    "import matplotlib.pyplot as plt\n",
    "import seaborn as sns"
   ]
  },
  {
   "cell_type": "code",
   "execution_count": 9,
   "metadata": {},
   "outputs": [],
   "source": [
    "with open('te4_r2.pkl', 'rb') as f:\n",
    "    df1 = pkl.load(f)\n",
    "with open('te4_r3.pkl', 'rb') as f:\n",
    "    df2 = pkl.load(f)"
   ]
  },
  {
   "cell_type": "code",
   "execution_count": 14,
   "metadata": {},
   "outputs": [
    {
     "name": "stdout",
     "output_type": "stream",
     "text": [
      "TE4, n = 1000, reps = 700, eps = 0.01, test_sizes = [0.2, 0.3, 0.4, 0.5, 0.6, 0.7, 0.8, 0.9]\n",
      "TE4, n = 1000, reps = 700, eps = 1.0, test_sizes = [0.2, 0.3, 0.4, 0.5, 0.6, 0.7, 0.8, 0.9]\n"
     ]
    }
   ],
   "source": [
    "print(df1[0])\n",
    "a1 = df1[1]\n",
    "print(df2[0])\n",
    "a2 = df2[1]\n",
    "test_sizes = [0.2, 0.3, 0.4, 0.5, 0.6, 0.7, 0.8, 0.9]"
   ]
  },
  {
   "cell_type": "code",
   "execution_count": 13,
   "metadata": {},
   "outputs": [
    {
     "data": {
      "text/plain": [
       "array([1.58530482, 1.55195698, 1.54550176, 1.45326343, 1.47000683,\n",
       "       1.39423171, 1.27760954, 0.90458242])"
      ]
     },
     "execution_count": 13,
     "metadata": {},
     "output_type": "execute_result"
    }
   ],
   "source": [
    "a1[0]"
   ]
  },
  {
   "cell_type": "code",
   "execution_count": null,
   "metadata": {},
   "outputs": [],
   "source": [
    "fig, axes = plt.subplots(1,4, figsize=(18, 5))\n",
    "fig.suptitle('Results: MSE (ATE)')\n",
    "\n",
    "\n",
    "#sns.lineplot(ax=axes[0], x=test_sizes, y=df9['MSE1'],  marker='X', dashes = True, color = 'Orange')\n",
    "for i in range(4):\n",
    "    sns.lineplot(ax=axes[i], x=test_sizes, y=a1[i],  marker='X', dashes = True, color = 'Blue')\n",
    "    sns.lineplot(ax=axes[i], x=test_sizes, y=a1[i],  marker='X', dashes = True, color = 'Orange')\n",
    "\n",
    "#sns.lineplot(ax=axes[1], x=test_sizes, y=df9b['MSE1'],  marker='X', dashes = True, color = 'Orange')\n",
    "#sns.lineplot(ax=axes[1], x=test_sizes, y=df9b['MSE2'],  marker='X', dashes = True, color = 'Blue')\n",
    "axes[0].title.set_text('n = 1000, MC reps = 1000')\n",
    "axes[1].title.set_text('n = 2000, MC reps = 1000')\n",
    "\n",
    "\n",
    "axes[0].legend(['X1 > 0', 'X1 <0'], loc='lower right')\n",
    "axes[1].legend(['X1 > 0', 'X1 <0'], loc='lower right')\n",
    "\n",
    "\n",
    "axes[0].set(xlabel='Estimation Sample Proportion', ylabel='MSE (ATE)')\n",
    "axes[1].set(xlabel='Estimation Sample Proportion', ylabel='MSE (ATE)')\n",
    "\n",
    "fig.savefig(\"mseate.png\")"
   ]
  }
 ],
 "metadata": {
  "kernelspec": {
   "display_name": "Python 3",
   "language": "python",
   "name": "python3"
  },
  "language_info": {
   "codemirror_mode": {
    "name": "ipython",
    "version": 3
   },
   "file_extension": ".py",
   "mimetype": "text/x-python",
   "name": "python",
   "nbconvert_exporter": "python",
   "pygments_lexer": "ipython3",
   "version": "3.8.3"
  }
 },
 "nbformat": 4,
 "nbformat_minor": 4
}
