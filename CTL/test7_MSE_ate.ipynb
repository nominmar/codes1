{
 "cells": [
  {
   "cell_type": "code",
   "execution_count": 1,
   "metadata": {},
   "outputs": [],
   "source": [
    "import pandas as pd\n",
    "from CTL2.causal_tree_learn import CausalTree\n",
    "from DGP.dgp2 import dgp2\n",
    "from DGP.dgp1 import dgp1\n",
    "from DGP.dgp3 import dgp3\n",
    "\n",
    "from MC.mc1 import MC_MSE_1\n",
    "import timeit\n",
    "from sklearn.model_selection import train_test_split\n",
    "import numpy as np\n",
    "import matplotlib.pyplot as plt\n",
    "from CTL.causal_tree_learn import CausalTree as CT2\n",
    "from random import random\n",
    "\n",
    "from sklearn.metrics import mean_squared_error as mse"
   ]
  },
  {
   "cell_type": "code",
   "execution_count": 4,
   "metadata": {},
   "outputs": [],
   "source": [
    "def mcreps_mse_ate(reps, n, nomin_test):    \n",
    "    ATE1 = []\n",
    "    ATE0 = []\n",
    "\n",
    "    for i in range(reps):\n",
    "        x_train, x_test, y_train, y_test, treat_train, treat_test = dgp3(n)\n",
    "        ate1, ate0, ctl_predict = MC_MSE_1(x_train, x_test, y_train, y_test, treat_train, treat_test, nomin_test)\n",
    "        ATE1.append(ate1)\n",
    "        ATE0.append(ate0)\n",
    "    \n",
    "    true = np.ones(reps)\n",
    "    mse1 = mse(np.array(ATE1),true)\n",
    "    mse2 = mse(np.array(ATE0),true*-1)\n",
    "    bias1 = np.sum(np.subtract(ATE1,true))/reps\n",
    "    bias2 = np.sum(np.add(ATE0, true))/reps\n",
    "    var1 = np.var(ATE1)\n",
    "    var2 = np.var(ATE0)\n",
    "    return mse1, mse2, bias1, bias2, var1, var2"
   ]
  }
 ],
 "metadata": {
  "kernelspec": {
   "display_name": "Python 3",
   "language": "python",
   "name": "python3"
  },
  "language_info": {
   "codemirror_mode": {
    "name": "ipython",
    "version": 3
   },
   "file_extension": ".py",
   "mimetype": "text/x-python",
   "name": "python",
   "nbconvert_exporter": "python",
   "pygments_lexer": "ipython3",
   "version": "3.8.3"
  }
 },
 "nbformat": 4,
 "nbformat_minor": 4
}
