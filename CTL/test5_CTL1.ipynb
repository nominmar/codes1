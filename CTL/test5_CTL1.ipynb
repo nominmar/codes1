{
 "cells": [
  {
   "cell_type": "code",
   "execution_count": 1,
   "metadata": {},
   "outputs": [],
   "source": [
    "import pandas as pd\n",
    "from CTL2.causal_tree_learn import CausalTree\n",
    "from DGP.dgp2 import dgp2\n",
    "from DGP.dgp1 import dgp1\n",
    "from sklearn.model_selection import train_test_split\n",
    "import numpy as np\n",
    "import matplotlib.pyplot as plt\n",
    "from CTL.causal_tree_learn import CausalTree as CT2\n",
    "from random import random"
   ]
  },
  {
   "cell_type": "code",
   "execution_count": 2,
   "metadata": {},
   "outputs": [],
   "source": [
    "#!pip install causal_tree_learn"
   ]
  },
  {
   "cell_type": "markdown",
   "metadata": {},
   "source": [
    "#### Data Generation Process:\n",
    "\n",
    "$$\n",
    "y_i = -D + 2*D*1(x>0) + x_2 + e_i\n",
    "$$\n",
    "\n",
    "#### Average treatment effect:\n",
    "$$\n",
    "\\tau(D) = E(y|D=1, X) - E(y|D=0, X) = 0\n",
    "$$\n",
    "#### ATE given x>0:\n",
    "$$\n",
    "\\tau_1 (D, x_1) =  E(y|D=1, x_1 >0, X) - E(y|D=0, x_1 > 0, X)\n",
    "$$\n",
    "$$\n",
    "\\tau_1 (D, x_1) = -1 + 2 - 0\n",
    "$$\n",
    "$$\n",
    "\\tau_1 = 1\n",
    "$$\n",
    "#### ATE given x<0:\n",
    "$$\n",
    "\\tau_2 (D, x_1) =  E(y|D=1, x_1 <0, X) - E(y|D=0, x_1 < 0, X)\n",
    "$$\n",
    "$$\n",
    "\\tau_2 (D, x_1) = -1 + 0 - 0\n",
    "$$\n",
    "\n",
    "$$\n",
    "\\tau_2 = -1\n",
    "$$\n"
   ]
  },
  {
   "cell_type": "markdown",
   "metadata": {},
   "source": [
    "#### Testing treatment effect MC:\n",
    "\n",
    "n = 1000, reps = 100"
   ]
  },
  {
   "cell_type": "code",
   "execution_count": 17,
   "metadata": {},
   "outputs": [
    {
     "name": "stdout",
     "output_type": "stream",
     "text": [
      "_______________\n",
      "ATE when x>0\n",
      "1.0014720383545588\n",
      "_______________\n",
      "ATE when x<0\n",
      "-1.0102644713687627\n",
      "_______________\n",
      "ATE\n",
      "0.0028919157820613325\n"
     ]
    }
   ],
   "source": [
    "n=1000\n",
    "ate = []\n",
    "ate1 = []\n",
    "ate0 = []\n",
    "\n",
    "for i in range(100):\n",
    "    X, y = dgp2(n)\n",
    "    data = pd.DataFrame({'y': y[:,0], 'X1': X[:,0], 'd': X[:,4]}, columns=['y', 'X1', 'd'])\n",
    "    ate1.append(data['y'][(data['X1'] > 0) & (data['d'] == 1)].mean() - data['y'][(data['X1'] > 0) & (data['d'] == 0)].mean())\n",
    "    ate0.append(data['y'][(data['X1'] < 0) & (data['d'] == 1)].mean() - data['y'][(data['X1'] < 0) & (data['d'] == 0)].mean())\n",
    "    ate.append(data['y'][data['d'] == 1].mean() - data['y'][data['d'] == 0].mean())\n",
    "\n",
    "print('_______________')\n",
    "print('ATE when x>0')\n",
    "print(np.mean(ate1))\n",
    "print('_______________')\n",
    "print('ATE when x<0')\n",
    "print(np.mean(ate0))\n",
    "print('_______________')\n",
    "print('ATE')\n",
    "print(np.mean(ate))"
   ]
  },
  {
   "cell_type": "code",
   "execution_count": 2,
   "metadata": {},
   "outputs": [],
   "source": [
    "def MC_trial(n, reps, nomin_test):\n",
    "    ate1_true = []\n",
    "    ate1_test = []\n",
    "    ate1_control = []\n",
    "    ate0_true = []\n",
    "    ate0_test = []\n",
    "    ate0_control = []\n",
    "    \n",
    "    for i in range(reps):\n",
    "        np.random.seed()\n",
    "        #generate new data following dgp2\n",
    "        X, y = dgp2(n) \n",
    "        x = X[:,0:4]\n",
    "        treatment = X[:,4]\n",
    "        y = y[:,0]\n",
    "        #print(np.mean(y))\n",
    "        \n",
    "        \n",
    "        x_train, x_test, y_train, y_test, treat_train, treat_test = train_test_split(x, y, treatment, test_size=0.5)\n",
    "        #print(np.mean(y_train))\n",
    "        \n",
    "        \n",
    "        # honest CT (Athey and Imbens, PNAS 2016)\n",
    "        ctl = CausalTree(honest=True, weight=0.0, split_size=0.0) #which type of tree to call\n",
    "        \n",
    "        #select est size when fitting\n",
    "        ctl.fit(x_train, y_train, treat_train, nomin_test = nomin_test)\n",
    "        ctl.prune()\n",
    "        ctl_predict = ctl.predict(x_test)\n",
    "        \n",
    "         #for control, unmodified CT imported from a published package\n",
    "        cthl = CT2(honest = True, weight=0.0, split_size=0.0)\n",
    "        cthl.fit(x_train, y_train, treat_train)\n",
    "        cthl.prune()\n",
    "        cthl_predict = cthl.predict(x_test)\n",
    "\n",
    "        \n",
    "        #data = pd.DataFrame({'y': y_test, 'X1': x_test[:,0], 'X2': x_test[:,1], 'X3': x_test[:,2], 'X4': x_test[:,3], 'd':treat_test, 'tr1': ctl_predict, 'tr2': cthl_predict})\n",
    "        x1 = x_test[:,0]\n",
    "        ate1_true.append(np.mean(y_test[np.where((x1 > 0) & (treat_test == 1))]) - np.mean(y_test[np.where((x1 > 0) & (treat_test == 0))]))\n",
    "        ate1_test.append(np.mean(ctl_predict[np.where(x1 > 0)]))\n",
    "        ate1_control.append(np.mean(cthl_predict[np.where(x1 > 0)]))\n",
    "        ate0_true.append(np.mean(y_test[np.where((x1 < 0) & (treat_test == 1))]) - np.mean(y_test[np.where((x1 < 0) & (treat_test == 0))]))\n",
    "        ate0_test.append(np.mean(ctl_predict[np.where(x1 < 0)]))\n",
    "        ate0_control.append(np.mean(cthl_predict[np.where(x1 < 0)]))\n",
    "\n",
    "    #print('Test sample size: ' + str(nomin_test))\n",
    "    #print(np.mean(ate1_true))\n",
    "    #print(np.mean(ate1_test))\n",
    "    #print(np.mean(ate1_control))\n",
    "    #print(np.mean(ate0_true))\n",
    "    #print(np.mean(ate0_test))\n",
    "    #print(np.mean(ate0_control))\n",
    "    \n",
    "    #outputs\n",
    "    return ate1_true, ate1_test, ate1_control, ate0_true, ate0_test, ate0_control"
   ]
  },
  {
   "cell_type": "markdown",
   "metadata": {},
   "source": [
    "Check if test with 0.5 equals control"
   ]
  },
  {
   "cell_type": "code",
   "execution_count": 91,
   "metadata": {},
   "outputs": [],
   "source": [
    "reps = 100\n",
    "n = 500\n",
    "nomin_test = 0.5\n",
    "\n",
    "ATE1 = []\n",
    "ATE1_t = []\n",
    "ATE1_c = []\n",
    "ATE0 = []\n",
    "ATE0_t = []\n",
    "ATE0_c = []\n",
    "\n",
    "results = MC_trial(n,reps,nomin_test)"
   ]
  },
  {
   "cell_type": "code",
   "execution_count": 92,
   "metadata": {},
   "outputs": [
    {
     "name": "stdout",
     "output_type": "stream",
     "text": [
      "0.9345892563897928\n",
      "0.6818908757658585\n",
      "0.6818908771289551\n",
      "-1.0276629145453517\n",
      "-0.7156169475093641\n",
      "-0.7156169435692974\n"
     ]
    }
   ],
   "source": [
    "for i in results:\n",
    "    print(np.mean(i))"
   ]
  },
  {
   "cell_type": "markdown",
   "metadata": {},
   "source": [
    "reps = 100, n = 1000"
   ]
  },
  {
   "cell_type": "code",
   "execution_count": 67,
   "metadata": {},
   "outputs": [],
   "source": [
    "reps = 100\n",
    "n = 1000\n",
    "\n",
    "test_sizes = [0.1, 0.25, 0.5, 0.75, 0.8]\n",
    "\n",
    "ATE1 = []\n",
    "ATE1_t = []\n",
    "ATE1_c = []\n",
    "ATE0 = []\n",
    "ATE0_t = []\n",
    "ATE0_c = []\n",
    "\n",
    "ATES = [[],[],[],[],[],[]]\n",
    "\n",
    "\n",
    "#results = MC_trial(n,reps,nomin_test)\n",
    "\n",
    "for size in test_sizes:\n",
    "    nomin_test = size\n",
    "    results = MC_trial(n, reps, nomin_test)\n",
    "    k = 0\n",
    "    for i in ATES:\n",
    "        i.append(np.mean(results[k]))\n",
    "        k = k + 1"
   ]
  },
  {
   "cell_type": "code",
   "execution_count": 76,
   "metadata": {},
   "outputs": [
    {
     "data": {
      "text/plain": [
       "<matplotlib.legend.Legend at 0x271f9ebf1f0>"
      ]
     },
     "execution_count": 76,
     "metadata": {},
     "output_type": "execute_result"
    },
    {
     "data": {
      "image/png": "[encoded data removed]",
      "text/plain": [
       "<Figure size 1296x360 with 2 Axes>"
      ]
     },
     "metadata": {
      "needs_background": "light"
     },
     "output_type": "display_data"
    }
   ],
   "source": [
    "import seaborn as sns\n",
    "\n",
    "fig, axes = plt.subplots(1,2, figsize=(18, 5))\n",
    "fig.suptitle('Results')\n",
    "\n",
    "sns.scatterplot(ax=axes[0], x=test_sizes, y=ATES[0], marker=\"X\")\n",
    "sns.scatterplot(ax=axes[1], x=test_sizes, y=ATES[3], marker=\"X\")\n",
    "\n",
    "for i in range(0,2):\n",
    "    sns.scatterplot(ax=axes[0], x=test_sizes, y=ATES[i+1])\n",
    "    sns.scatterplot(ax=axes[1], x=test_sizes, y=ATES[i+4])\n",
    "    \n",
    "axes[0].legend(['True ATE| X>0', 'Test ATE| X>0', 'Control ATE| X>0'], loc='lower right')\n",
    "axes[1].legend(['True ATE| X<0', 'Test ATE| X<0', 'Control ATE| X<0'], loc='lower right')"
   ]
  },
  {
   "cell_type": "code",
   "execution_count": 19,
   "metadata": {},
   "outputs": [],
   "source": [
    "#MSE\n",
    "#bias = (est ate - 1)/R +\n",
    "#var = variance of ATE/R \n",
    "\n",
    "#how many times the algorithm finds the incorrect split or splits more than once\n",
    "\n",
    "#total MSE\n",
    "\n",
    "# add x5 -> irrelevant\n",
    "# increase variance of epsilon\n",
    "\n",
    "\n",
    "#conditional graphs with MSE's on vertical axis\n",
    "# variance\n",
    "# bias separately\n",
    "    #all the above for x>0, x<0 ==> 6 pictures\n",
    "\n",
    "#Total MSE\n",
    "    #as function of split proportion\n",
    "    #break to bias a variance maybe"
   ]
  },
  {
   "cell_type": "code",
   "execution_count": 86,
   "metadata": {},
   "outputs": [
    {
     "data": {
      "text/plain": [
       "<matplotlib.legend.Legend at 0x271fa3b3820>"
      ]
     },
     "execution_count": 86,
     "metadata": {},
     "output_type": "execute_result"
    },
    {
     "data": {
      "image/png": "[encoded data removed]",
      "text/plain": [
       "<Figure size 1296x360 with 2 Axes>"
      ]
     },
     "metadata": {
      "needs_background": "light"
     },
     "output_type": "display_data"
    }
   ],
   "source": [
    "fig, axes = plt.subplots(1,2, figsize=(18, 5))\n",
    "fig.suptitle('Results')\n",
    "\n",
    "Y1 = abs(np.array(ATES[0]) - np.array(ATES[1]))\n",
    "Y1c = abs(np.array(ATES[0]) - np.array(ATES[2]))\n",
    "Y2 = abs(np.array(ATES[3]) - np.array(ATES[4]))\n",
    "Y2c = abs(np.array(ATES[3]) - np.array(ATES[5]))\n",
    "\n",
    "sns.scatterplot(ax=axes[0], x=test_sizes, y=Y1, marker=\"X\")\n",
    "sns.scatterplot(ax=axes[0], x=test_sizes, y=Y1c)\n",
    "sns.scatterplot(ax=axes[1], x=test_sizes, y=Y2, marker=\"X\")\n",
    "sns.scatterplot(ax=axes[1], x=test_sizes, y=Y2c)\n",
    "\n",
    "\n",
    "axes[0].legend(['True - Test ATE| X>0', 'True - Control ATE| X>0'], loc='lower right')\n",
    "axes[1].legend(['True - Test ATE| X<0', 'True - Control ATE| X<0'], loc='lower right')"
   ]
  },
  {
   "cell_type": "code",
   "execution_count": null,
   "metadata": {},
   "outputs": [],
   "source": []
  }
 ],
 "metadata": {
  "kernelspec": {
   "display_name": "Python 3",
   "language": "python",
   "name": "python3"
  },
  "language_info": {
   "codemirror_mode": {
    "name": "ipython",
    "version": 3
   },
   "file_extension": ".py",
   "mimetype": "text/x-python",
   "name": "python",
   "nbconvert_exporter": "python",
   "pygments_lexer": "ipython3",
   "version": "3.7.6"
  }
 },
 "nbformat": 4,
 "nbformat_minor": 4
}
