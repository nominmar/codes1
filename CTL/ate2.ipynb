{
 "cells": [
  {
   "cell_type": "code",
   "execution_count": 1,
   "metadata": {},
   "outputs": [],
   "source": [
    "import pandas as pd\n",
    "import numpy as np\n",
    "from random import random\n",
    "\n",
    "from CTL2.causal_tree_learn import CausalTree\n",
    "from DGP.DGP import dgp2\n",
    "from DGP.DGP import dgp4\n",
    "from DGP.DGP import dgp4int\n",
    "from DGP.DGP import dgp8\n",
    "\n",
    "from sklearn.model_selection import train_test_split\n",
    "from sklearn.metrics import mean_squared_error as mse\n",
    "\n",
    "import matplotlib.pyplot as plt\n",
    "import pickle as pkl\n",
    "#from notify_run import Notify \n",
    "#notify = Notify()\n",
    "import datetime\n",
    "\n",
    "from utility.utility import transposer as tp\n",
    "from utility.utility import writer\n",
    "from utility.utility import reader"
   ]
  },
  {
   "cell_type": "markdown",
   "metadata": {},
   "source": [
    "### Parameters:"
   ]
  },
  {
   "cell_type": "markdown",
   "metadata": {},
   "source": [
    "### ATE2"
   ]
  },
  {
   "cell_type": "code",
   "execution_count": 48,
   "metadata": {},
   "outputs": [],
   "source": [
    "def mc_ate2(n, tsize, var_e, reps, nomin_test):\n",
    "    #true ATE\n",
    "    ATE1 = np.ones(reps)*1.5\n",
    "    ATE2 = np.ones(reps)*-1.5\n",
    "    #predicted ATE\n",
    "    ate1 = []\n",
    "    ate2 = []\n",
    "    #ITE dummy\n",
    "    tauhat = np.zeros((tsize, 1))\n",
    "    #true ITE\n",
    "\n",
    "    for i in range(reps):\n",
    "        x_train, x_test, y_train, y_test, treat_train, treat_test = dgp2(n, tsize, var_e)\n",
    "        tau = np.where((x_test[:,0] >= 0),1.5, -1.5)\n",
    "        ctl = CausalTree(honest=True, weight=0.0, split_size=0.0, max_depth = 3) #which type of tree to call\n",
    "        ctl.fit(x_train, y_train, treat_train, nomin_test = nomin_test) #select est size when fitting\n",
    "        ctl.prune()\n",
    "        ctl_predict = ctl.predict(x_test)\n",
    "        #predicted ATE\n",
    "        ate1 = np.append(ate1, np.mean(ctl_predict[np.where(x_test[:,0] >= 0)]))\n",
    "        ate2 = np.append(ate2, np.mean(ctl_predict[np.where(x_test[:,0] < 0)]))\n",
    "        #predicted ITE\n",
    "        tauhat = np.append(tauhat, ctl_predict.reshape(-1,1), axis = 1)\n",
    "\n",
    "    mean_ate = np.array([np.mean(ate1), np.mean(ate2)])    \n",
    "    mse_ate = np.array([mse(ATE1, ate1), mse(ATE2, ate2)])\n",
    "    bias_ate = np.array([np.sum(np.subtract(ATE1,ate1))/reps, np.sum(np.subtract(ATE2,ate2))/reps])\n",
    "    var_ate = np.array([np.var(ate1), np.var(ate2)])\n",
    "\n",
    "    #TOTAL MSE's\n",
    "    ind_var = np.var(tauhat[:, 1:], axis = 1)\n",
    "    ind_mean = np.mean(tauhat, axis = 1)\n",
    "\n",
    "    total_var = np.sum(ind_var)/tsize\n",
    "    total_bias = np.sum(np.square(np.subtract(ind_mean, tau)))/tsize\n",
    "    total_mse = total_var + total_bias\n",
    "\n",
    "    results = np.concatenate([np.array([nomin_test]), mean_ate, bias_ate, var_ate, mse_ate, np.array([total_bias]), np.array([total_var]), np.array([total_mse])])\n",
    "    return results"
   ]
  },
  {
   "cell_type": "code",
   "execution_count": 76,
   "metadata": {},
   "outputs": [
    {
     "name": "stdout",
     "output_type": "stream",
     "text": [
      "start time:  23:04\n",
      "end time:  23:05\n"
     ]
    }
   ],
   "source": [
    "n = 1000\n",
    "tsize = 500\n",
    "reps = 500\n",
    "test_sizes = [0.2, 0.3, 0.4, 0.5, 0.6, 0.7, 0.8]\n",
    "res = []\n",
    "var = [0.01, 1.0, 2.5]\n",
    "\n",
    "print(\"start time: \", str(datetime.datetime.now())[11:16])\n",
    "\n",
    "for v in var:\n",
    "    df = pd.DataFrame()\n",
    "    for size in test_sizes:\n",
    "        results = mc_ate2(n, tsize, v, reps, size)\n",
    "        df = pd.concat([df, pd.DataFrame(results).transpose()])\n",
    "    df.columns=['test_sizes', 'ATE1', 'ATE2', 'BIAS1', 'BIAS2', 'VAR1', 'VAR2', 'MSE1', 'MSE2', 'MSE_T_BIAS', 'MSE_T_VAR', 'MSE_TOTAL']\n",
    "    res.append([v])\n",
    "    res.append([df])\n",
    "    \n",
    "print(\"end time: \", str(datetime.datetime.now())[11:16])"
   ]
  },
  {
   "cell_type": "code",
   "execution_count": 77,
   "metadata": {},
   "outputs": [
    {
     "data": {
      "text/plain": [
       "[[0.01],\n",
       " [   test_sizes      ATE1      ATE2     BIAS1     BIAS2      VAR1      VAR2  \\\n",
       "  0         0.2  1.647573 -1.478776 -0.147573 -0.021224  0.066542  0.245101   \n",
       "  0         0.3  1.655121 -1.537957 -0.155121  0.037957  0.045598  0.229949   \n",
       "  0         0.4  1.418657 -1.420378  0.081343 -0.079622  0.016348  0.172079   \n",
       "  0         0.5  1.565922 -1.569382 -0.065922  0.069382  0.080787  0.019727   \n",
       "  0         0.6  1.230856 -1.627577  0.269144  0.127577  0.069614  0.075625   \n",
       "  0         0.7  1.272454 -1.306883  0.227546 -0.193117  0.190105  0.045871   \n",
       "  0         0.8  1.294532 -1.134064  0.205468 -0.365936  0.073650  0.034548   \n",
       "  \n",
       "         MSE1      MSE2  MSE_T_BIAS  MSE_T_VAR  MSE_TOTAL  \n",
       "  0  0.088320  0.245552    1.535282   2.313963   3.849245  \n",
       "  0  0.069660  0.231389    1.659940   2.322508   3.982448  \n",
       "  0  0.022965  0.178418    1.942561   1.829489   3.772050  \n",
       "  0  0.085133  0.024540    2.091723   2.146626   4.238349  \n",
       "  0  0.142052  0.091901    1.725758   1.831880   3.557638  \n",
       "  0  0.241882  0.083165    1.704832   1.545577   3.250408  \n",
       "  0  0.115867  0.168457    1.679228   1.418602   3.097830  ],\n",
       " [1.0],\n",
       " [   test_sizes      ATE1      ATE2     BIAS1     BIAS2      VAR1      VAR2  \\\n",
       "  0         0.2  1.553100 -1.488499 -0.053100 -0.011501  0.030570  0.194973   \n",
       "  0         0.3  1.102544 -1.200843  0.397456 -0.299157  0.070833  0.109849   \n",
       "  0         0.4  1.393844 -1.533532  0.106156  0.033532  0.097172  0.100987   \n",
       "  0         0.5  1.400458 -1.201257  0.099542 -0.298743  0.154589  0.088648   \n",
       "  0         0.6  1.132403 -1.041947  0.367597 -0.458053  0.208403  0.344944   \n",
       "  0         0.7  1.392752 -1.222622  0.107248 -0.277378  0.105286  0.074258   \n",
       "  0         0.8  1.208113 -1.248018  0.291887 -0.251982  0.160543  0.246713   \n",
       "  \n",
       "         MSE1      MSE2  MSE_T_BIAS  MSE_T_VAR  MSE_TOTAL  \n",
       "  0  0.033390  0.195105    1.614529   2.108652   3.723181  \n",
       "  0  0.228804  0.199344    2.103457   1.412294   3.515751  \n",
       "  0  0.108441  0.102111    1.907425   2.077037   3.984462  \n",
       "  0  0.164498  0.177895    1.777688   1.606922   3.384610  \n",
       "  0  0.343531  0.554757    1.723110   1.411376   3.134486  \n",
       "  0  0.116788  0.151197    1.826421   1.757525   3.583946  \n",
       "  0  0.245741  0.310208    1.817810   1.565348   3.383158  ],\n",
       " [2.5],\n",
       " [   test_sizes      ATE1      ATE2     BIAS1     BIAS2      VAR1      VAR2  \\\n",
       "  0         0.2  1.821600 -1.903445 -0.321600  0.403445  1.184949  1.693653   \n",
       "  0         0.3  1.692793 -1.856062 -0.192793  0.356062  0.461304  0.704014   \n",
       "  0         0.4  1.469740 -1.348571  0.030260 -0.151429  0.176207  0.441844   \n",
       "  0         0.5  0.945811 -1.346433  0.554189 -0.153567  0.440783  0.549834   \n",
       "  0         0.6  0.720923 -0.421886  0.779077 -1.078114  0.699983  0.651581   \n",
       "  0         0.7  1.518943 -1.335490 -0.018943 -0.164510  0.290028  0.282818   \n",
       "  0         0.8  0.742862 -1.454845  0.757138 -0.045155  0.444771  0.624716   \n",
       "  \n",
       "         MSE1      MSE2  MSE_T_BIAS  MSE_T_VAR  MSE_TOTAL  \n",
       "  0  1.288376  1.856421    1.892333   4.862827   6.755160  \n",
       "  0  0.498473  0.830794    2.456095   3.996392   6.452488  \n",
       "  0  0.177123  0.464775    1.971947   2.565706   4.537653  \n",
       "  0  0.747908  0.573417    2.065499   1.681291   3.746790  \n",
       "  0  1.306944  1.813912    1.498477   1.191655   2.690132  \n",
       "  0  0.290387  0.309882    2.306561   2.281523   4.588084  \n",
       "  0  1.018029  0.626755    2.228123   1.731226   3.959350  ]]"
      ]
     },
     "execution_count": 77,
     "metadata": {},
     "output_type": "execute_result"
    }
   ],
   "source": [
    "res"
   ]
  },
  {
   "cell_type": "code",
   "execution_count": null,
   "metadata": {},
   "outputs": [],
   "source": []
  }
 ],
 "metadata": {
  "kernelspec": {
   "display_name": "Python 3",
   "language": "python",
   "name": "python3"
  },
  "language_info": {
   "codemirror_mode": {
    "name": "ipython",
    "version": 3
   },
   "file_extension": ".py",
   "mimetype": "text/x-python",
   "name": "python",
   "nbconvert_exporter": "python",
   "pygments_lexer": "ipython3",
   "version": "3.8.3"
  }
 },
 "nbformat": 4,
 "nbformat_minor": 4
}
