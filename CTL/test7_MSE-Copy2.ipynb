{
 "cells": [
  {
   "cell_type": "code",
   "execution_count": 1,
   "metadata": {},
   "outputs": [],
   "source": [
    "import pandas as pd\n",
    "from CTL2.causal_tree_learn import CausalTree\n",
    "from DGP.dgp2 import dgp2\n",
    "from DGP.dgp1 import dgp1\n",
    "from DGP.dgp3 import dgp3\n",
    "\n",
    "from MC.mc1 import MC_MSE_1\n",
    "from MC.mc2 import MC_MSE_2\n",
    "import timeit\n",
    "from sklearn.model_selection import train_test_split\n",
    "import numpy as np\n",
    "import matplotlib.pyplot as plt\n",
    "from random import random\n",
    "\n",
    "from sklearn.metrics import mean_squared_error as mse\n",
    "\n",
    "import pickle as pkl\n",
    "from knockknock import email_sender\n",
    "from notify_run import Notify \n",
    "notify = Notify() "
   ]
  },
  {
   "cell_type": "code",
   "execution_count": 2,
   "metadata": {},
   "outputs": [],
   "source": [
    "def mcreps_mse_all(reps, n, nomin_test):    \n",
    "    ATE1 = []\n",
    "    ATE0 = []\n",
    "    MSEt = []\n",
    "    true = np.ones(reps)\n",
    "    \n",
    "    for i in range(reps):\n",
    "        x_train, x_test, y_train, y_test, treat_train, treat_test = dgp3(n)\n",
    "        x1 = x_test[:,0]\n",
    "        ctl_predict = MC_MSE_2(x_train, x_test, y_train, y_test, treat_train, treat_test, nomin_test)\n",
    "        ATE1.append(np.mean(ctl_predict[np.where(x1 > 0)]))\n",
    "        ATE0.append(np.mean(ctl_predict[np.where(x1 < 0)]))\n",
    "        MSEt.append(np.sum(np.square(np.subtract(y_test[:,0],ctl_predict)))/n)\n",
    "\n",
    "    mse_total = np.sum(np.array(MSEt))/reps\n",
    "    mse1 = mse(np.array(ATE1),true)\n",
    "    mse2 = mse(np.array(ATE0),true*-1)\n",
    "    bias1 = np.sum(np.subtract(np.array(ATE1),true))/reps\n",
    "    bias2 = np.sum(np.add(np.array(ATE0), true))/reps\n",
    "    var1 = np.var(ATE1)\n",
    "    var2 = np.var(ATE0)\n",
    "    return mse1, mse2, bias1, bias2, var1, var2, mse_total"
   ]
  },
  {
   "cell_type": "code",
   "execution_count": 3,
   "metadata": {},
   "outputs": [],
   "source": []
  },
  {
   "cell_type": "code",
   "execution_count": 4,
   "metadata": {},
   "outputs": [],
   "source": [
    "MSE1 = []\n",
    "MSE2 = []\n",
    "BIAS1 = []\n",
    "BIAS2 = []\n",
    "VAR1 = []\n",
    "VAR2 = []\n",
    "MSE_TOTAL = []\n",
    "\n",
    "test_sizes = [0.25, 0.3, 0.35, 0.4, 0.5, 0.6, 0.7, 0.75]\n",
    "\n",
    "n = 1000\n",
    "reps = 500\n",
    "\n",
    "for size in test_sizes:\n",
    "    mse1, mse2, bias1, bias2, var1, var2, mse_total = mcreps_mse_all(reps,n,size)    \n",
    "    MSE1.append(mse1)\n",
    "    MSE2.append(mse2)\n",
    "    BIAS1.append(bias1)\n",
    "    BIAS2.append(bias2)\n",
    "    VAR1.append(var1)\n",
    "    VAR2.append(var2)\n",
    "    MSE_TOTAL.append(mse_total)\n",
    "    \n",
    "notify.send('Done running the simulations') "
   ]
  },
  {
   "cell_type": "code",
   "execution_count": 5,
   "metadata": {},
   "outputs": [],
   "source": [
    "df = pd.DataFrame([test_sizes, MSE1, MSE2, BIAS1, BIAS2, VAR1, VAR2]).transpose().set_index(0)\n",
    "df.columns=['MSE1', 'MSE2', 'BIAS1', 'BIAS2', 'VAR1', 'VAR2']"
   ]
  },
  {
   "cell_type": "code",
   "execution_count": 6,
   "metadata": {},
   "outputs": [],
   "source": [
    "with open('test_8_500_1000.pkl','wb') as f:\n",
    "    pkl.dump(df, f)"
   ]
  },
  {
   "cell_type": "code",
   "execution_count": 43,
   "metadata": {},
   "outputs": [],
   "source": [
    "with open('test1.pkl','rb') as f:\n",
    "    df = pkl.load(f)"
   ]
  },
  {
   "cell_type": "code",
   "execution_count": 7,
   "metadata": {},
   "outputs": [
    {
     "data": {
      "text/html": [
       "<div>\n",
       "<style scoped>\n",
       "    .dataframe tbody tr th:only-of-type {\n",
       "        vertical-align: middle;\n",
       "    }\n",
       "\n",
       "    .dataframe tbody tr th {\n",
       "        vertical-align: top;\n",
       "    }\n",
       "\n",
       "    .dataframe thead th {\n",
       "        text-align: right;\n",
       "    }\n",
       "</style>\n",
       "<table border=\"1\" class=\"dataframe\">\n",
       "  <thead>\n",
       "    <tr style=\"text-align: right;\">\n",
       "      <th></th>\n",
       "      <th>MSE1</th>\n",
       "      <th>MSE2</th>\n",
       "      <th>BIAS1</th>\n",
       "      <th>BIAS2</th>\n",
       "      <th>VAR1</th>\n",
       "      <th>VAR2</th>\n",
       "    </tr>\n",
       "    <tr>\n",
       "      <th>0</th>\n",
       "      <th></th>\n",
       "      <th></th>\n",
       "      <th></th>\n",
       "      <th></th>\n",
       "      <th></th>\n",
       "      <th></th>\n",
       "    </tr>\n",
       "  </thead>\n",
       "  <tbody>\n",
       "    <tr>\n",
       "      <th>0.25</th>\n",
       "      <td>0.175236</td>\n",
       "      <td>0.189333</td>\n",
       "      <td>-0.070723</td>\n",
       "      <td>0.059330</td>\n",
       "      <td>0.170234</td>\n",
       "      <td>0.185813</td>\n",
       "    </tr>\n",
       "    <tr>\n",
       "      <th>0.30</th>\n",
       "      <td>0.151554</td>\n",
       "      <td>0.168603</td>\n",
       "      <td>-0.094193</td>\n",
       "      <td>0.091370</td>\n",
       "      <td>0.142682</td>\n",
       "      <td>0.160255</td>\n",
       "    </tr>\n",
       "    <tr>\n",
       "      <th>0.35</th>\n",
       "      <td>0.132250</td>\n",
       "      <td>0.129276</td>\n",
       "      <td>-0.108429</td>\n",
       "      <td>0.104286</td>\n",
       "      <td>0.120493</td>\n",
       "      <td>0.118401</td>\n",
       "    </tr>\n",
       "    <tr>\n",
       "      <th>0.40</th>\n",
       "      <td>0.102029</td>\n",
       "      <td>0.097635</td>\n",
       "      <td>-0.103664</td>\n",
       "      <td>0.083333</td>\n",
       "      <td>0.091283</td>\n",
       "      <td>0.090691</td>\n",
       "    </tr>\n",
       "    <tr>\n",
       "      <th>0.50</th>\n",
       "      <td>0.092636</td>\n",
       "      <td>0.090115</td>\n",
       "      <td>-0.109672</td>\n",
       "      <td>0.101280</td>\n",
       "      <td>0.080608</td>\n",
       "      <td>0.079857</td>\n",
       "    </tr>\n",
       "    <tr>\n",
       "      <th>0.60</th>\n",
       "      <td>0.079619</td>\n",
       "      <td>0.097760</td>\n",
       "      <td>-0.110954</td>\n",
       "      <td>0.142834</td>\n",
       "      <td>0.067309</td>\n",
       "      <td>0.077359</td>\n",
       "    </tr>\n",
       "    <tr>\n",
       "      <th>0.70</th>\n",
       "      <td>0.113973</td>\n",
       "      <td>0.116840</td>\n",
       "      <td>-0.194392</td>\n",
       "      <td>0.205625</td>\n",
       "      <td>0.076185</td>\n",
       "      <td>0.074559</td>\n",
       "    </tr>\n",
       "    <tr>\n",
       "      <th>0.75</th>\n",
       "      <td>0.139793</td>\n",
       "      <td>0.128258</td>\n",
       "      <td>-0.239417</td>\n",
       "      <td>0.228907</td>\n",
       "      <td>0.082473</td>\n",
       "      <td>0.075859</td>\n",
       "    </tr>\n",
       "  </tbody>\n",
       "</table>\n",
       "</div>"
      ],
      "text/plain": [
       "          MSE1      MSE2     BIAS1     BIAS2      VAR1      VAR2\n",
       "0                                                               \n",
       "0.25  0.175236  0.189333 -0.070723  0.059330  0.170234  0.185813\n",
       "0.30  0.151554  0.168603 -0.094193  0.091370  0.142682  0.160255\n",
       "0.35  0.132250  0.129276 -0.108429  0.104286  0.120493  0.118401\n",
       "0.40  0.102029  0.097635 -0.103664  0.083333  0.091283  0.090691\n",
       "0.50  0.092636  0.090115 -0.109672  0.101280  0.080608  0.079857\n",
       "0.60  0.079619  0.097760 -0.110954  0.142834  0.067309  0.077359\n",
       "0.70  0.113973  0.116840 -0.194392  0.205625  0.076185  0.074559\n",
       "0.75  0.139793  0.128258 -0.239417  0.228907  0.082473  0.075859"
      ]
     },
     "execution_count": 7,
     "metadata": {},
     "output_type": "execute_result"
    }
   ],
   "source": [
    "df"
   ]
  },
  {
   "cell_type": "code",
   "execution_count": 8,
   "metadata": {},
   "outputs": [
    {
     "data": {
      "text/plain": [
       "[<matplotlib.lines.Line2D at 0x25f90337bc8>]"
      ]
     },
     "execution_count": 8,
     "metadata": {},
     "output_type": "execute_result"
    },
    {
     "data": {
      "image/png": "[encoded data removed]",
      "text/plain": [
       "<Figure size 432x288 with 1 Axes>"
      ]
     },
     "metadata": {
      "needs_background": "light"
     },
     "output_type": "display_data"
    }
   ],
   "source": [
    "plt.plot(df['MSE1'])\n",
    "plt.plot(df['MSE2'])"
   ]
  },
  {
   "cell_type": "code",
   "execution_count": 9,
   "metadata": {},
   "outputs": [
    {
     "data": {
      "text/plain": [
       "[<matplotlib.lines.Line2D at 0x25f8fbeaf08>]"
      ]
     },
     "execution_count": 9,
     "metadata": {},
     "output_type": "execute_result"
    },
    {
     "data": {
      "image/png": "[encoded data removed]",
      "text/plain": [
       "<Figure size 432x288 with 1 Axes>"
      ]
     },
     "metadata": {
      "needs_background": "light"
     },
     "output_type": "display_data"
    }
   ],
   "source": [
    "plt.plot(test_sizes, BIAS1)\n",
    "plt.plot(test_sizes, BIAS2)"
   ]
  },
  {
   "cell_type": "code",
   "execution_count": 10,
   "metadata": {},
   "outputs": [
    {
     "data": {
      "text/plain": [
       "[<matplotlib.lines.Line2D at 0x25f8fc17708>]"
      ]
     },
     "execution_count": 10,
     "metadata": {},
     "output_type": "execute_result"
    },
    {
     "data": {
      "image/png": "[encoded data removed]",
      "text/plain": [
       "<Figure size 432x288 with 1 Axes>"
      ]
     },
     "metadata": {
      "needs_background": "light"
     },
     "output_type": "display_data"
    }
   ],
   "source": [
    "plt.plot(test_sizes, VAR1)\n",
    "plt.plot(test_sizes, VAR2)"
   ]
  },
  {
   "cell_type": "code",
   "execution_count": 11,
   "metadata": {},
   "outputs": [
    {
     "data": {
      "text/plain": [
       "[<matplotlib.lines.Line2D at 0x25f90484708>]"
      ]
     },
     "execution_count": 11,
     "metadata": {},
     "output_type": "execute_result"
    },
    {
     "data": {
      "image/png": "[encoded data removed]",
      "text/plain": [
       "<Figure size 432x288 with 1 Axes>"
      ]
     },
     "metadata": {
      "needs_background": "light"
     },
     "output_type": "display_data"
    }
   ],
   "source": [
    "plt.plot(test_sizes, MSE_TOTAL)"
   ]
  },
  {
   "cell_type": "code",
   "execution_count": 55,
   "metadata": {},
   "outputs": [
    {
     "name": "stdout",
     "output_type": "stream",
     "text": [
      "done\n",
      "done\n",
      "done\n",
      "done\n",
      "done\n"
     ]
    }
   ],
   "source": [
    "test_sizes = [0.2, 0.25, 0.3, 0.4, 0.5]\n",
    "\n",
    "MSE1 = []\n",
    "MSE2 = []\n",
    "\n",
    "n = 1000\n",
    "reps = 100\n",
    "nomin_test = 0.5\n",
    "\n",
    "for size in test_sizes:\n",
    "    mse1, mse2 = mcreps2(reps,n,nomin_test)\n",
    "    MSE1.append(mse1)\n",
    "    MSE2.append(mse2)"
   ]
  },
  {
   "cell_type": "code",
   "execution_count": 13,
   "metadata": {},
   "outputs": [
    {
     "data": {
      "text/plain": [
       "[<matplotlib.lines.Line2D at 0x23d78ba0610>]"
      ]
     },
     "execution_count": 13,
     "metadata": {},
     "output_type": "execute_result"
    },
    {
     "data": {
      "image/png": "[encoded data removed]",
      "text/plain": [
       "<Figure size 432x288 with 1 Axes>"
      ]
     },
     "metadata": {
      "needs_background": "light"
     },
     "output_type": "display_data"
    }
   ],
   "source": [
    "plt.plot(test_sizes, MSE1)\n",
    "plt.plot(test_sizes, MSE2)"
   ]
  },
  {
   "cell_type": "code",
   "execution_count": null,
   "metadata": {},
   "outputs": [
    {
     "name": "stdout",
     "output_type": "stream",
     "text": [
      "done\n",
      "done\n"
     ]
    }
   ],
   "source": [
    "test_sizes = [0.2, 0.3, 0.5, 0.7]\n",
    "\n",
    "MSE1 = []\n",
    "MSE2 = []\n",
    "\n",
    "n = 1000\n",
    "reps = 100\n",
    "nomin_test = 0.5\n",
    "\n",
    "for size in test_sizes:\n",
    "    mse1, mse2 = mcreps2(reps,n,nomin_test)\n",
    "    MSE1.append(mse1)\n",
    "    MSE2.append(mse2)"
   ]
  }
 ],
 "metadata": {
  "kernelspec": {
   "display_name": "Python 3",
   "language": "python",
   "name": "python3"
  },
  "language_info": {
   "codemirror_mode": {
    "name": "ipython",
    "version": 3
   },
   "file_extension": ".py",
   "mimetype": "text/x-python",
   "name": "python",
   "nbconvert_exporter": "python",
   "pygments_lexer": "ipython3",
   "version": "3.7.6"
  }
 },
 "nbformat": 4,
 "nbformat_minor": 4
}
